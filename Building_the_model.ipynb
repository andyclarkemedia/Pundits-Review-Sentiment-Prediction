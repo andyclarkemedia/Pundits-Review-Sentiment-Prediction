{
 "cells": [
  {
   "cell_type": "markdown",
   "metadata": {},
   "source": [
    "## Building the Model"
   ]
  },
  {
   "cell_type": "markdown",
   "metadata": {},
   "source": [
    "## Tasks"
   ]
  },
  {
   "cell_type": "markdown",
   "metadata": {},
   "source": [
    "- Test & record accuracy with:\n",
    "> - N-grams\n",
    "> - TfIdf\n",
    "> - Random Forest\n",
    "> - Naive Bayes"
   ]
  },
  {
   "cell_type": "markdown",
   "metadata": {},
   "source": [
    "## Outcomes"
   ]
  },
  {
   "cell_type": "markdown",
   "metadata": {},
   "source": [
    "- Tables comparing Accuracy Scores "
   ]
  },
  {
   "cell_type": "markdown",
   "metadata": {},
   "source": [
    "- Visualisations to compare Accuracy Scores"
   ]
  },
  {
   "cell_type": "markdown",
   "metadata": {},
   "source": [
    "------"
   ]
  },
  {
   "cell_type": "markdown",
   "metadata": {},
   "source": [
    "### Import Pandas and Set Options"
   ]
  },
  {
   "cell_type": "code",
   "execution_count": 1,
   "metadata": {},
   "outputs": [],
   "source": [
    "import pandas as pd\n",
    "pd.set_option('display.max_rows', None)\n",
    "pd.set_option('display.max_columns', None)\n",
    "pd.set_option('display.width', None)\n",
    "pd.set_option('display.max_colwidth', -1)"
   ]
  },
  {
   "cell_type": "markdown",
   "metadata": {},
   "source": [
    "### Read the data"
   ]
  },
  {
   "cell_type": "code",
   "execution_count": 2,
   "metadata": {},
   "outputs": [],
   "source": [
    "df = pd.read_csv('football_sentiment_training_data.csv', engine=\"python\")"
   ]
  },
  {
   "cell_type": "code",
   "execution_count": 3,
   "metadata": {},
   "outputs": [
    {
     "data": {
      "text/plain": [
       "1050000"
      ]
     },
     "execution_count": 3,
     "metadata": {},
     "output_type": "execute_result"
    }
   ],
   "source": [
    "len(df)"
   ]
  },
  {
   "cell_type": "markdown",
   "metadata": {},
   "source": [
    "### Remove None Type Rows"
   ]
  },
  {
   "cell_type": "code",
   "execution_count": 4,
   "metadata": {},
   "outputs": [],
   "source": [
    "df = df.dropna()"
   ]
  },
  {
   "cell_type": "markdown",
   "metadata": {},
   "source": [
    "### Add Numeric Columns to represent sentiment\n",
    "- 0 = Negative\n",
    "- 1 = Neutral\n",
    "- 2 = Positive"
   ]
  },
  {
   "cell_type": "code",
   "execution_count": 5,
   "metadata": {},
   "outputs": [],
   "source": [
    "def sentiment_numbers(x):\n",
    "    \n",
    "    if str(x) == \"NEGATIVE\":\n",
    "        return 0\n",
    "    elif str(x) == \"NEUTRAL\":\n",
    "        return 1\n",
    "    elif str(x) == \"POSITIVE\":\n",
    "        return 2"
   ]
  },
  {
   "cell_type": "code",
   "execution_count": 6,
   "metadata": {},
   "outputs": [],
   "source": [
    "df['sentiment_number'] = df['sentiment'].apply(sentiment_numbers)"
   ]
  },
  {
   "cell_type": "markdown",
   "metadata": {},
   "source": [
    "-----"
   ]
  },
  {
   "cell_type": "markdown",
   "metadata": {},
   "source": [
    "### Vectorizer"
   ]
  },
  {
   "cell_type": "markdown",
   "metadata": {},
   "source": [
    "Try out different vectorisation methods here including *TfIdf*"
   ]
  },
  {
   "cell_type": "markdown",
   "metadata": {},
   "source": [
    "Try out different n_gram ranges"
   ]
  },
  {
   "cell_type": "code",
   "execution_count": 7,
   "metadata": {},
   "outputs": [],
   "source": [
    "from sklearn.feature_extraction.text import CountVectorizer\n",
    "from sklearn.feature_extraction.text import TfidfVectorizer"
   ]
  },
  {
   "cell_type": "code",
   "execution_count": 270,
   "metadata": {},
   "outputs": [],
   "source": [
    "# Declare Vectorizer\n",
    "vect = TfidfVectorizer(binary=True, ngram_range=(3,3))"
   ]
  },
  {
   "cell_type": "code",
   "execution_count": 272,
   "metadata": {},
   "outputs": [
    {
     "data": {
      "text/plain": [
       "TfidfVectorizer(analyzer='word', binary=True, decode_error='strict',\n",
       "        dtype=<class 'numpy.float64'>, encoding='utf-8', input='content',\n",
       "        lowercase=True, max_df=1.0, max_features=None, min_df=1,\n",
       "        ngram_range=(3, 3), norm='l2', preprocessor=None, smooth_idf=True,\n",
       "        stop_words=None, strip_accents=None, sublinear_tf=False,\n",
       "        token_pattern='(?u)\\\\b\\\\w\\\\w+\\\\b', tokenizer=None, use_idf=True,\n",
       "        vocabulary=None)"
      ]
     },
     "execution_count": 272,
     "metadata": {},
     "output_type": "execute_result"
    }
   ],
   "source": [
    "# Fit Vectorizer\n",
    "vect.fit(df['clean'])"
   ]
  },
  {
   "cell_type": "code",
   "execution_count": 273,
   "metadata": {},
   "outputs": [],
   "source": [
    "# Transform Vectorizer\n",
    "X = vect.transform(df['clean'])"
   ]
  },
  {
   "cell_type": "markdown",
   "metadata": {},
   "source": [
    "-----"
   ]
  },
  {
   "cell_type": "markdown",
   "metadata": {},
   "source": [
    "### Build the Classifier "
   ]
  },
  {
   "cell_type": "markdown",
   "metadata": {},
   "source": [
    "Uses a Logistic Regression model but will need to test on different Classifiers"
   ]
  },
  {
   "cell_type": "code",
   "execution_count": 274,
   "metadata": {},
   "outputs": [],
   "source": [
    "from sklearn.linear_model import LogisticRegression\n",
    "from sklearn.ensemble import RandomForestRegressor\n",
    "from sklearn.svm import LinearSVC\n",
    "from sklearn.model_selection import train_test_split\n",
    "from sklearn.metrics import accuracy_score, confusion_matrix"
   ]
  },
  {
   "cell_type": "markdown",
   "metadata": {},
   "source": [
    "#### Declare target / labels"
   ]
  },
  {
   "cell_type": "code",
   "execution_count": 275,
   "metadata": {},
   "outputs": [],
   "source": [
    "target = df['sentiment']"
   ]
  },
  {
   "cell_type": "markdown",
   "metadata": {},
   "source": [
    "#### Split Train | Test Data"
   ]
  },
  {
   "cell_type": "code",
   "execution_count": 276,
   "metadata": {},
   "outputs": [],
   "source": [
    "# Test size = 0.25 | Train size = 0.75\n",
    "X_train, X_test, y_train, y_test = train_test_split(X, target, test_size = 0.25, random_state=123)"
   ]
  },
  {
   "cell_type": "markdown",
   "metadata": {},
   "source": [
    "#### Find Optimal C Value for Logistic Regression"
   ]
  },
  {
   "cell_type": "code",
   "execution_count": 278,
   "metadata": {},
   "outputs": [
    {
     "name": "stdout",
     "output_type": "stream",
     "text": [
      "Accuracy for C=1: 0.6108322566629698\n"
     ]
    }
   ],
   "source": [
    "for c in [1]:\n",
    "    lr = LinearSVC(C=c)\n",
    "    lr.fit(X_train, y_train)\n",
    "    print (\"Accuracy for C=%s: %s\" \n",
    "           % (c, accuracy_score(y_test, lr.predict(X_test))))"
   ]
  },
  {
   "cell_type": "markdown",
   "metadata": {},
   "source": [
    "#### Build model using optimal C"
   ]
  },
  {
   "cell_type": "code",
   "execution_count": 279,
   "metadata": {},
   "outputs": [],
   "source": [
    "lr = LinearSVC(C=0.5)"
   ]
  },
  {
   "cell_type": "code",
   "execution_count": 280,
   "metadata": {},
   "outputs": [
    {
     "data": {
      "text/plain": [
       "LinearSVC(C=0.5, class_weight=None, dual=True, fit_intercept=True,\n",
       "     intercept_scaling=1, loss='squared_hinge', max_iter=1000,\n",
       "     multi_class='ovr', penalty='l2', random_state=None, tol=0.0001,\n",
       "     verbose=0)"
      ]
     },
     "execution_count": 280,
     "metadata": {},
     "output_type": "execute_result"
    }
   ],
   "source": [
    "# Fitting Logistic Regression model on training data - Takes time!!\n",
    "lr.fit(X_train, y_train)"
   ]
  },
  {
   "cell_type": "markdown",
   "metadata": {},
   "source": [
    "#### Print Accuracy Score"
   ]
  },
  {
   "cell_type": "code",
   "execution_count": 281,
   "metadata": {},
   "outputs": [
    {
     "name": "stdout",
     "output_type": "stream",
     "text": [
      "Accuracy Score: 0.61\n"
     ]
    }
   ],
   "source": [
    "print(\"Accuracy Score: {:.2f}\".format(lr.score(X_test, y_test)))"
   ]
  },
  {
   "cell_type": "markdown",
   "metadata": {},
   "source": [
    "#### Confusion matrix / Precision Scores"
   ]
  },
  {
   "cell_type": "code",
   "execution_count": 282,
   "metadata": {},
   "outputs": [],
   "source": [
    "from sklearn.metrics import classification_report"
   ]
  },
  {
   "cell_type": "code",
   "execution_count": 283,
   "metadata": {},
   "outputs": [],
   "source": [
    "# Predicted Values\n",
    "y_pred = lr.predict(X_test)"
   ]
  },
  {
   "cell_type": "code",
   "execution_count": 284,
   "metadata": {},
   "outputs": [
    {
     "name": "stdout",
     "output_type": "stream",
     "text": [
      "              precision    recall  f1-score   support\n",
      "\n",
      "    NEGATIVE       0.67      0.59      0.63     87204\n",
      "     NEUTRAL       0.51      0.70      0.59     87986\n",
      "    POSITIVE       0.73      0.55      0.63     87193\n",
      "\n",
      "   micro avg       0.61      0.61      0.61    262383\n",
      "   macro avg       0.64      0.61      0.61    262383\n",
      "weighted avg       0.64      0.61      0.61    262383\n",
      "\n"
     ]
    }
   ],
   "source": [
    "print(classification_report(y_test, y_pred))"
   ]
  },
  {
   "cell_type": "markdown",
   "metadata": {},
   "source": [
    "-----"
   ]
  },
  {
   "cell_type": "markdown",
   "metadata": {},
   "source": [
    "-----"
   ]
  },
  {
   "cell_type": "markdown",
   "metadata": {},
   "source": [
    "## Save and Export Model & Vectorizer"
   ]
  },
  {
   "cell_type": "code",
   "execution_count": 286,
   "metadata": {},
   "outputs": [],
   "source": [
    "import pickle"
   ]
  },
  {
   "cell_type": "markdown",
   "metadata": {},
   "source": [
    "#### Model"
   ]
  },
  {
   "cell_type": "code",
   "execution_count": 287,
   "metadata": {},
   "outputs": [],
   "source": [
    "# Specify Filename\n",
    "filename = 'SVC_tfidf_3_3.sav'"
   ]
  },
  {
   "cell_type": "code",
   "execution_count": 288,
   "metadata": {},
   "outputs": [],
   "source": [
    "# Open new file\n",
    "outfile = open(filename,'wb')"
   ]
  },
  {
   "cell_type": "code",
   "execution_count": 289,
   "metadata": {},
   "outputs": [],
   "source": [
    "# Dump model into new file\n",
    "pickle.dump(lr, outfile)"
   ]
  },
  {
   "cell_type": "code",
   "execution_count": 290,
   "metadata": {},
   "outputs": [],
   "source": [
    "# Close the file\n",
    "outfile.close()"
   ]
  },
  {
   "cell_type": "markdown",
   "metadata": {},
   "source": [
    "#### Vectorizer"
   ]
  },
  {
   "cell_type": "code",
   "execution_count": 135,
   "metadata": {},
   "outputs": [],
   "source": [
    "# Specify Filename\n",
    "#filename_vect = \"tfidf_3_3.sav\""
   ]
  },
  {
   "cell_type": "code",
   "execution_count": 136,
   "metadata": {},
   "outputs": [],
   "source": [
    "# Open new file\n",
    "#outfile_vect = open(filename_vect,'wb')"
   ]
  },
  {
   "cell_type": "code",
   "execution_count": 137,
   "metadata": {},
   "outputs": [],
   "source": [
    "# Dump model into new file\n",
    "#pickle.dump(vect, outfile_vect)"
   ]
  },
  {
   "cell_type": "code",
   "execution_count": 138,
   "metadata": {},
   "outputs": [],
   "source": [
    "# Close the file\n",
    "#outfile.close()"
   ]
  },
  {
   "cell_type": "markdown",
   "metadata": {},
   "source": [
    "------"
   ]
  },
  {
   "cell_type": "markdown",
   "metadata": {},
   "source": [
    " ------"
   ]
  },
  {
   "cell_type": "markdown",
   "metadata": {},
   "source": [
    "### Define Function to Predict Sentiment of Unseen Data"
   ]
  },
  {
   "cell_type": "code",
   "execution_count": 113,
   "metadata": {},
   "outputs": [],
   "source": [
    "from nltk.tokenize import sent_tokenize\n",
    "from nltk.tokenize import word_tokenize\n",
    "from nltk.stem import WordNetLemmatizer "
   ]
  },
  {
   "cell_type": "code",
   "execution_count": 114,
   "metadata": {},
   "outputs": [],
   "source": [
    "import stopwords"
   ]
  },
  {
   "cell_type": "code",
   "execution_count": 115,
   "metadata": {},
   "outputs": [],
   "source": [
    "stop_words = stopwords.stopwords()"
   ]
  },
  {
   "cell_type": "code",
   "execution_count": 126,
   "metadata": {},
   "outputs": [],
   "source": [
    "def sentiment_prob(input):\n",
    "    \n",
    "    #lemmatize input\n",
    "    lemmatized_result = \" \".join([WordNetLemmatizer().lemmatize(word) for word in word_tokenize(input) if word not in stop_words])\n",
    "    \n",
    "    #Tokenize the sentences\n",
    "    sentences = sent_tokenize(input)\n",
    "    lemmatized_tokens = sent_tokenize(lemmatized_result)\n",
    "    \n",
    "    #Remove Stopwords & Lemmatize\n",
    "    #no_stopwords = ' '.join([word for word in input if word not in (ENGLISH_STOP_WORDS)])\n",
    "    \n",
    "    # Predictions\n",
    "    predictions = pd.DataFrame(lr.decision_function((vect.transform(lemmatized_tokens))))\n",
    "    \n",
    "    # Create DataFrame\n",
    "    predictions['sentences'] = lemmatized_tokens\n",
    "    \n",
    "    # Rename Cols\n",
    "    predictions = predictions.rename(columns={0: \"negative_prob\", 1: \"neutral_prob\", 2: \"positive_prob\"})\n",
    "    \n",
    "    # Declare Threshold\n",
    "    threshold = 0.55\n",
    "    \n",
    "    # Sentiment List\n",
    "    sentiment_list = []\n",
    "    \n",
    "    # Determine sentiment \n",
    "    # Need to change again for Logistic Regression\n",
    "    \n",
    "    for index, row in predictions.iterrows():\n",
    "        if row['negative_prob'] > row['positive_prob'] and row['negative_prob'] > row['neutral_prob']:\n",
    "            sentiment_list.append(\"negative\")\n",
    "        elif row['positive_prob'] > row['negative_prob'] and row['positive_prob'] > row['neutral_prob']:\n",
    "            sentiment_list.append(\"positive\")\n",
    "        else:\n",
    "            sentiment_list.append(\"neutral\")\n",
    "            \n",
    "    predictions['sentiment'] = sentiment_list\n",
    "    \n",
    "    return predictions;"
   ]
  },
  {
   "cell_type": "code",
   "execution_count": 121,
   "metadata": {},
   "outputs": [
    {
     "data": {
      "text/html": [
       "<div>\n",
       "<style scoped>\n",
       "    .dataframe tbody tr th:only-of-type {\n",
       "        vertical-align: middle;\n",
       "    }\n",
       "\n",
       "    .dataframe tbody tr th {\n",
       "        vertical-align: top;\n",
       "    }\n",
       "\n",
       "    .dataframe thead th {\n",
       "        text-align: right;\n",
       "    }\n",
       "</style>\n",
       "<table border=\"1\" class=\"dataframe\">\n",
       "  <thead>\n",
       "    <tr style=\"text-align: right;\">\n",
       "      <th></th>\n",
       "      <th>0</th>\n",
       "      <th>sentences</th>\n",
       "    </tr>\n",
       "  </thead>\n",
       "  <tbody>\n",
       "    <tr>\n",
       "      <th>0</th>\n",
       "      <td>NEGATIVE</td>\n",
       "      <td>It's fair to say the signing of Ighalo wasn't the most popular in United's history at the time, but the Nigerian has gone on to prove an awful lot of people wrong.</td>\n",
       "    </tr>\n",
       "    <tr>\n",
       "      <th>1</th>\n",
       "      <td>NEUTRAL</td>\n",
       "      <td>The 30-year-old grabbed his fourth goal in United colours, and displayed some delightfully silky footwork to take the ball past the defender before thumping a strike into the top corner.</td>\n",
       "    </tr>\n",
       "    <tr>\n",
       "      <th>2</th>\n",
       "      <td>NEUTRAL</td>\n",
       "      <td>Ighalo is proving that he is much more than the target man to lump balls up to that some people had suggested, and if he continues this rich vein of form he could end up being one of the most shrewd signings of the whole season.r the Bundesliga title is likely to return to its perennial destination.</td>\n",
       "    </tr>\n",
       "  </tbody>\n",
       "</table>\n",
       "</div>"
      ],
      "text/plain": [
       "          0  \\\n",
       "0  NEGATIVE   \n",
       "1  NEUTRAL    \n",
       "2  NEUTRAL    \n",
       "\n",
       "                                                                                                                                                                                                                                                                                                      sentences  \n",
       "0   It's fair to say the signing of Ighalo wasn't the most popular in United's history at the time, but the Nigerian has gone on to prove an awful lot of people wrong.                                                                                                                                          \n",
       "1  The 30-year-old grabbed his fourth goal in United colours, and displayed some delightfully silky footwork to take the ball past the defender before thumping a strike into the top corner.                                                                                                                    \n",
       "2  Ighalo is proving that he is much more than the target man to lump balls up to that some people had suggested, and if he continues this rich vein of form he could end up being one of the most shrewd signings of the whole season.r the Bundesliga title is likely to return to its perennial destination.  "
      ]
     },
     "execution_count": 121,
     "metadata": {},
     "output_type": "execute_result"
    }
   ],
   "source": [
    "sentiment(\"\"\" It's fair to say the signing of Ighalo wasn't the most popular in United's history at the time, but the Nigerian has gone on to prove an awful lot of people wrong.\n",
    "\n",
    "The 30-year-old grabbed his fourth goal in United colours, and displayed some delightfully silky footwork to take the ball past the defender before thumping a strike into the top corner.\n",
    "\n",
    "Ighalo is proving that he is much more than the target man to lump balls up to that some people had suggested, and if he continues this rich vein of form he could end up being one of the most shrewd signings of the whole season.r the Bundesliga title is likely to return to its perennial destination.\n",
    " \"\"\")"
   ]
  },
  {
   "cell_type": "code",
   "execution_count": 128,
   "metadata": {},
   "outputs": [
    {
     "data": {
      "text/html": [
       "<div>\n",
       "<style scoped>\n",
       "    .dataframe tbody tr th:only-of-type {\n",
       "        vertical-align: middle;\n",
       "    }\n",
       "\n",
       "    .dataframe tbody tr th {\n",
       "        vertical-align: top;\n",
       "    }\n",
       "\n",
       "    .dataframe thead th {\n",
       "        text-align: right;\n",
       "    }\n",
       "</style>\n",
       "<table border=\"1\" class=\"dataframe\">\n",
       "  <thead>\n",
       "    <tr style=\"text-align: right;\">\n",
       "      <th></th>\n",
       "      <th>negative_prob</th>\n",
       "      <th>neutral_prob</th>\n",
       "      <th>positive_prob</th>\n",
       "      <th>sentences</th>\n",
       "      <th>sentiment</th>\n",
       "    </tr>\n",
       "  </thead>\n",
       "  <tbody>\n",
       "    <tr>\n",
       "      <th>0</th>\n",
       "      <td>-3.221297</td>\n",
       "      <td>1.023393</td>\n",
       "      <td>0.021843</td>\n",
       "      <td>`` Early goal from Mason Mount Pedro Chelsea commanding lead Everton Carlo Ancelotti 's men recovered from , Chelsea made light work Everton dominant victory Stamford Bridge Sunday .</td>\n",
       "      <td>neutral</td>\n",
       "    </tr>\n",
       "    <tr>\n",
       "      <th>1</th>\n",
       "      <td>-0.603206</td>\n",
       "      <td>0.496868</td>\n",
       "      <td>-1.353648</td>\n",
       "      <td>, The Blues took 14th-minute lead after Mason Mount controlled Pedro 's pas turn firing hard low past Jordan Pickford near post .</td>\n",
       "      <td>neutral</td>\n",
       "    </tr>\n",
       "    <tr>\n",
       "      <th>2</th>\n",
       "      <td>-1.901474</td>\n",
       "      <td>0.513729</td>\n",
       "      <td>0.153273</td>\n",
       "      <td>, Soon after Pedro got his scoresheet , racing clear Toffees ' defence finish past Pickford double advantage .</td>\n",
       "      <td>neutral</td>\n",
       "    </tr>\n",
       "    <tr>\n",
       "      <th>3</th>\n",
       "      <td>-0.308802</td>\n",
       "      <td>0.207838</td>\n",
       "      <td>-0.929148</td>\n",
       "      <td>, Willian game doubt just five minute second half drilled 25-yard shot far corner .</td>\n",
       "      <td>neutral</td>\n",
       "    </tr>\n",
       "    <tr>\n",
       "      <th>4</th>\n",
       "      <td>-1.549574</td>\n",
       "      <td>1.060306</td>\n",
       "      <td>-0.961700</td>\n",
       "      <td>The Brazilian turned provider with curling cross far post Olivier Giroud tucked away , Everton sank trace .</td>\n",
       "      <td>neutral</td>\n",
       "    </tr>\n",
       "    <tr>\n",
       "      <th>5</th>\n",
       "      <td>-1.362039</td>\n",
       "      <td>1.384647</td>\n",
       "      <td>-1.579144</td>\n",
       "      <td>Here John Cross 's rating from Stamford Bridge .</td>\n",
       "      <td>neutral</td>\n",
       "    </tr>\n",
       "    <tr>\n",
       "      <th>6</th>\n",
       "      <td>-0.922641</td>\n",
       "      <td>-0.458226</td>\n",
       "      <td>0.325058</td>\n",
       "      <td>Arrizabalaga 7 , Back starting line-up , looked good .</td>\n",
       "      <td>positive</td>\n",
       "    </tr>\n",
       "    <tr>\n",
       "      <th>7</th>\n",
       "      <td>-0.629636</td>\n",
       "      <td>0.231492</td>\n",
       "      <td>-0.609062</td>\n",
       "      <td>Does future , after all ?</td>\n",
       "      <td>neutral</td>\n",
       "    </tr>\n",
       "    <tr>\n",
       "      <th>8</th>\n",
       "      <td>-0.557152</td>\n",
       "      <td>-0.969400</td>\n",
       "      <td>0.325402</td>\n",
       "      <td>, Azpilicueta 6 , Solid defence , did not offer much going forward reliable .</td>\n",
       "      <td>positive</td>\n",
       "    </tr>\n",
       "    <tr>\n",
       "      <th>9</th>\n",
       "      <td>-2.017886</td>\n",
       "      <td>-0.000682</td>\n",
       "      <td>0.637651</td>\n",
       "      <td>Rudiger 7 , Rock solid , used his pace kept Everton ’ s forward quiet .</td>\n",
       "      <td>positive</td>\n",
       "    </tr>\n",
       "    <tr>\n",
       "      <th>10</th>\n",
       "      <td>-1.010677</td>\n",
       "      <td>0.028041</td>\n",
       "      <td>-0.271500</td>\n",
       "      <td>Zouma 7 , Surprise pick , early wobble looked strong from .</td>\n",
       "      <td>neutral</td>\n",
       "    </tr>\n",
       "    <tr>\n",
       "      <th>11</th>\n",
       "      <td>-1.556490</td>\n",
       "      <td>-1.076293</td>\n",
       "      <td>1.322977</td>\n",
       "      <td>Alonso 7 , Had good game , linked overlapped nicely from left back .</td>\n",
       "      <td>positive</td>\n",
       "    </tr>\n",
       "    <tr>\n",
       "      <th>12</th>\n",
       "      <td>-1.240748</td>\n",
       "      <td>0.322572</td>\n",
       "      <td>-0.363227</td>\n",
       "      <td>Barkley 8 , Big performance against old club .</td>\n",
       "      <td>neutral</td>\n",
       "    </tr>\n",
       "    <tr>\n",
       "      <th>13</th>\n",
       "      <td>-0.996117</td>\n",
       "      <td>-0.189970</td>\n",
       "      <td>0.090482</td>\n",
       "      <td>Two assist last laugh .</td>\n",
       "      <td>positive</td>\n",
       "    </tr>\n",
       "    <tr>\n",
       "      <th>14</th>\n",
       "      <td>-1.229554</td>\n",
       "      <td>0.230613</td>\n",
       "      <td>-0.218601</td>\n",
       "      <td>Gilmour 7 , When Roy Keane call you world class , you special .</td>\n",
       "      <td>neutral</td>\n",
       "    </tr>\n",
       "    <tr>\n",
       "      <th>15</th>\n",
       "      <td>-0.848049</td>\n",
       "      <td>0.436223</td>\n",
       "      <td>-0.578307</td>\n",
       "      <td>He .</td>\n",
       "      <td>neutral</td>\n",
       "    </tr>\n",
       "    <tr>\n",
       "      <th>16</th>\n",
       "      <td>-2.087679</td>\n",
       "      <td>-0.418508</td>\n",
       "      <td>0.992026</td>\n",
       "      <td>Mount 7 , Well taken goal , back his lively best going off injured .</td>\n",
       "      <td>positive</td>\n",
       "    </tr>\n",
       "    <tr>\n",
       "      <th>17</th>\n",
       "      <td>-1.077718</td>\n",
       "      <td>0.673622</td>\n",
       "      <td>-0.702498</td>\n",
       "      <td>Pedro 8 , MotM .</td>\n",
       "      <td>neutral</td>\n",
       "    </tr>\n",
       "    <tr>\n",
       "      <th>18</th>\n",
       "      <td>-2.124011</td>\n",
       "      <td>-1.428735</td>\n",
       "      <td>1.815579</td>\n",
       "      <td>His best game for age , taken goal wa excellent overall .</td>\n",
       "      <td>positive</td>\n",
       "    </tr>\n",
       "    <tr>\n",
       "      <th>19</th>\n",
       "      <td>-0.400343</td>\n",
       "      <td>0.215599</td>\n",
       "      <td>-1.057414</td>\n",
       "      <td>Willian 7 , Electric pace , scored dangerous .</td>\n",
       "      <td>neutral</td>\n",
       "    </tr>\n",
       "    <tr>\n",
       "      <th>20</th>\n",
       "      <td>-1.076964</td>\n",
       "      <td>0.667053</td>\n",
       "      <td>-0.597622</td>\n",
       "      <td>Proving Chelsea need him .</td>\n",
       "      <td>neutral</td>\n",
       "    </tr>\n",
       "    <tr>\n",
       "      <th>21</th>\n",
       "      <td>-0.841984</td>\n",
       "      <td>0.051038</td>\n",
       "      <td>-0.419285</td>\n",
       "      <td>Giroud 7 , Scored provided focal point for Chelsea ’ s attack .</td>\n",
       "      <td>neutral</td>\n",
       "    </tr>\n",
       "    <tr>\n",
       "      <th>22</th>\n",
       "      <td>-1.464310</td>\n",
       "      <td>-0.667917</td>\n",
       "      <td>0.711874</td>\n",
       "      <td>Excellent .</td>\n",
       "      <td>positive</td>\n",
       "    </tr>\n",
       "    <tr>\n",
       "      <th>23</th>\n",
       "      <td>-1.931927</td>\n",
       "      <td>0.669885</td>\n",
       "      <td>-0.972240</td>\n",
       "      <td>Subs , James , for Mount , 60 min , 6 , Anjorin , fo Willian , 71 min , Broja , for Giroud , 87 min , Pickford 7 , Some good save , Everton lost double figure him .</td>\n",
       "      <td>neutral</td>\n",
       "    </tr>\n",
       "    <tr>\n",
       "      <th>24</th>\n",
       "      <td>0.867933</td>\n",
       "      <td>-0.680964</td>\n",
       "      <td>-1.364406</td>\n",
       "      <td>Sidibe 4 , Had stinker , sloppy undone .</td>\n",
       "      <td>negative</td>\n",
       "    </tr>\n",
       "    <tr>\n",
       "      <th>25</th>\n",
       "      <td>0.573437</td>\n",
       "      <td>-0.683824</td>\n",
       "      <td>-0.999377</td>\n",
       "      <td>Very uncomfortable right back .</td>\n",
       "      <td>negative</td>\n",
       "    </tr>\n",
       "    <tr>\n",
       "      <th>26</th>\n",
       "      <td>-1.300460</td>\n",
       "      <td>0.377736</td>\n",
       "      <td>-0.156757</td>\n",
       "      <td>Keane 5 , Got outdone Giroud ’ s physical strength .</td>\n",
       "      <td>neutral</td>\n",
       "    </tr>\n",
       "    <tr>\n",
       "      <th>27</th>\n",
       "      <td>-0.123753</td>\n",
       "      <td>0.046639</td>\n",
       "      <td>-1.012301</td>\n",
       "      <td>Bad day office .</td>\n",
       "      <td>neutral</td>\n",
       "    </tr>\n",
       "    <tr>\n",
       "      <th>28</th>\n",
       "      <td>2.039376</td>\n",
       "      <td>-1.606143</td>\n",
       "      <td>-2.392135</td>\n",
       "      <td>Holgate 4 , Horribly exposed , poor positioning lack pace .</td>\n",
       "      <td>negative</td>\n",
       "    </tr>\n",
       "    <tr>\n",
       "      <th>29</th>\n",
       "      <td>0.279947</td>\n",
       "      <td>-0.221673</td>\n",
       "      <td>-1.264841</td>\n",
       "      <td>Nightmare .</td>\n",
       "      <td>negative</td>\n",
       "    </tr>\n",
       "    <tr>\n",
       "      <th>30</th>\n",
       "      <td>-0.462264</td>\n",
       "      <td>0.819920</td>\n",
       "      <td>-1.783548</td>\n",
       "      <td>Digne 5 , Has struggling with injury did not look his sharpest .</td>\n",
       "      <td>neutral</td>\n",
       "    </tr>\n",
       "    <tr>\n",
       "      <th>31</th>\n",
       "      <td>-1.116267</td>\n",
       "      <td>0.250316</td>\n",
       "      <td>-0.314428</td>\n",
       "      <td>Bernard 4 , Hooked half time .</td>\n",
       "      <td>neutral</td>\n",
       "    </tr>\n",
       "    <tr>\n",
       "      <th>32</th>\n",
       "      <td>-0.714700</td>\n",
       "      <td>0.584866</td>\n",
       "      <td>-0.981605</td>\n",
       "      <td>Did injury , could subbed .</td>\n",
       "      <td>neutral</td>\n",
       "    </tr>\n",
       "    <tr>\n",
       "      <th>33</th>\n",
       "      <td>-0.226061</td>\n",
       "      <td>0.717513</td>\n",
       "      <td>-1.638268</td>\n",
       "      <td>Gomes 5 , Given runaround , could not close his Chelsea opponent .</td>\n",
       "      <td>neutral</td>\n",
       "    </tr>\n",
       "    <tr>\n",
       "      <th>34</th>\n",
       "      <td>0.394486</td>\n",
       "      <td>-0.103184</td>\n",
       "      <td>-1.562177</td>\n",
       "      <td>Davies 5 , Subbed early after nightmare performance wa just chasing shadow .</td>\n",
       "      <td>negative</td>\n",
       "    </tr>\n",
       "    <tr>\n",
       "      <th>35</th>\n",
       "      <td>-0.885334</td>\n",
       "      <td>0.031155</td>\n",
       "      <td>-0.136658</td>\n",
       "      <td>Sigurdsson 5 , Easy forget wa playing .</td>\n",
       "      <td>neutral</td>\n",
       "    </tr>\n",
       "    <tr>\n",
       "      <th>36</th>\n",
       "      <td>-0.287027</td>\n",
       "      <td>-0.081574</td>\n",
       "      <td>-0.586828</td>\n",
       "      <td>The game completely passed him .</td>\n",
       "      <td>neutral</td>\n",
       "    </tr>\n",
       "    <tr>\n",
       "      <th>37</th>\n",
       "      <td>-0.893081</td>\n",
       "      <td>0.946347</td>\n",
       "      <td>-1.527535</td>\n",
       "      <td>Calvert-Lewin 5 , Went clean fired wide with chance Everton back .</td>\n",
       "      <td>neutral</td>\n",
       "    </tr>\n",
       "    <tr>\n",
       "      <th>38</th>\n",
       "      <td>0.805808</td>\n",
       "      <td>-0.665691</td>\n",
       "      <td>-1.208893</td>\n",
       "      <td>Richarlison 5 , Barely look-in , no service could not provide outlet .</td>\n",
       "      <td>negative</td>\n",
       "    </tr>\n",
       "    <tr>\n",
       "      <th>39</th>\n",
       "      <td>-1.882946</td>\n",
       "      <td>1.952900</td>\n",
       "      <td>-1.688922</td>\n",
       "      <td>Subs , Walcott , for Bernard , 46 min , 5 , Kean , for Davies , 57 min , 5 , Gordon , for Calvert-Lewin , 76 min ''</td>\n",
       "      <td>neutral</td>\n",
       "    </tr>\n",
       "  </tbody>\n",
       "</table>\n",
       "</div>"
      ],
      "text/plain": [
       "    negative_prob  neutral_prob  positive_prob  \\\n",
       "0  -3.221297       1.023393      0.021843        \n",
       "1  -0.603206       0.496868     -1.353648        \n",
       "2  -1.901474       0.513729      0.153273        \n",
       "3  -0.308802       0.207838     -0.929148        \n",
       "4  -1.549574       1.060306     -0.961700        \n",
       "5  -1.362039       1.384647     -1.579144        \n",
       "6  -0.922641      -0.458226      0.325058        \n",
       "7  -0.629636       0.231492     -0.609062        \n",
       "8  -0.557152      -0.969400      0.325402        \n",
       "9  -2.017886      -0.000682      0.637651        \n",
       "10 -1.010677       0.028041     -0.271500        \n",
       "11 -1.556490      -1.076293      1.322977        \n",
       "12 -1.240748       0.322572     -0.363227        \n",
       "13 -0.996117      -0.189970      0.090482        \n",
       "14 -1.229554       0.230613     -0.218601        \n",
       "15 -0.848049       0.436223     -0.578307        \n",
       "16 -2.087679      -0.418508      0.992026        \n",
       "17 -1.077718       0.673622     -0.702498        \n",
       "18 -2.124011      -1.428735      1.815579        \n",
       "19 -0.400343       0.215599     -1.057414        \n",
       "20 -1.076964       0.667053     -0.597622        \n",
       "21 -0.841984       0.051038     -0.419285        \n",
       "22 -1.464310      -0.667917      0.711874        \n",
       "23 -1.931927       0.669885     -0.972240        \n",
       "24  0.867933      -0.680964     -1.364406        \n",
       "25  0.573437      -0.683824     -0.999377        \n",
       "26 -1.300460       0.377736     -0.156757        \n",
       "27 -0.123753       0.046639     -1.012301        \n",
       "28  2.039376      -1.606143     -2.392135        \n",
       "29  0.279947      -0.221673     -1.264841        \n",
       "30 -0.462264       0.819920     -1.783548        \n",
       "31 -1.116267       0.250316     -0.314428        \n",
       "32 -0.714700       0.584866     -0.981605        \n",
       "33 -0.226061       0.717513     -1.638268        \n",
       "34  0.394486      -0.103184     -1.562177        \n",
       "35 -0.885334       0.031155     -0.136658        \n",
       "36 -0.287027      -0.081574     -0.586828        \n",
       "37 -0.893081       0.946347     -1.527535        \n",
       "38  0.805808      -0.665691     -1.208893        \n",
       "39 -1.882946       1.952900     -1.688922        \n",
       "\n",
       "                                                                                                                                                                                 sentences  \\\n",
       "0   `` Early goal from Mason Mount Pedro Chelsea commanding lead Everton Carlo Ancelotti 's men recovered from , Chelsea made light work Everton dominant victory Stamford Bridge Sunday .   \n",
       "1   , The Blues took 14th-minute lead after Mason Mount controlled Pedro 's pas turn firing hard low past Jordan Pickford near post .                                                        \n",
       "2   , Soon after Pedro got his scoresheet , racing clear Toffees ' defence finish past Pickford double advantage .                                                                           \n",
       "3   , Willian game doubt just five minute second half drilled 25-yard shot far corner .                                                                                                      \n",
       "4   The Brazilian turned provider with curling cross far post Olivier Giroud tucked away , Everton sank trace .                                                                              \n",
       "5   Here John Cross 's rating from Stamford Bridge .                                                                                                                                         \n",
       "6   Arrizabalaga 7 , Back starting line-up , looked good .                                                                                                                                   \n",
       "7   Does future , after all ?                                                                                                                                                                \n",
       "8   , Azpilicueta 6 , Solid defence , did not offer much going forward reliable .                                                                                                            \n",
       "9   Rudiger 7 , Rock solid , used his pace kept Everton ’ s forward quiet .                                                                                                                  \n",
       "10  Zouma 7 , Surprise pick , early wobble looked strong from .                                                                                                                              \n",
       "11  Alonso 7 , Had good game , linked overlapped nicely from left back .                                                                                                                     \n",
       "12  Barkley 8 , Big performance against old club .                                                                                                                                           \n",
       "13  Two assist last laugh .                                                                                                                                                                  \n",
       "14  Gilmour 7 , When Roy Keane call you world class , you special .                                                                                                                          \n",
       "15  He .                                                                                                                                                                                     \n",
       "16  Mount 7 , Well taken goal , back his lively best going off injured .                                                                                                                     \n",
       "17  Pedro 8 , MotM .                                                                                                                                                                         \n",
       "18  His best game for age , taken goal wa excellent overall .                                                                                                                                \n",
       "19  Willian 7 , Electric pace , scored dangerous .                                                                                                                                           \n",
       "20  Proving Chelsea need him .                                                                                                                                                               \n",
       "21  Giroud 7 , Scored provided focal point for Chelsea ’ s attack .                                                                                                                          \n",
       "22  Excellent .                                                                                                                                                                              \n",
       "23  Subs , James , for Mount , 60 min , 6 , Anjorin , fo Willian , 71 min , Broja , for Giroud , 87 min , Pickford 7 , Some good save , Everton lost double figure him .                     \n",
       "24  Sidibe 4 , Had stinker , sloppy undone .                                                                                                                                                 \n",
       "25  Very uncomfortable right back .                                                                                                                                                          \n",
       "26  Keane 5 , Got outdone Giroud ’ s physical strength .                                                                                                                                     \n",
       "27  Bad day office .                                                                                                                                                                         \n",
       "28  Holgate 4 , Horribly exposed , poor positioning lack pace .                                                                                                                              \n",
       "29  Nightmare .                                                                                                                                                                              \n",
       "30  Digne 5 , Has struggling with injury did not look his sharpest .                                                                                                                         \n",
       "31  Bernard 4 , Hooked half time .                                                                                                                                                           \n",
       "32  Did injury , could subbed .                                                                                                                                                              \n",
       "33  Gomes 5 , Given runaround , could not close his Chelsea opponent .                                                                                                                       \n",
       "34  Davies 5 , Subbed early after nightmare performance wa just chasing shadow .                                                                                                             \n",
       "35  Sigurdsson 5 , Easy forget wa playing .                                                                                                                                                  \n",
       "36  The game completely passed him .                                                                                                                                                         \n",
       "37  Calvert-Lewin 5 , Went clean fired wide with chance Everton back .                                                                                                                       \n",
       "38  Richarlison 5 , Barely look-in , no service could not provide outlet .                                                                                                                   \n",
       "39  Subs , Walcott , for Bernard , 46 min , 5 , Kean , for Davies , 57 min , 5 , Gordon , for Calvert-Lewin , 76 min ''                                                                      \n",
       "\n",
       "   sentiment  \n",
       "0   neutral   \n",
       "1   neutral   \n",
       "2   neutral   \n",
       "3   neutral   \n",
       "4   neutral   \n",
       "5   neutral   \n",
       "6   positive  \n",
       "7   neutral   \n",
       "8   positive  \n",
       "9   positive  \n",
       "10  neutral   \n",
       "11  positive  \n",
       "12  neutral   \n",
       "13  positive  \n",
       "14  neutral   \n",
       "15  neutral   \n",
       "16  positive  \n",
       "17  neutral   \n",
       "18  positive  \n",
       "19  neutral   \n",
       "20  neutral   \n",
       "21  neutral   \n",
       "22  positive  \n",
       "23  neutral   \n",
       "24  negative  \n",
       "25  negative  \n",
       "26  neutral   \n",
       "27  neutral   \n",
       "28  negative  \n",
       "29  negative  \n",
       "30  neutral   \n",
       "31  neutral   \n",
       "32  neutral   \n",
       "33  neutral   \n",
       "34  negative  \n",
       "35  neutral   \n",
       "36  neutral   \n",
       "37  neutral   \n",
       "38  negative  \n",
       "39  neutral   "
      ]
     },
     "execution_count": 128,
     "metadata": {},
     "output_type": "execute_result"
    }
   ],
   "source": [
    "sentiment_prob(\"\"\"\"Early goals from Mason Mount and Pedro put Chelsea into a commanding lead over Everton which Carlo Ancelotti's men never recovered from, Chelsea made light work of Everton in a dominant victory at Stamford Bridge on Sunday. ,  The Blues took a 14th-minute lead after Mason Mount controlled Pedro's pass on the turn before firing hard and low past Jordan Pickford at the near post. ,  Soon after Pedro had got his own name on the scoresheet, racing clear of the Toffees' defence to finish past Pickford and double the advantage. , Willian then put the game beyond doubt just five minutes into the second half as he drilled a 25-yard shot into the far corner. The Brazilian then turned provider with a curling cross to the far post which Olivier Giroud tucked away, as Everton sank without trace. Here are John Cross's ratings from Stamford Bridge. Arrizabalaga 7, Back in the starting line-up, looked good. Does he have a future, after all?, Azpilicueta 6, Solid in defence, did not offer so much going forward but reliable. Rudiger 7, Rock solid, used his pace well and kept Everton’s forwards quiet. Zouma 7, Surprise pick, had an early wobble but looked strong from then on. Alonso 7, Had a good game, linked up and overlapped nicely from left back. Barkley 8, Big performance against old club. Two assists and had last laugh. Gilmour 7, When Roy Keane calls you world class, you must be special. He is. Mount 7, Well taken goal, back to his lively best before going off injured. Pedro 8, MotM. His best game for ages, well taken goal and was excellent overall. Willian 7, Electric pace, scored and dangerous. Proving Chelsea need to keep him. Giroud 7, Scored but also provided a focal point for Chelsea’s attack. Excellent. Subs, James, for Mount, 60 mins, 6, Anjorin, fo Willian, 71 mins, Broja, for Giroud, 87 mins, Pickford 7, Some good saves, Everton would have lost by double figures without him. Sidibe 4, Had a stinker, sloppy and undone. Very uncomfortable at right back. Keane 5, Got outdone by Giroud’s physical strength. Bad day at the office. Holgate 4, Horribly exposed, poor positioning and lack of pace. Nightmare. Digne 5, Has been struggling with injury and did not look at his sharpest. Bernard 4, Hooked at half time. Did get an injury, but could have been subbed anyway. Gomes 5, Given the runaround, could not get close to his Chelsea opponents. Davies 5, Subbed early after a nightmare performance where he was just chasing shadows. Sigurdsson 5, Easy to forget he was even playing. The game completely passed him by. Calvert-Lewin 5, Went clean through but fired wide with a chance to get Everton back in it. Richarlison 5, Barely had a look-in, no service and could not provide an outlet. Subs, Walcott, for Bernard, 46 mins, 5, Kean, for Davies, 57 mins, 5, Gordon, for Calvert-Lewin, 76 mins\" \"\"\")"
   ]
  },
  {
   "cell_type": "code",
   "execution_count": null,
   "metadata": {},
   "outputs": [],
   "source": []
  },
  {
   "cell_type": "code",
   "execution_count": null,
   "metadata": {},
   "outputs": [],
   "source": []
  }
 ],
 "metadata": {
  "kernelspec": {
   "display_name": "Python 3",
   "language": "python",
   "name": "python3"
  },
  "language_info": {
   "codemirror_mode": {
    "name": "ipython",
    "version": 3
   },
   "file_extension": ".py",
   "mimetype": "text/x-python",
   "name": "python",
   "nbconvert_exporter": "python",
   "pygments_lexer": "ipython3",
   "version": "3.7.3"
  }
 },
 "nbformat": 4,
 "nbformat_minor": 2
}

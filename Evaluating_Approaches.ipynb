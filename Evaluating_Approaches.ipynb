{
 "cells": [
  {
   "cell_type": "markdown",
   "metadata": {},
   "source": [
    "## Evaluating Sentiment Classifiers"
   ]
  },
  {
   "cell_type": "markdown",
   "metadata": {},
   "source": [
    "##### Notebook aim:"
   ]
  },
  {
   "cell_type": "markdown",
   "metadata": {},
   "source": [
    "> The aim of this notebook is to compare and evaluate different approaches to predicting sentiment from a phrase of a football match report "
   ]
  },
  {
   "cell_type": "markdown",
   "metadata": {},
   "source": [
    "##### Outcome:"
   ]
  },
  {
   "cell_type": "markdown",
   "metadata": {},
   "source": [
    "> Produce the best possible model for identifying the sentiment of a phrase in a football match report"
   ]
  },
  {
   "cell_type": "markdown",
   "metadata": {},
   "source": [
    "##### Methods:\n"
   ]
  },
  {
   "cell_type": "markdown",
   "metadata": {},
   "source": [
    "> - The model text has been scraped from articles on the first page of 'The Mirror' match report site\n",
    "- It has been split into sentences and then split again by commas to produce short phrases\n",
    "- I will evaluate each method by comparing it to a manually annotated dataset of the same phrases\n",
    "- The accuracy of each method will be determined by the number of rows that identified the same sentiment as identified in the annotated dataset"
   ]
  },
  {
   "cell_type": "markdown",
   "metadata": {},
   "source": [
    "-----"
   ]
  },
  {
   "cell_type": "markdown",
   "metadata": {},
   "source": [
    "### Import the annotated data"
   ]
  },
  {
   "cell_type": "markdown",
   "metadata": {},
   "source": [
    "#### Create a DataFrame"
   ]
  },
  {
   "cell_type": "code",
   "execution_count": 150,
   "metadata": {},
   "outputs": [],
   "source": [
    "import pandas as pd\n",
    "pd.set_option('display.max_colwidth', -1)\n",
    "pd.set_option('display.max_rows', None)"
   ]
  },
  {
   "cell_type": "code",
   "execution_count": 151,
   "metadata": {},
   "outputs": [],
   "source": [
    "annotated_df = pd.read_csv('../annotated_data.csv')"
   ]
  },
  {
   "cell_type": "code",
   "execution_count": 152,
   "metadata": {},
   "outputs": [],
   "source": [
    "import numpy as np"
   ]
  },
  {
   "cell_type": "code",
   "execution_count": 153,
   "metadata": {},
   "outputs": [],
   "source": [
    "# Replace NaN with empty string\n",
    "annotated_df = annotated_df.replace(np.nan, '', regex=True)"
   ]
  },
  {
   "cell_type": "code",
   "execution_count": 299,
   "metadata": {},
   "outputs": [],
   "source": [
    "# Replace sentiment numbers with POSITIVE/NEGATIVE/NEUTRAL\n",
    "def sentiment_text(number):\n",
    "    \n",
    "    if number == 0:\n",
    "        return \"NEGATIVE\"\n",
    "    elif number == 1:\n",
    "        return \"NEUTRAL\"\n",
    "    elif number == 2:\n",
    "        return \"POSITIVE\""
   ]
  },
  {
   "cell_type": "code",
   "execution_count": 300,
   "metadata": {},
   "outputs": [],
   "source": [
    "annotated_df['sentiment_text'] = annotated_df['Sentiment'].apply(sentiment_text)"
   ]
  },
  {
   "cell_type": "markdown",
   "metadata": {},
   "source": [
    "### Extract Sentences Column for Sentiment Identification"
   ]
  },
  {
   "cell_type": "code",
   "execution_count": 156,
   "metadata": {},
   "outputs": [],
   "source": [
    "phrases_df = pd.DataFrame(annotated_df['Sentence'])"
   ]
  },
  {
   "cell_type": "code",
   "execution_count": 157,
   "metadata": {},
   "outputs": [
    {
     "data": {
      "text/html": [
       "<div>\n",
       "<style scoped>\n",
       "    .dataframe tbody tr th:only-of-type {\n",
       "        vertical-align: middle;\n",
       "    }\n",
       "\n",
       "    .dataframe tbody tr th {\n",
       "        vertical-align: top;\n",
       "    }\n",
       "\n",
       "    .dataframe thead th {\n",
       "        text-align: right;\n",
       "    }\n",
       "</style>\n",
       "<table border=\"1\" class=\"dataframe\">\n",
       "  <thead>\n",
       "    <tr style=\"text-align: right;\">\n",
       "      <th></th>\n",
       "      <th>Sentence</th>\n",
       "    </tr>\n",
       "  </thead>\n",
       "  <tbody>\n",
       "    <tr>\n",
       "      <th>0</th>\n",
       "      <td>Kimmich's excellent strike shortly before the break opened up a seven-point lead at the top as Dortmund's young guns failed to trouble their experienced opponents</td>\n",
       "    </tr>\n",
       "    <tr>\n",
       "      <th>1</th>\n",
       "      <td>A fine chip from Joshua Kimmich settled the Bundesliga's biggest game since the return of the German top-flight</td>\n",
       "    </tr>\n",
       "    <tr>\n",
       "      <th>2</th>\n",
       "      <td>and sent Bayern Munich to within touching distance of an eighth successive league title.</td>\n",
       "    </tr>\n",
       "    <tr>\n",
       "      <th>3</th>\n",
       "      <td>Kimmich beat Roman Burki with a superb lofted effort just before half-time at an empty Signal Iduna Park</td>\n",
       "    </tr>\n",
       "    <tr>\n",
       "      <th>4</th>\n",
       "      <td>although the home goalkeeper will feel that he should have done better.</td>\n",
       "    </tr>\n",
       "  </tbody>\n",
       "</table>\n",
       "</div>"
      ],
      "text/plain": [
       "                                                                                                                                                             Sentence\n",
       "0  Kimmich's excellent strike shortly before the break opened up a seven-point lead at the top as Dortmund's young guns failed to trouble their experienced opponents\n",
       "1   A fine chip from Joshua Kimmich settled the Bundesliga's biggest game since the return of the German top-flight                                                  \n",
       "2   and sent Bayern Munich to within touching distance of an eighth successive league title.                                                                         \n",
       "3  Kimmich beat Roman Burki with a superb lofted effort just before half-time at an empty Signal Iduna Park                                                          \n",
       "4   although the home goalkeeper will feel that he should have done better.                                                                                          "
      ]
     },
     "execution_count": 157,
     "metadata": {},
     "output_type": "execute_result"
    }
   ],
   "source": [
    "phrases_df.head()"
   ]
  },
  {
   "cell_type": "markdown",
   "metadata": {},
   "source": [
    "-----"
   ]
  },
  {
   "cell_type": "markdown",
   "metadata": {},
   "source": [
    "### Identifying Sentiment using Different Classifiers"
   ]
  },
  {
   "cell_type": "markdown",
   "metadata": {},
   "source": [
    "> In the following cells, different combinations of vectorizers and classifiers will be used on the model data to predict the sentiment of the phrases \n",
    "- For each of the approaches the optimal C value has already been found"
   ]
  },
  {
   "cell_type": "code",
   "execution_count": 158,
   "metadata": {},
   "outputs": [],
   "source": [
    "import pickle"
   ]
  },
  {
   "cell_type": "markdown",
   "metadata": {},
   "source": [
    "#### Define general function to apply predictions to new column "
   ]
  },
  {
   "cell_type": "code",
   "execution_count": 394,
   "metadata": {},
   "outputs": [],
   "source": [
    "def predict(model, vectorizer):\n",
    "    \n",
    "    # Sentence List\n",
    "    sentences = []\n",
    "    \n",
    "    # Iterate through df and append sentences to sentences list\n",
    "    for index, row in phrases_df.iterrows():\n",
    "        \n",
    "        # Append Sentences list with sentences\n",
    "        sentences.append(row['Sentence'])\n",
    "    \n",
    "    # Iterate through sentences list and make predictions\n",
    "    predictions = model.predict(vectorizer.transform(sentences))\n",
    "        \n",
    "    # Return List of Predictions\n",
    "    return predictions"
   ]
  },
  {
   "cell_type": "markdown",
   "metadata": {},
   "source": [
    "## Logistic Regression Classifier"
   ]
  },
  {
   "cell_type": "markdown",
   "metadata": {},
   "source": [
    "> ### Approach 1 - Count Vectoriser | Ngram 1, 1 | Logistic Regression"
   ]
  },
  {
   "cell_type": "markdown",
   "metadata": {},
   "source": [
    "##### Import Vectorizer"
   ]
  },
  {
   "cell_type": "code",
   "execution_count": 160,
   "metadata": {},
   "outputs": [],
   "source": [
    "# Import the vectorizer\n",
    "cv_1_1_infile_vect = open(\"cv_1_1.sav\",'rb')"
   ]
  },
  {
   "cell_type": "code",
   "execution_count": 161,
   "metadata": {},
   "outputs": [],
   "source": [
    "# Save instance of vectorizer\n",
    "cv_1_1_vect = pickle.load(cv_1_1_infile_vect)"
   ]
  },
  {
   "cell_type": "code",
   "execution_count": 162,
   "metadata": {},
   "outputs": [],
   "source": [
    "# Close file\n",
    "cv_1_1_infile_vect.close()"
   ]
  },
  {
   "cell_type": "markdown",
   "metadata": {},
   "source": [
    "##### Import Classifier"
   ]
  },
  {
   "cell_type": "code",
   "execution_count": 163,
   "metadata": {},
   "outputs": [],
   "source": [
    "# Read in model\n",
    "logreg_cv_1_1_infile_model = open(\"logreg_cv_1_1.sav\",'rb')"
   ]
  },
  {
   "cell_type": "code",
   "execution_count": 164,
   "metadata": {},
   "outputs": [],
   "source": [
    "# Save instance of model\n",
    "logreg_cv_1_1_model = pickle.load(logreg_cv_1_1_infile_model)"
   ]
  },
  {
   "cell_type": "code",
   "execution_count": 165,
   "metadata": {},
   "outputs": [],
   "source": [
    "# Close file\n",
    "logreg_cv_1_1_infile_model.close()"
   ]
  },
  {
   "cell_type": "markdown",
   "metadata": {},
   "source": [
    "#### Predict and add to phrases_df"
   ]
  },
  {
   "cell_type": "code",
   "execution_count": 166,
   "metadata": {},
   "outputs": [],
   "source": [
    "# Add empty row to phrases_df\n",
    "phrases_df[\"logreg_cv_1_1\"] = predict(logreg_cv_1_1_model, cv_1_1_vect)"
   ]
  },
  {
   "cell_type": "markdown",
   "metadata": {},
   "source": [
    "> ### Approach 2 - TFIDF Vectoriser | Ngram 1,1 | Logistic Regression"
   ]
  },
  {
   "cell_type": "markdown",
   "metadata": {},
   "source": [
    "##### Import Vectorizer"
   ]
  },
  {
   "cell_type": "code",
   "execution_count": 167,
   "metadata": {},
   "outputs": [],
   "source": [
    "# Import the vectorizer\n",
    "tfidf_1_1_infile_vect = open(\"tfidf_1_1.sav\",'rb')"
   ]
  },
  {
   "cell_type": "code",
   "execution_count": 168,
   "metadata": {},
   "outputs": [],
   "source": [
    "# Save instance of vectorizer\n",
    "tfidf_1_1_vect = pickle.load(tfidf_1_1_infile_vect)"
   ]
  },
  {
   "cell_type": "code",
   "execution_count": 169,
   "metadata": {},
   "outputs": [],
   "source": [
    "# Close file\n",
    "cv_1_1_infile_vect.close()"
   ]
  },
  {
   "cell_type": "markdown",
   "metadata": {},
   "source": [
    "##### Import Classifier"
   ]
  },
  {
   "cell_type": "code",
   "execution_count": 170,
   "metadata": {},
   "outputs": [],
   "source": [
    "# Read in model\n",
    "logreg_tfidf_1_1_infile_model = open(\"logreg_tfidf_1_1.sav\",'rb')"
   ]
  },
  {
   "cell_type": "code",
   "execution_count": 171,
   "metadata": {},
   "outputs": [],
   "source": [
    "# Save instance of model\n",
    "logreg_tfidf_1_1_model = pickle.load(logreg_tfidf_1_1_infile_model)"
   ]
  },
  {
   "cell_type": "code",
   "execution_count": 172,
   "metadata": {},
   "outputs": [],
   "source": [
    "# Close file\n",
    "logreg_tfidf_1_1_infile_model.close()"
   ]
  },
  {
   "cell_type": "markdown",
   "metadata": {},
   "source": [
    "#### Predict and add to phrases_df"
   ]
  },
  {
   "cell_type": "code",
   "execution_count": 173,
   "metadata": {},
   "outputs": [],
   "source": [
    "# Add empty row to phrases_df\n",
    "phrases_df[\"logreg_tfidf_1_1\"] = predict(logreg_tfidf_1_1_model, tfidf_1_1_vect)"
   ]
  },
  {
   "cell_type": "markdown",
   "metadata": {},
   "source": [
    "> ### Approach 3 - Count Vectoriser | Ngram 1,2 | Logistic Regression"
   ]
  },
  {
   "cell_type": "markdown",
   "metadata": {},
   "source": [
    "##### Import Vectorizer"
   ]
  },
  {
   "cell_type": "code",
   "execution_count": 174,
   "metadata": {},
   "outputs": [],
   "source": [
    "# Import the vectorizer\n",
    "cv_1_2_infile_vect = open(\"cv_1_2.sav\",'rb')"
   ]
  },
  {
   "cell_type": "code",
   "execution_count": 175,
   "metadata": {},
   "outputs": [],
   "source": [
    "# Save instance of vectorizer\n",
    "cv_1_2_vect = pickle.load(cv_1_2_infile_vect)"
   ]
  },
  {
   "cell_type": "code",
   "execution_count": 176,
   "metadata": {},
   "outputs": [],
   "source": [
    "# Close file\n",
    "cv_1_2_infile_vect.close()"
   ]
  },
  {
   "cell_type": "markdown",
   "metadata": {},
   "source": [
    "##### Import Classifier"
   ]
  },
  {
   "cell_type": "code",
   "execution_count": 177,
   "metadata": {},
   "outputs": [],
   "source": [
    "# Read in model\n",
    "logreg_cv_1_2_infile_model = open(\"logreg_cv_1_2.sav\",'rb')"
   ]
  },
  {
   "cell_type": "code",
   "execution_count": 178,
   "metadata": {},
   "outputs": [],
   "source": [
    "# Save instance of model\n",
    "logreg_cv_1_2_model = pickle.load(logreg_cv_1_2_infile_model)"
   ]
  },
  {
   "cell_type": "code",
   "execution_count": 179,
   "metadata": {},
   "outputs": [],
   "source": [
    "# Close file\n",
    "logreg_cv_1_2_infile_model.close()"
   ]
  },
  {
   "cell_type": "markdown",
   "metadata": {},
   "source": [
    "### Predict and add to phrases_df"
   ]
  },
  {
   "cell_type": "code",
   "execution_count": 180,
   "metadata": {},
   "outputs": [],
   "source": [
    "# Add empty row to phrases_df\n",
    "phrases_df[\"logreg_cv_1_2\"] = predict(logreg_cv_1_2_model, cv_1_2_vect)"
   ]
  },
  {
   "cell_type": "markdown",
   "metadata": {},
   "source": [
    "> ### Approach 4 - TfIdf Vectoriser | Ngram 1,2 | Logistic Regression"
   ]
  },
  {
   "cell_type": "markdown",
   "metadata": {},
   "source": [
    "##### Import Vectorizer"
   ]
  },
  {
   "cell_type": "code",
   "execution_count": 181,
   "metadata": {},
   "outputs": [],
   "source": [
    "# Import the vectorizer\n",
    "tfidf_1_2_infile_vect = open(\"tfidf_1_2.sav\",'rb')"
   ]
  },
  {
   "cell_type": "code",
   "execution_count": 182,
   "metadata": {},
   "outputs": [],
   "source": [
    "# Save instance of vectorizer\n",
    "tfidf_1_2_vect = pickle.load(tfidf_1_2_infile_vect)"
   ]
  },
  {
   "cell_type": "code",
   "execution_count": 183,
   "metadata": {},
   "outputs": [],
   "source": [
    "# Close file\n",
    "tfidf_1_2_infile_vect.close()"
   ]
  },
  {
   "cell_type": "markdown",
   "metadata": {},
   "source": [
    "##### Import Classifier"
   ]
  },
  {
   "cell_type": "code",
   "execution_count": 184,
   "metadata": {},
   "outputs": [],
   "source": [
    "# Read in model\n",
    "logreg_tfidf_1_2_infile_model = open(\"logreg_tfidf_1_2.sav\",'rb')"
   ]
  },
  {
   "cell_type": "code",
   "execution_count": 185,
   "metadata": {},
   "outputs": [],
   "source": [
    "# Save instance of model\n",
    "logreg_tfidf_1_2_model = pickle.load(logreg_tfidf_1_2_infile_model)"
   ]
  },
  {
   "cell_type": "code",
   "execution_count": 186,
   "metadata": {},
   "outputs": [],
   "source": [
    "# Close file\n",
    "logreg_tfidf_1_2_infile_model.close()"
   ]
  },
  {
   "cell_type": "markdown",
   "metadata": {},
   "source": [
    "### Predict and add to phrases_df"
   ]
  },
  {
   "cell_type": "code",
   "execution_count": 187,
   "metadata": {},
   "outputs": [],
   "source": [
    "# Add empty row to phrases_df\n",
    "phrases_df[\"logreg_tfidf_1_2\"] = predict(logreg_tfidf_1_2_model, tfidf_1_2_vect)"
   ]
  },
  {
   "cell_type": "markdown",
   "metadata": {},
   "source": [
    "> ### Approach 5 - Count Vectorizer | Ngram 2,2 | Logistic Regression"
   ]
  },
  {
   "cell_type": "markdown",
   "metadata": {},
   "source": [
    "##### Import Vectorizer"
   ]
  },
  {
   "cell_type": "code",
   "execution_count": 188,
   "metadata": {},
   "outputs": [],
   "source": [
    "# Import the vectorizer\n",
    "cv_2_2_infile_vect = open(\"cv_2_2.sav\",'rb')"
   ]
  },
  {
   "cell_type": "code",
   "execution_count": 189,
   "metadata": {},
   "outputs": [],
   "source": [
    "# Save instance of vectorizer\n",
    "cv_2_2_vect = pickle.load(cv_2_2_infile_vect)"
   ]
  },
  {
   "cell_type": "code",
   "execution_count": 190,
   "metadata": {},
   "outputs": [],
   "source": [
    "# Close file\n",
    "cv_2_2_infile_vect.close()"
   ]
  },
  {
   "cell_type": "markdown",
   "metadata": {},
   "source": [
    "##### Import Classifier"
   ]
  },
  {
   "cell_type": "code",
   "execution_count": 191,
   "metadata": {},
   "outputs": [],
   "source": [
    "# Read in model\n",
    "logreg_cv_2_2_infile_model = open(\"logreg_cv_2_2.sav\",'rb')"
   ]
  },
  {
   "cell_type": "code",
   "execution_count": 192,
   "metadata": {},
   "outputs": [],
   "source": [
    "# Save instance of model\n",
    "logreg_cv_2_2_model = pickle.load(logreg_cv_2_2_infile_model)"
   ]
  },
  {
   "cell_type": "code",
   "execution_count": 193,
   "metadata": {},
   "outputs": [],
   "source": [
    "# Close file\n",
    "logreg_cv_2_2_infile_model.close()"
   ]
  },
  {
   "cell_type": "markdown",
   "metadata": {},
   "source": [
    "### Predict and add to phrases_df"
   ]
  },
  {
   "cell_type": "code",
   "execution_count": 194,
   "metadata": {},
   "outputs": [],
   "source": [
    "# Add row to phrases_df\n",
    "phrases_df[\"logreg_cv_2_2\"] = predict(logreg_cv_2_2_model, cv_2_2_vect)"
   ]
  },
  {
   "cell_type": "markdown",
   "metadata": {},
   "source": [
    "> ### Approach 6 - TfIdf Vectorizer | Ngram 2,2 | Logistic Regression"
   ]
  },
  {
   "cell_type": "markdown",
   "metadata": {},
   "source": [
    "##### Import Vectorizer"
   ]
  },
  {
   "cell_type": "code",
   "execution_count": 195,
   "metadata": {},
   "outputs": [],
   "source": [
    "# Import the vectorizer\n",
    "tfidf_2_2_infile_vect = open(\"tfidf_2_2.sav\",'rb')"
   ]
  },
  {
   "cell_type": "code",
   "execution_count": 196,
   "metadata": {},
   "outputs": [],
   "source": [
    "# Save instance of vectorizer\n",
    "tfidf_2_2_vect = pickle.load(tfidf_2_2_infile_vect)"
   ]
  },
  {
   "cell_type": "code",
   "execution_count": 197,
   "metadata": {},
   "outputs": [],
   "source": [
    "# Close file\n",
    "tfidf_2_2_infile_vect.close()"
   ]
  },
  {
   "cell_type": "markdown",
   "metadata": {},
   "source": [
    "##### Import Classifier"
   ]
  },
  {
   "cell_type": "code",
   "execution_count": 198,
   "metadata": {},
   "outputs": [],
   "source": [
    "# Read in model\n",
    "logreg_tfidf_2_2_infile_model = open(\"logreg_tfidf_2_2.sav\",'rb')"
   ]
  },
  {
   "cell_type": "code",
   "execution_count": 199,
   "metadata": {},
   "outputs": [],
   "source": [
    "# Save instance of model\n",
    "logreg_tfidf_2_2_model = pickle.load(logreg_tfidf_2_2_infile_model)"
   ]
  },
  {
   "cell_type": "code",
   "execution_count": 200,
   "metadata": {},
   "outputs": [],
   "source": [
    "# Close file\n",
    "logreg_tfidf_2_2_infile_model.close()"
   ]
  },
  {
   "cell_type": "markdown",
   "metadata": {},
   "source": [
    "### Predict and add to phrases_df"
   ]
  },
  {
   "cell_type": "code",
   "execution_count": 201,
   "metadata": {},
   "outputs": [],
   "source": [
    "# Add row to phrases_df\n",
    "phrases_df[\"logreg_tfidf_2_2\"] = predict(logreg_tfidf_2_2_model, tfidf_2_2_vect)"
   ]
  },
  {
   "cell_type": "markdown",
   "metadata": {},
   "source": [
    "> ### Approach 7 - Count Vectorizer | Ngram 1,3 | Logistic Regression"
   ]
  },
  {
   "cell_type": "markdown",
   "metadata": {},
   "source": [
    "##### Import Vectorizer"
   ]
  },
  {
   "cell_type": "code",
   "execution_count": 202,
   "metadata": {},
   "outputs": [],
   "source": [
    "# Import the vectorizer\n",
    "cv_1_3_infile_vect = open(\"cv_1_3.sav\",'rb')"
   ]
  },
  {
   "cell_type": "code",
   "execution_count": 203,
   "metadata": {},
   "outputs": [],
   "source": [
    "# Save instance of vectorizer\n",
    "cv_1_3_vect = pickle.load(cv_1_3_infile_vect)"
   ]
  },
  {
   "cell_type": "code",
   "execution_count": 204,
   "metadata": {},
   "outputs": [],
   "source": [
    "# Close file\n",
    "cv_1_3_infile_vect.close()"
   ]
  },
  {
   "cell_type": "markdown",
   "metadata": {},
   "source": [
    "##### Import Classifier"
   ]
  },
  {
   "cell_type": "code",
   "execution_count": 205,
   "metadata": {},
   "outputs": [],
   "source": [
    "# Read in model\n",
    "logreg_cv_1_3_infile_model = open(\"logreg_cv_1_3.sav\",'rb')"
   ]
  },
  {
   "cell_type": "code",
   "execution_count": 206,
   "metadata": {},
   "outputs": [],
   "source": [
    "# Save instance of model\n",
    "logreg_cv_1_3_model = pickle.load(logreg_cv_1_3_infile_model)"
   ]
  },
  {
   "cell_type": "code",
   "execution_count": 207,
   "metadata": {},
   "outputs": [],
   "source": [
    "# Close file\n",
    "logreg_cv_1_3_infile_model.close()"
   ]
  },
  {
   "cell_type": "markdown",
   "metadata": {},
   "source": [
    "### Predict and add to phrases_df"
   ]
  },
  {
   "cell_type": "code",
   "execution_count": 208,
   "metadata": {},
   "outputs": [],
   "source": [
    "# Add row to phrases_df\n",
    "phrases_df[\"logreg_cv_1_3\"] = predict(logreg_cv_1_3_model, cv_1_3_vect)"
   ]
  },
  {
   "cell_type": "markdown",
   "metadata": {},
   "source": [
    "> ### Approach 8 - TfIdf Vectorizer | Ngram 1,3 | Logistic Regression"
   ]
  },
  {
   "cell_type": "markdown",
   "metadata": {},
   "source": [
    "##### Import Vectorizer"
   ]
  },
  {
   "cell_type": "code",
   "execution_count": 209,
   "metadata": {},
   "outputs": [],
   "source": [
    "# Import the vectorizer\n",
    "tfidf_1_3_infile_vect = open(\"tfidf_1_3.sav\",'rb')"
   ]
  },
  {
   "cell_type": "code",
   "execution_count": 210,
   "metadata": {},
   "outputs": [],
   "source": [
    "# Save instance of vectorizer\n",
    "tfidf_1_3_vect = pickle.load(tfidf_1_3_infile_vect)"
   ]
  },
  {
   "cell_type": "code",
   "execution_count": 211,
   "metadata": {},
   "outputs": [],
   "source": [
    "# Close file\n",
    "tfidf_1_3_infile_vect.close()"
   ]
  },
  {
   "cell_type": "markdown",
   "metadata": {},
   "source": [
    "##### Import Classifier"
   ]
  },
  {
   "cell_type": "code",
   "execution_count": 212,
   "metadata": {},
   "outputs": [],
   "source": [
    "# Read in model\n",
    "logreg_tfidf_1_3_infile_model = open(\"logreg_tfidf_1_3.sav\",'rb')"
   ]
  },
  {
   "cell_type": "code",
   "execution_count": 213,
   "metadata": {},
   "outputs": [],
   "source": [
    "# Save instance of model\n",
    "logreg_tfidf_1_3_model = pickle.load(logreg_tfidf_1_3_infile_model)"
   ]
  },
  {
   "cell_type": "code",
   "execution_count": 214,
   "metadata": {},
   "outputs": [],
   "source": [
    "# Close file\n",
    "logreg_tfidf_1_3_infile_model.close()"
   ]
  },
  {
   "cell_type": "markdown",
   "metadata": {},
   "source": [
    "### Predict and add to phrases_df"
   ]
  },
  {
   "cell_type": "code",
   "execution_count": 215,
   "metadata": {},
   "outputs": [],
   "source": [
    "# Add row to phrases_df\n",
    "phrases_df[\"logreg_tfidf_1_3\"] = predict(logreg_tfidf_1_3_model, tfidf_1_3_vect)"
   ]
  },
  {
   "cell_type": "markdown",
   "metadata": {},
   "source": [
    "> ### Approach 9 - Count Vectorizer | Ngram 2,3 | Logistic Regression"
   ]
  },
  {
   "cell_type": "markdown",
   "metadata": {},
   "source": [
    "##### Import Vectorizer"
   ]
  },
  {
   "cell_type": "code",
   "execution_count": 216,
   "metadata": {},
   "outputs": [],
   "source": [
    "# Import the vectorizer\n",
    "cv_2_3_infile_vect = open(\"cv_2_3.sav\",'rb')"
   ]
  },
  {
   "cell_type": "code",
   "execution_count": 217,
   "metadata": {},
   "outputs": [],
   "source": [
    "# Save instance of vectorizer\n",
    "cv_2_3_vect = pickle.load(cv_2_3_infile_vect)"
   ]
  },
  {
   "cell_type": "code",
   "execution_count": 218,
   "metadata": {},
   "outputs": [],
   "source": [
    "# Close file\n",
    "cv_2_3_infile_vect.close()"
   ]
  },
  {
   "cell_type": "markdown",
   "metadata": {},
   "source": [
    "##### Import Classifier"
   ]
  },
  {
   "cell_type": "code",
   "execution_count": 219,
   "metadata": {},
   "outputs": [],
   "source": [
    "# Read in model\n",
    "logreg_cv_2_3_infile_model = open(\"logreg_cv_2_3.sav\",'rb')"
   ]
  },
  {
   "cell_type": "code",
   "execution_count": 220,
   "metadata": {},
   "outputs": [],
   "source": [
    "# Save instance of model\n",
    "logreg_cv_2_3_model = pickle.load(logreg_cv_2_3_infile_model)"
   ]
  },
  {
   "cell_type": "code",
   "execution_count": 221,
   "metadata": {},
   "outputs": [],
   "source": [
    "# Close file\n",
    "logreg_cv_2_3_infile_model.close()"
   ]
  },
  {
   "cell_type": "markdown",
   "metadata": {},
   "source": [
    "### Predict and add to phrases_df"
   ]
  },
  {
   "cell_type": "code",
   "execution_count": 222,
   "metadata": {},
   "outputs": [],
   "source": [
    "# Add row to phrases_df\n",
    "phrases_df[\"logreg_cv_2_3\"] = predict(logreg_cv_2_3_model, cv_2_3_vect)"
   ]
  },
  {
   "cell_type": "markdown",
   "metadata": {},
   "source": [
    "> ### Approach 10 - TfIdf Vectorizer | Ngram 2,3 | Logistic Regression"
   ]
  },
  {
   "cell_type": "markdown",
   "metadata": {},
   "source": [
    "##### Import Vectorizer"
   ]
  },
  {
   "cell_type": "code",
   "execution_count": 223,
   "metadata": {},
   "outputs": [],
   "source": [
    "# Import the vectorizer\n",
    "tfidf_2_3_infile_vect = open(\"tfidf_2_3.sav\",'rb')"
   ]
  },
  {
   "cell_type": "code",
   "execution_count": 224,
   "metadata": {},
   "outputs": [],
   "source": [
    "# Save instance of vectorizer\n",
    "tfidf_2_3_vect = pickle.load(tfidf_2_3_infile_vect)"
   ]
  },
  {
   "cell_type": "code",
   "execution_count": 225,
   "metadata": {},
   "outputs": [],
   "source": [
    "# Close file\n",
    "tfidf_2_3_infile_vect.close()"
   ]
  },
  {
   "cell_type": "markdown",
   "metadata": {},
   "source": [
    "##### Import Classifier"
   ]
  },
  {
   "cell_type": "code",
   "execution_count": 226,
   "metadata": {},
   "outputs": [],
   "source": [
    "# Read in model\n",
    "logreg_tfidf_2_3_infile_model = open(\"logreg_tfidf_2_3.sav\",'rb')"
   ]
  },
  {
   "cell_type": "code",
   "execution_count": 227,
   "metadata": {},
   "outputs": [],
   "source": [
    "# Save instance of model\n",
    "logreg_tfidf_2_3_model = pickle.load(logreg_tfidf_2_3_infile_model)"
   ]
  },
  {
   "cell_type": "code",
   "execution_count": 228,
   "metadata": {},
   "outputs": [],
   "source": [
    "# Close file\n",
    "logreg_tfidf_2_3_infile_model.close()"
   ]
  },
  {
   "cell_type": "markdown",
   "metadata": {},
   "source": [
    "### Predict and add to phrases_df"
   ]
  },
  {
   "cell_type": "code",
   "execution_count": 229,
   "metadata": {},
   "outputs": [],
   "source": [
    "# Add row to phrases_df\n",
    "phrases_df[\"logreg_tfidf_2_3\"] = predict(logreg_tfidf_2_3_model, tfidf_2_3_vect)"
   ]
  },
  {
   "cell_type": "markdown",
   "metadata": {},
   "source": [
    "> ### Approach 11 - Count Vectorizer | Ngram 3, 3 | Logistic Regression"
   ]
  },
  {
   "cell_type": "markdown",
   "metadata": {},
   "source": [
    "##### Import Vectorizer"
   ]
  },
  {
   "cell_type": "code",
   "execution_count": 230,
   "metadata": {},
   "outputs": [],
   "source": [
    "# Import the vectorizer\n",
    "cv_3_3_infile_vect = open(\"cv_3_3.sav\",'rb')"
   ]
  },
  {
   "cell_type": "code",
   "execution_count": 231,
   "metadata": {},
   "outputs": [],
   "source": [
    "# Save instance of vectorizer\n",
    "cv_3_3_vect = pickle.load(cv_3_3_infile_vect)"
   ]
  },
  {
   "cell_type": "code",
   "execution_count": 232,
   "metadata": {},
   "outputs": [],
   "source": [
    "# Close file\n",
    "cv_3_3_infile_vect.close()"
   ]
  },
  {
   "cell_type": "markdown",
   "metadata": {},
   "source": [
    "##### Import Classifier"
   ]
  },
  {
   "cell_type": "code",
   "execution_count": 233,
   "metadata": {},
   "outputs": [],
   "source": [
    "# Read in model\n",
    "logreg_cv_3_3_infile_model = open(\"logreg_cv_3_3.sav\",'rb')"
   ]
  },
  {
   "cell_type": "code",
   "execution_count": 234,
   "metadata": {},
   "outputs": [],
   "source": [
    "# Save instance of model\n",
    "logreg_cv_3_3_model = pickle.load(logreg_cv_3_3_infile_model)"
   ]
  },
  {
   "cell_type": "code",
   "execution_count": 235,
   "metadata": {},
   "outputs": [],
   "source": [
    "# Close file\n",
    "logreg_cv_3_3_infile_model.close()"
   ]
  },
  {
   "cell_type": "markdown",
   "metadata": {},
   "source": [
    "### Predict and add to phrases_df"
   ]
  },
  {
   "cell_type": "code",
   "execution_count": 236,
   "metadata": {},
   "outputs": [],
   "source": [
    "# Add row to phrases_df\n",
    "phrases_df[\"logreg_cv_3_3\"] = predict(logreg_cv_3_3_model, cv_3_3_vect)"
   ]
  },
  {
   "cell_type": "markdown",
   "metadata": {},
   "source": [
    "> ### Approach 12 - TfIdf Vectorizer | Ngram 3, 3 | Logistic Regression"
   ]
  },
  {
   "cell_type": "markdown",
   "metadata": {},
   "source": [
    "##### Import Vectorizer"
   ]
  },
  {
   "cell_type": "code",
   "execution_count": 237,
   "metadata": {},
   "outputs": [],
   "source": [
    "# Import the vectorizer\n",
    "tfidf_3_3_infile_vect = open(\"tfidf_3_3.sav\",'rb')"
   ]
  },
  {
   "cell_type": "code",
   "execution_count": 238,
   "metadata": {},
   "outputs": [],
   "source": [
    "# Save instance of vectorizer\n",
    "tfidf_3_3_vect = pickle.load(tfidf_3_3_infile_vect)"
   ]
  },
  {
   "cell_type": "code",
   "execution_count": 239,
   "metadata": {},
   "outputs": [],
   "source": [
    "# Close file\n",
    "tfidf_3_3_infile_vect.close()"
   ]
  },
  {
   "cell_type": "markdown",
   "metadata": {},
   "source": [
    "##### Import Classifier"
   ]
  },
  {
   "cell_type": "code",
   "execution_count": 240,
   "metadata": {},
   "outputs": [],
   "source": [
    "# Read in model\n",
    "logreg_tfidf_3_3_infile_model = open(\"logreg_tfidf_3_3.sav\",'rb')"
   ]
  },
  {
   "cell_type": "code",
   "execution_count": 241,
   "metadata": {},
   "outputs": [],
   "source": [
    "# Save instance of model\n",
    "logreg_tfidf_3_3_model = pickle.load(logreg_tfidf_3_3_infile_model)"
   ]
  },
  {
   "cell_type": "code",
   "execution_count": 242,
   "metadata": {},
   "outputs": [],
   "source": [
    "# Close file\n",
    "logreg_tfidf_3_3_infile_model.close()"
   ]
  },
  {
   "cell_type": "markdown",
   "metadata": {},
   "source": [
    "### Predict and add to phrases_df"
   ]
  },
  {
   "cell_type": "code",
   "execution_count": 243,
   "metadata": {},
   "outputs": [],
   "source": [
    "# Add row to phrases_df\n",
    "phrases_df[\"logreg_tfidf_3_3\"] = predict(logreg_tfidf_3_3_model, tfidf_3_3_vect)"
   ]
  },
  {
   "cell_type": "markdown",
   "metadata": {},
   "source": [
    "----"
   ]
  },
  {
   "cell_type": "markdown",
   "metadata": {},
   "source": [
    "## LinearSVC Classifier"
   ]
  },
  {
   "cell_type": "markdown",
   "metadata": {},
   "source": [
    "> _Not neccessary to import new vectorizers_"
   ]
  },
  {
   "cell_type": "markdown",
   "metadata": {},
   "source": [
    "> ### Approach 13 - Count Vectorizer | Ngram 1,1 | LinearSVC"
   ]
  },
  {
   "cell_type": "markdown",
   "metadata": {},
   "source": [
    "##### Import Classifier"
   ]
  },
  {
   "cell_type": "code",
   "execution_count": 245,
   "metadata": {},
   "outputs": [],
   "source": [
    "# Read in model\n",
    "SVC_cv_1_1_infile_model = open(\"SVC_cv_1_1.sav\",'rb')"
   ]
  },
  {
   "cell_type": "code",
   "execution_count": 246,
   "metadata": {},
   "outputs": [],
   "source": [
    "# Save instance of model\n",
    "SVC_cv_1_1_model = pickle.load(SVC_cv_1_1_infile_model)"
   ]
  },
  {
   "cell_type": "code",
   "execution_count": 247,
   "metadata": {},
   "outputs": [],
   "source": [
    "# Close file\n",
    "SVC_cv_1_1_infile_model.close()"
   ]
  },
  {
   "cell_type": "markdown",
   "metadata": {},
   "source": [
    "### Predict and add to phrases_df"
   ]
  },
  {
   "cell_type": "code",
   "execution_count": 248,
   "metadata": {},
   "outputs": [],
   "source": [
    "# Add row to phrases_df\n",
    "phrases_df[\"SVC_cv_1_1\"] = predict(SVC_cv_1_1_model, cv_1_1_vect)"
   ]
  },
  {
   "cell_type": "markdown",
   "metadata": {},
   "source": [
    "> ### Approach 14 - TfIdf Vectorizer | Ngram 1,1 | LinearSVC"
   ]
  },
  {
   "cell_type": "markdown",
   "metadata": {},
   "source": [
    "##### Import Classifier"
   ]
  },
  {
   "cell_type": "code",
   "execution_count": 249,
   "metadata": {},
   "outputs": [],
   "source": [
    "# Read in model\n",
    "SVC_tfidf_1_1_infile_model = open(\"SVC_tfidf_1_1.sav\",'rb')"
   ]
  },
  {
   "cell_type": "code",
   "execution_count": 250,
   "metadata": {},
   "outputs": [],
   "source": [
    "# Save instance of model\n",
    "SVC_tfidf_1_1_model = pickle.load(SVC_tfidf_1_1_infile_model)"
   ]
  },
  {
   "cell_type": "code",
   "execution_count": 251,
   "metadata": {},
   "outputs": [],
   "source": [
    "# Close file\n",
    "SVC_tfidf_1_1_infile_model.close()"
   ]
  },
  {
   "cell_type": "markdown",
   "metadata": {},
   "source": [
    "### Predict and add to phrases_df"
   ]
  },
  {
   "cell_type": "code",
   "execution_count": 252,
   "metadata": {},
   "outputs": [],
   "source": [
    "# Add row to phrases_df\n",
    "phrases_df[\"SVC_tfidf_1_1\"] = predict(SVC_tfidf_1_1_model, tfidf_1_1_vect)"
   ]
  },
  {
   "cell_type": "markdown",
   "metadata": {},
   "source": [
    "> ### Approach 15 - Count Vectorizer | Ngram 1, 2 | Linear SVC"
   ]
  },
  {
   "cell_type": "markdown",
   "metadata": {},
   "source": [
    "##### Import Classifier"
   ]
  },
  {
   "cell_type": "code",
   "execution_count": 253,
   "metadata": {},
   "outputs": [],
   "source": [
    "# Read in model\n",
    "SVC_cv_1_2_infile_model = open(\"SVC_cv_1_2.sav\",'rb')"
   ]
  },
  {
   "cell_type": "code",
   "execution_count": 254,
   "metadata": {},
   "outputs": [],
   "source": [
    "# Save instance of model\n",
    "SVC_cv_1_2_model = pickle.load(SVC_cv_1_2_infile_model)"
   ]
  },
  {
   "cell_type": "code",
   "execution_count": 255,
   "metadata": {},
   "outputs": [],
   "source": [
    "# Close file\n",
    "SVC_cv_1_2_infile_model.close()"
   ]
  },
  {
   "cell_type": "markdown",
   "metadata": {},
   "source": [
    "### Predict and add to phrases_df"
   ]
  },
  {
   "cell_type": "code",
   "execution_count": 256,
   "metadata": {},
   "outputs": [],
   "source": [
    "# Add row to phrases_df\n",
    "phrases_df[\"SVC_cv_1_2\"] = predict(SVC_cv_1_2_model, cv_1_2_vect)"
   ]
  },
  {
   "cell_type": "markdown",
   "metadata": {},
   "source": [
    "> ### Approach 16 - TfIdf Vectorizer | Ngram 1, 2 | Linear SVC"
   ]
  },
  {
   "cell_type": "markdown",
   "metadata": {},
   "source": [
    "##### Import Classifier"
   ]
  },
  {
   "cell_type": "code",
   "execution_count": 257,
   "metadata": {},
   "outputs": [],
   "source": [
    "# Read in model\n",
    "SVC_tfidf_1_2_infile_model = open(\"SVC_tfidf_1_2.sav\",'rb')"
   ]
  },
  {
   "cell_type": "code",
   "execution_count": 258,
   "metadata": {},
   "outputs": [],
   "source": [
    "# Save instance of model\n",
    "SVC_tfidf_1_2_model = pickle.load(SVC_tfidf_1_2_infile_model)"
   ]
  },
  {
   "cell_type": "code",
   "execution_count": 259,
   "metadata": {},
   "outputs": [],
   "source": [
    "# Close file\n",
    "SVC_tfidf_1_2_infile_model.close()"
   ]
  },
  {
   "cell_type": "markdown",
   "metadata": {},
   "source": [
    "### Predict and add to phrases_df"
   ]
  },
  {
   "cell_type": "code",
   "execution_count": 260,
   "metadata": {},
   "outputs": [],
   "source": [
    "# Add row to phrases_df\n",
    "phrases_df[\"SVC_tfidf_1_2\"] = predict(SVC_tfidf_1_2_model, tfidf_1_2_vect)"
   ]
  },
  {
   "cell_type": "markdown",
   "metadata": {},
   "source": [
    "> ### Approach 17 - Count Vectorizer | Ngram 2,2 | LinearSVC"
   ]
  },
  {
   "cell_type": "markdown",
   "metadata": {},
   "source": [
    "##### Import Classifier"
   ]
  },
  {
   "cell_type": "code",
   "execution_count": 261,
   "metadata": {},
   "outputs": [],
   "source": [
    "# Read in model\n",
    "SVC_cv_2_2_infile_model = open(\"SVC_cv_2_2.sav\",'rb')"
   ]
  },
  {
   "cell_type": "code",
   "execution_count": 262,
   "metadata": {},
   "outputs": [],
   "source": [
    "# Save instance of model\n",
    "SVC_cv_2_2_model = pickle.load(SVC_cv_2_2_infile_model)"
   ]
  },
  {
   "cell_type": "code",
   "execution_count": 263,
   "metadata": {},
   "outputs": [],
   "source": [
    "# Close file\n",
    "SVC_cv_2_2_infile_model.close()"
   ]
  },
  {
   "cell_type": "markdown",
   "metadata": {},
   "source": [
    "### Predict and add to phrases_df"
   ]
  },
  {
   "cell_type": "code",
   "execution_count": 264,
   "metadata": {},
   "outputs": [],
   "source": [
    "# Add row to phrases_df\n",
    "phrases_df[\"SVC_cv_2_2\"] = predict(SVC_cv_2_2_model, cv_2_2_vect)"
   ]
  },
  {
   "cell_type": "markdown",
   "metadata": {},
   "source": [
    "> ### Approach 18 - TfIdf Vectorizer | Ngram 2, 2 | Linear SVC"
   ]
  },
  {
   "cell_type": "markdown",
   "metadata": {},
   "source": [
    "##### Import Classifier "
   ]
  },
  {
   "cell_type": "code",
   "execution_count": 265,
   "metadata": {},
   "outputs": [],
   "source": [
    "# Read in model\n",
    "SVC_tfidf_2_2_infile_model = open(\"SVC_tfidf_2_2.sav\",'rb')"
   ]
  },
  {
   "cell_type": "code",
   "execution_count": 266,
   "metadata": {},
   "outputs": [],
   "source": [
    "# Save instance of model\n",
    "SVC_tfidf_2_2_model = pickle.load(SVC_tfidf_2_2_infile_model)"
   ]
  },
  {
   "cell_type": "code",
   "execution_count": 267,
   "metadata": {},
   "outputs": [],
   "source": [
    "# Close file\n",
    "SVC_tfidf_2_2_infile_model.close()"
   ]
  },
  {
   "cell_type": "markdown",
   "metadata": {},
   "source": [
    "### Predict and add to phrases_df"
   ]
  },
  {
   "cell_type": "code",
   "execution_count": 268,
   "metadata": {},
   "outputs": [],
   "source": [
    "# Add row to phrases_df\n",
    "phrases_df[\"SVC_tfidf_2_2\"] = predict(SVC_tfidf_2_2_model, tfidf_2_2_vect)"
   ]
  },
  {
   "cell_type": "markdown",
   "metadata": {},
   "source": [
    "> ### Approach 19 - Count Vectorizer | Ngram 1, 3 | Linear SVC"
   ]
  },
  {
   "cell_type": "markdown",
   "metadata": {},
   "source": [
    "##### Import Classifier "
   ]
  },
  {
   "cell_type": "code",
   "execution_count": 269,
   "metadata": {},
   "outputs": [],
   "source": [
    "# Read in model\n",
    "SVC_cv_1_3_infile_model = open(\"SVC_cv_1_3.sav\",'rb')"
   ]
  },
  {
   "cell_type": "code",
   "execution_count": 270,
   "metadata": {},
   "outputs": [],
   "source": [
    "# Save instance of model\n",
    "SVC_cv_1_3_model = pickle.load(SVC_cv_1_3_infile_model)"
   ]
  },
  {
   "cell_type": "code",
   "execution_count": 271,
   "metadata": {},
   "outputs": [],
   "source": [
    "# Close file\n",
    "SVC_cv_1_3_infile_model.close()"
   ]
  },
  {
   "cell_type": "markdown",
   "metadata": {},
   "source": [
    "### Predict and add to phrases_df"
   ]
  },
  {
   "cell_type": "code",
   "execution_count": 272,
   "metadata": {},
   "outputs": [],
   "source": [
    "# Add row to phrases_df\n",
    "phrases_df[\"SVC_cv_1_3\"] = predict(SVC_cv_1_3_model, cv_1_3_vect)"
   ]
  },
  {
   "cell_type": "markdown",
   "metadata": {},
   "source": [
    "> ### Approach 20 - TfIdf Vectorizer | Ngram 1, 3 | Linear SVC"
   ]
  },
  {
   "cell_type": "markdown",
   "metadata": {},
   "source": [
    "##### Import Classifier"
   ]
  },
  {
   "cell_type": "code",
   "execution_count": 273,
   "metadata": {},
   "outputs": [],
   "source": [
    "# Read in model\n",
    "SVC_tfidf_1_3_infile_model = open(\"SVC_tfidf_1_3.sav\",'rb')"
   ]
  },
  {
   "cell_type": "code",
   "execution_count": 274,
   "metadata": {},
   "outputs": [],
   "source": [
    "# Save instance of model\n",
    "SVC_tfidf_1_3_model = pickle.load(SVC_tfidf_1_3_infile_model)"
   ]
  },
  {
   "cell_type": "code",
   "execution_count": 275,
   "metadata": {},
   "outputs": [],
   "source": [
    "# Close file\n",
    "SVC_tfidf_1_3_infile_model.close()"
   ]
  },
  {
   "cell_type": "markdown",
   "metadata": {},
   "source": [
    "### Predict and add to phrases_df"
   ]
  },
  {
   "cell_type": "code",
   "execution_count": 276,
   "metadata": {},
   "outputs": [],
   "source": [
    "# Add row to phrases_df\n",
    "phrases_df[\"SVC_tfidf_1_3\"] = predict(SVC_tfidf_1_3_model, tfidf_1_3_vect)"
   ]
  },
  {
   "cell_type": "markdown",
   "metadata": {},
   "source": [
    "> ### Approach 21 - Count Vectorizer | Ngram 2, 3 | Linear SVC"
   ]
  },
  {
   "cell_type": "markdown",
   "metadata": {},
   "source": [
    "##### Import Classifier"
   ]
  },
  {
   "cell_type": "code",
   "execution_count": 277,
   "metadata": {},
   "outputs": [],
   "source": [
    "# Read in model\n",
    "SVC_cv_2_3_infile_model = open(\"SVC_cv_2_3.sav\",'rb')"
   ]
  },
  {
   "cell_type": "code",
   "execution_count": 278,
   "metadata": {},
   "outputs": [],
   "source": [
    "# Save instance of model\n",
    "SVC_cv_2_3_model = pickle.load(SVC_cv_2_3_infile_model)"
   ]
  },
  {
   "cell_type": "code",
   "execution_count": 279,
   "metadata": {},
   "outputs": [],
   "source": [
    "# Close file\n",
    "SVC_cv_2_3_infile_model.close()"
   ]
  },
  {
   "cell_type": "markdown",
   "metadata": {},
   "source": [
    "### Predict and add to phrases_df"
   ]
  },
  {
   "cell_type": "code",
   "execution_count": 280,
   "metadata": {},
   "outputs": [],
   "source": [
    "# Add row to phrases_df\n",
    "phrases_df[\"SVC_cv_2_3\"] = predict(SVC_cv_2_3_model, cv_2_3_vect)"
   ]
  },
  {
   "cell_type": "markdown",
   "metadata": {},
   "source": [
    "> ### Approach 22 - TfIdf Vectorizer | Ngram 2, 3 | Linear SVC"
   ]
  },
  {
   "cell_type": "markdown",
   "metadata": {},
   "source": [
    "##### Import Classifier "
   ]
  },
  {
   "cell_type": "code",
   "execution_count": 281,
   "metadata": {},
   "outputs": [],
   "source": [
    "# Read in model\n",
    "SVC_tfidf_2_3_infile_model = open(\"SVC_tfidf_2_3.sav\",'rb')"
   ]
  },
  {
   "cell_type": "code",
   "execution_count": 282,
   "metadata": {},
   "outputs": [],
   "source": [
    "# Save instance of model\n",
    "SVC_tfidf_2_3_model = pickle.load(SVC_tfidf_2_3_infile_model)"
   ]
  },
  {
   "cell_type": "code",
   "execution_count": 283,
   "metadata": {},
   "outputs": [],
   "source": [
    "# Close file\n",
    "SVC_tfidf_2_3_infile_model.close()"
   ]
  },
  {
   "cell_type": "markdown",
   "metadata": {},
   "source": [
    "### Predict and add to phrases_df"
   ]
  },
  {
   "cell_type": "code",
   "execution_count": 284,
   "metadata": {},
   "outputs": [],
   "source": [
    "# Add row to phrases_df\n",
    "phrases_df[\"SVC_tfidf_2_3\"] = predict(SVC_tfidf_2_3_model, tfidf_2_3_vect)"
   ]
  },
  {
   "cell_type": "markdown",
   "metadata": {},
   "source": [
    "> ### Approach 23 - Count Vectorizer | Ngram 3, 3 | Linear SVC"
   ]
  },
  {
   "cell_type": "markdown",
   "metadata": {},
   "source": [
    "##### Import Classifier"
   ]
  },
  {
   "cell_type": "code",
   "execution_count": 285,
   "metadata": {},
   "outputs": [],
   "source": [
    "# Read in model\n",
    "SVC_cv_3_3_infile_model = open(\"SVC_cv_3_3.sav\",'rb')"
   ]
  },
  {
   "cell_type": "code",
   "execution_count": 286,
   "metadata": {},
   "outputs": [],
   "source": [
    "# Save instance of model\n",
    "SVC_cv_3_3_model = pickle.load(SVC_cv_3_3_infile_model)"
   ]
  },
  {
   "cell_type": "code",
   "execution_count": 287,
   "metadata": {},
   "outputs": [],
   "source": [
    "# Close file\n",
    "SVC_cv_3_3_infile_model.close()"
   ]
  },
  {
   "cell_type": "markdown",
   "metadata": {},
   "source": [
    "### Predict and add to phrases_df"
   ]
  },
  {
   "cell_type": "code",
   "execution_count": 288,
   "metadata": {},
   "outputs": [],
   "source": [
    "# Add row to phrases_df\n",
    "phrases_df[\"SVC_cv_3_3\"] = predict(SVC_cv_3_3_model, cv_3_3_vect)"
   ]
  },
  {
   "cell_type": "markdown",
   "metadata": {},
   "source": [
    "> ### Approach 24 - TfIdf Vectorizer | Ngram 3, 3 | Linear SVC"
   ]
  },
  {
   "cell_type": "markdown",
   "metadata": {},
   "source": [
    "##### Import Classifier"
   ]
  },
  {
   "cell_type": "code",
   "execution_count": 289,
   "metadata": {},
   "outputs": [],
   "source": [
    "# Read in model\n",
    "SVC_tfidf_3_3_infile_model = open(\"SVC_tfidf_3_3.sav\",'rb')"
   ]
  },
  {
   "cell_type": "code",
   "execution_count": 290,
   "metadata": {},
   "outputs": [],
   "source": [
    "# Save instance of model\n",
    "SVC_tfidf_3_3_model = pickle.load(SVC_tfidf_3_3_infile_model)"
   ]
  },
  {
   "cell_type": "code",
   "execution_count": 291,
   "metadata": {},
   "outputs": [],
   "source": [
    "# Close file\n",
    "SVC_tfidf_3_3_infile_model.close()"
   ]
  },
  {
   "cell_type": "markdown",
   "metadata": {},
   "source": [
    "### Predict and add to phrases_df"
   ]
  },
  {
   "cell_type": "code",
   "execution_count": 292,
   "metadata": {},
   "outputs": [],
   "source": [
    "# Add row to phrases_df\n",
    "phrases_df[\"SVC_tfidf_3_3\"] = predict(SVC_tfidf_3_3_model, tfidf_3_3_vect)"
   ]
  },
  {
   "cell_type": "markdown",
   "metadata": {},
   "source": [
    "-----"
   ]
  },
  {
   "cell_type": "markdown",
   "metadata": {},
   "source": [
    "## Compare Accuracy of Approaches"
   ]
  },
  {
   "cell_type": "markdown",
   "metadata": {},
   "source": [
    "> ##### Function to calculate accuracy score of approach will:\n",
    "- Compare common rows between annotated dataset and column in phrases df\n",
    "- Produce a confusion score for false positives, false negatives, true negatives, true positives"
   ]
  },
  {
   "cell_type": "markdown",
   "metadata": {},
   "source": [
    "Accuracy Score = `(correct matches / length of dataframe) * 100`"
   ]
  },
  {
   "cell_type": "markdown",
   "metadata": {},
   "source": [
    "Confusion Matrix = { \n",
    "                     - True Positive: Positive or Negative correctly identified,\n",
    "                     - True Negative: Neutral correctly identified,\n",
    "                     - False Positive: Positive or Negative identified - Neutral was actual sentiment,\n",
    "                     - False Negative: Neutral identified - Positive / Negative was actual sentiment\n",
    "                }"
   ]
  },
  {
   "cell_type": "code",
   "execution_count": 452,
   "metadata": {},
   "outputs": [],
   "source": [
    "def accuracy(df_column):\n",
    "    \n",
    "    # Accuracy counter \n",
    "    accuracy_counter = 0\n",
    "    \n",
    "    # Confusion score dictionary\n",
    "    confusion_dictionary = {\n",
    "        \"Approach\": df_column,\n",
    "        \"True Positive\": 0,\n",
    "        \"True Negative\": 0,\n",
    "        \"False Positive\": 0,\n",
    "        \"False Negative\": 0\n",
    "    }\n",
    "    \n",
    "    # ====================\n",
    "    # ACCURACY SCORE \n",
    "    # ====================\n",
    "    \n",
    "    # Iterate through phrases_df & annotated_df\n",
    "    for index, row in phrases_df.iterrows():\n",
    "        # Increment Accuracy Score\n",
    "        if row[df_column] == annotated_df.iloc[index][\"sentiment_text\"]:\n",
    "            accuracy_counter += 1        \n",
    "        else:\n",
    "            continue\n",
    "            \n",
    "    # ====================\n",
    "    # CONFUSION MATRIX \n",
    "    # ====================\n",
    "    \n",
    "    # Iterate through phrases_df & annotated_df\n",
    "    for index, row in phrases_df.iterrows():\n",
    "        # If true value identified\n",
    "        if row[df_column] == annotated_df.iloc[index][\"sentiment_text\"]:\n",
    "            # Increment True Positive\n",
    "            if row[df_column] == \"POSITIVE\" or row[df_column] == \"NEGATIVE\":\n",
    "                confusion_dictionary[\"True Positive\"] += 1\n",
    "            # Increment True Negative\n",
    "            elif row[df_column] == \"NEUTRAL\":\n",
    "                confusion_dictionary[\"True Negative\"] += 1\n",
    "            # Catch error\n",
    "            else: \n",
    "                print(\"Error 1: Not all cases identified\")\n",
    "        # If False values identified - NEUTRAL\n",
    "        elif row[df_column] != annotated_df.iloc[index][\"sentiment_text\"] and row[df_column] == \"NEUTRAL\":\n",
    "            # Increment false negative\n",
    "            confusion_dictionary[\"False Negative\"] += 1\n",
    "        # If False values identified - POSITIVE / NEGATIVE\n",
    "        elif row[df_column] != annotated_df.iloc[index][\"sentiment_text\"] and annotated_df.iloc[index][\"sentiment_text\"] == \"NEUTRAL\":\n",
    "            # Increment False Positive\n",
    "            confusion_dictionary[\"False Positive\"] += 1\n",
    "        else:\n",
    "            # Wrong Sentiment Identified - Positive identified as negative or vice versa\n",
    "            # Increment False Positive\n",
    "            confusion_dictionary[\"False Positive\"] += 1\n",
    "            \n",
    "            \n",
    "    # Calculate Accuracy Score\n",
    "    accuracy_score = (accuracy_counter / len(phrases_df)) * 100\n",
    "    \n",
    "    return round(accuracy_score, 3), confusion_dictionary"
   ]
  },
  {
   "cell_type": "markdown",
   "metadata": {},
   "source": [
    "## Logistic Regression Tests"
   ]
  },
  {
   "cell_type": "markdown",
   "metadata": {},
   "source": [
    "> ### Test Accuracy - Approach 1"
   ]
  },
  {
   "cell_type": "code",
   "execution_count": 312,
   "metadata": {},
   "outputs": [],
   "source": [
    "# Save Variables\n",
    "accuracy_1, confusion_1 = accuracy(\"logreg_cv_1_1\")"
   ]
  },
  {
   "cell_type": "code",
   "execution_count": 313,
   "metadata": {},
   "outputs": [
    {
     "name": "stdout",
     "output_type": "stream",
     "text": [
      "Accuracy Score:  70.741 {'Approach': 'logreg_cv_1_1', 'True Positive': 61, 'True Negative': 292, 'False Positive': 59, 'False Negative': 87}\n"
     ]
    }
   ],
   "source": [
    "# Print Variables\n",
    "print(\"Accuracy Score: \", accuracy_1, confusion_1)"
   ]
  },
  {
   "cell_type": "markdown",
   "metadata": {},
   "source": [
    "> ### Test Accuracy - Approach 2"
   ]
  },
  {
   "cell_type": "code",
   "execution_count": 314,
   "metadata": {},
   "outputs": [],
   "source": [
    "# Save Variables\n",
    "accuracy_2, confusion_2 = accuracy(\"logreg_tfidf_1_1\")"
   ]
  },
  {
   "cell_type": "code",
   "execution_count": 315,
   "metadata": {},
   "outputs": [
    {
     "name": "stdout",
     "output_type": "stream",
     "text": [
      "Accuracy Score:  71.142 {'Approach': 'logreg_tfidf_1_1', 'True Positive': 60, 'True Negative': 295, 'False Positive': 55, 'False Negative': 89}\n"
     ]
    }
   ],
   "source": [
    "# Print Variables\n",
    "print(\"Accuracy Score: \", accuracy_2, confusion_2)"
   ]
  },
  {
   "cell_type": "markdown",
   "metadata": {},
   "source": [
    "> ### Test Accuracy - Approach 3"
   ]
  },
  {
   "cell_type": "code",
   "execution_count": 316,
   "metadata": {},
   "outputs": [],
   "source": [
    "# Save Variables\n",
    "accuracy_3, confusion_3 = accuracy(\"logreg_cv_1_2\")"
   ]
  },
  {
   "cell_type": "code",
   "execution_count": 318,
   "metadata": {},
   "outputs": [
    {
     "name": "stdout",
     "output_type": "stream",
     "text": [
      "Accuracy Score:  71.343 {'Approach': 'logreg_cv_1_2', 'True Positive': 60, 'True Negative': 296, 'False Positive': 50, 'False Negative': 93}\n"
     ]
    }
   ],
   "source": [
    "# Print Variables\n",
    "print(\"Accuracy Score: \", accuracy_3, confusion_3)"
   ]
  },
  {
   "cell_type": "markdown",
   "metadata": {},
   "source": [
    "> ### Test Accuracy - Approach 4"
   ]
  },
  {
   "cell_type": "code",
   "execution_count": 319,
   "metadata": {},
   "outputs": [],
   "source": [
    "# Save Variables\n",
    "accuracy_4, confusion_4 = accuracy(\"logreg_tfidf_1_2\")"
   ]
  },
  {
   "cell_type": "code",
   "execution_count": 320,
   "metadata": {},
   "outputs": [
    {
     "name": "stdout",
     "output_type": "stream",
     "text": [
      "Accuracy Score:  66.333 {'Approach': 'logreg_tfidf_1_2', 'True Positive': 67, 'True Negative': 264, 'False Positive': 83, 'False Negative': 85}\n"
     ]
    }
   ],
   "source": [
    "# Print Variables\n",
    "print(\"Accuracy Score: \", accuracy_4, confusion_4)"
   ]
  },
  {
   "cell_type": "markdown",
   "metadata": {},
   "source": [
    "> ### Test Accuracy - Approach 5"
   ]
  },
  {
   "cell_type": "code",
   "execution_count": 321,
   "metadata": {},
   "outputs": [],
   "source": [
    "# Save Variables\n",
    "accuracy_5, confusion_5 = accuracy(\"logreg_cv_2_2\")"
   ]
  },
  {
   "cell_type": "code",
   "execution_count": 322,
   "metadata": {},
   "outputs": [
    {
     "name": "stdout",
     "output_type": "stream",
     "text": [
      "Accuracy Score:  64.93 {'Approach': 'logreg_cv_2_2', 'True Positive': 47, 'True Negative': 277, 'False Positive': 79, 'False Negative': 96}\n"
     ]
    }
   ],
   "source": [
    "# Print Variables\n",
    "print(\"Accuracy Score: \", accuracy_5, confusion_5)"
   ]
  },
  {
   "cell_type": "markdown",
   "metadata": {},
   "source": [
    "> ### Test Accuracy - Approach 6"
   ]
  },
  {
   "cell_type": "code",
   "execution_count": 323,
   "metadata": {},
   "outputs": [],
   "source": [
    "# Save Variables\n",
    "accuracy_6, confusion_6 = accuracy(\"logreg_tfidf_2_2\")"
   ]
  },
  {
   "cell_type": "code",
   "execution_count": 324,
   "metadata": {},
   "outputs": [
    {
     "name": "stdout",
     "output_type": "stream",
     "text": [
      "Accuracy Score:  62.325 {'Approach': 'logreg_tfidf_2_2', 'True Positive': 52, 'True Negative': 259, 'False Positive': 100, 'False Negative': 88}\n"
     ]
    }
   ],
   "source": [
    "# Print Variables\n",
    "print(\"Accuracy Score: \", accuracy_6, confusion_6)"
   ]
  },
  {
   "cell_type": "markdown",
   "metadata": {},
   "source": [
    "> ### Test Accuracy - Approach 7"
   ]
  },
  {
   "cell_type": "code",
   "execution_count": 325,
   "metadata": {},
   "outputs": [],
   "source": [
    "# Save Variables\n",
    "accuracy_7, confusion_7 = accuracy(\"logreg_cv_1_3\")"
   ]
  },
  {
   "cell_type": "code",
   "execution_count": 326,
   "metadata": {},
   "outputs": [
    {
     "name": "stdout",
     "output_type": "stream",
     "text": [
      "Accuracy Score:  71.944 {'Approach': 'logreg_cv_1_3', 'True Positive': 58, 'True Negative': 301, 'False Positive': 44, 'False Negative': 96}\n"
     ]
    }
   ],
   "source": [
    "# Print Variables\n",
    "print(\"Accuracy Score: \", accuracy_7, confusion_7)"
   ]
  },
  {
   "cell_type": "markdown",
   "metadata": {},
   "source": [
    "> ### Test Accuracy - Approach 8"
   ]
  },
  {
   "cell_type": "code",
   "execution_count": 327,
   "metadata": {},
   "outputs": [],
   "source": [
    "# Save Variables\n",
    "accuracy_8, confusion_8 = accuracy(\"logreg_tfidf_1_3\")"
   ]
  },
  {
   "cell_type": "code",
   "execution_count": 328,
   "metadata": {},
   "outputs": [
    {
     "name": "stdout",
     "output_type": "stream",
     "text": [
      "Accuracy Score:  61.122 {'Approach': 'logreg_tfidf_1_3', 'True Positive': 79, 'True Negative': 226, 'False Positive': 130, 'False Negative': 64}\n"
     ]
    }
   ],
   "source": [
    "# Print Variables\n",
    "print(\"Accuracy Score: \", accuracy_8, confusion_8)"
   ]
  },
  {
   "cell_type": "markdown",
   "metadata": {},
   "source": [
    "> ### Test Accuracy - Approach 9"
   ]
  },
  {
   "cell_type": "code",
   "execution_count": 329,
   "metadata": {},
   "outputs": [],
   "source": [
    "# Save Variables\n",
    "accuracy_9, confusion_9 = accuracy(\"logreg_cv_2_3\")"
   ]
  },
  {
   "cell_type": "code",
   "execution_count": 330,
   "metadata": {},
   "outputs": [
    {
     "name": "stdout",
     "output_type": "stream",
     "text": [
      "Accuracy Score:  65.531 {'Approach': 'logreg_cv_2_3', 'True Positive': 40, 'True Negative': 287, 'False Positive': 68, 'False Negative': 104}\n"
     ]
    }
   ],
   "source": [
    "# Print Variables\n",
    "print(\"Accuracy Score: \", accuracy_9, confusion_9)"
   ]
  },
  {
   "cell_type": "markdown",
   "metadata": {},
   "source": [
    "> ### Test Accuracy - Approach 10"
   ]
  },
  {
   "cell_type": "code",
   "execution_count": 331,
   "metadata": {},
   "outputs": [],
   "source": [
    "# Save Variables\n",
    "accuracy_10, confusion_10 = accuracy(\"logreg_tfidf_2_3\")"
   ]
  },
  {
   "cell_type": "code",
   "execution_count": 332,
   "metadata": {},
   "outputs": [
    {
     "name": "stdout",
     "output_type": "stream",
     "text": [
      "Accuracy Score:  57.916 {'Approach': 'logreg_tfidf_2_3', 'True Positive': 47, 'True Negative': 242, 'False Positive': 125, 'False Negative': 85}\n"
     ]
    }
   ],
   "source": [
    "# Print Variables\n",
    "print(\"Accuracy Score: \", accuracy_10, confusion_10)"
   ]
  },
  {
   "cell_type": "markdown",
   "metadata": {},
   "source": [
    "> ### Test Accuracy - Approach 11"
   ]
  },
  {
   "cell_type": "code",
   "execution_count": 333,
   "metadata": {},
   "outputs": [],
   "source": [
    "# Save Variables\n",
    "accuracy_11, confusion_11 = accuracy(\"logreg_cv_3_3\")"
   ]
  },
  {
   "cell_type": "code",
   "execution_count": 334,
   "metadata": {},
   "outputs": [
    {
     "name": "stdout",
     "output_type": "stream",
     "text": [
      "Accuracy Score:  63.527 {'Approach': 'logreg_cv_3_3', 'True Positive': 19, 'True Negative': 298, 'False Positive': 50, 'False Negative': 132}\n"
     ]
    }
   ],
   "source": [
    "# Print Variables\n",
    "print(\"Accuracy Score: \", accuracy_11, confusion_11)"
   ]
  },
  {
   "cell_type": "markdown",
   "metadata": {},
   "source": [
    "> ### Test Accuracy - Approach 12"
   ]
  },
  {
   "cell_type": "code",
   "execution_count": 335,
   "metadata": {},
   "outputs": [],
   "source": [
    "# Save Variables\n",
    "accuracy_12, confusion_12 = accuracy(\"logreg_tfidf_3_3\")"
   ]
  },
  {
   "cell_type": "code",
   "execution_count": 336,
   "metadata": {},
   "outputs": [
    {
     "name": "stdout",
     "output_type": "stream",
     "text": [
      "Accuracy Score:  56.112 {'Approach': 'logreg_tfidf_3_3', 'True Positive': 33, 'True Negative': 247, 'False Positive': 118, 'False Negative': 101}\n"
     ]
    }
   ],
   "source": [
    "# Print Variables\n",
    "print(\"Accuracy Score: \", accuracy_12, confusion_12)"
   ]
  },
  {
   "cell_type": "markdown",
   "metadata": {},
   "source": [
    "## Linear SVC Tests"
   ]
  },
  {
   "cell_type": "markdown",
   "metadata": {},
   "source": [
    "> ### Test Accuracy - Approach 13 "
   ]
  },
  {
   "cell_type": "code",
   "execution_count": 337,
   "metadata": {},
   "outputs": [],
   "source": [
    "# Save Variables\n",
    "accuracy_13, confusion_13 = accuracy(\"SVC_cv_1_1\")"
   ]
  },
  {
   "cell_type": "code",
   "execution_count": 338,
   "metadata": {},
   "outputs": [
    {
     "name": "stdout",
     "output_type": "stream",
     "text": [
      "Accuracy Score:  71.142 {'Approach': 'SVC_cv_1_1', 'True Positive': 60, 'True Negative': 295, 'False Positive': 54, 'False Negative': 90}\n"
     ]
    }
   ],
   "source": [
    "# Print Variables\n",
    "print(\"Accuracy Score: \", accuracy_13, confusion_13)"
   ]
  },
  {
   "cell_type": "markdown",
   "metadata": {},
   "source": [
    "> ### Test Accuracy - Approach 14"
   ]
  },
  {
   "cell_type": "code",
   "execution_count": 339,
   "metadata": {},
   "outputs": [],
   "source": [
    "# Save Variables\n",
    "accuracy_14, confusion_14 = accuracy(\"SVC_tfidf_1_1\")"
   ]
  },
  {
   "cell_type": "code",
   "execution_count": 340,
   "metadata": {},
   "outputs": [
    {
     "name": "stdout",
     "output_type": "stream",
     "text": [
      "Accuracy Score:  71.543 {'Approach': 'SVC_tfidf_1_1', 'True Positive': 63, 'True Negative': 294, 'False Positive': 55, 'False Negative': 87}\n"
     ]
    }
   ],
   "source": [
    "# Print Variables\n",
    "print(\"Accuracy Score: \", accuracy_14, confusion_14)"
   ]
  },
  {
   "cell_type": "markdown",
   "metadata": {},
   "source": [
    "> ### Test Accuracy - Approach 15"
   ]
  },
  {
   "cell_type": "code",
   "execution_count": 341,
   "metadata": {},
   "outputs": [],
   "source": [
    "# Save Variables\n",
    "accuracy_15, confusion_15 = accuracy(\"SVC_cv_1_2\")"
   ]
  },
  {
   "cell_type": "code",
   "execution_count": 342,
   "metadata": {},
   "outputs": [
    {
     "name": "stdout",
     "output_type": "stream",
     "text": [
      "Accuracy Score:  71.543 {'Approach': 'SVC_cv_1_2', 'True Positive': 60, 'True Negative': 297, 'False Positive': 49, 'False Negative': 93}\n"
     ]
    }
   ],
   "source": [
    "# Print Variables\n",
    "print(\"Accuracy Score: \", accuracy_15, confusion_15)"
   ]
  },
  {
   "cell_type": "markdown",
   "metadata": {},
   "source": [
    "> ### Test Accuracy - Approach 16"
   ]
  },
  {
   "cell_type": "code",
   "execution_count": 343,
   "metadata": {},
   "outputs": [],
   "source": [
    "# Save Variables\n",
    "accuracy_16, confusion_16 = accuracy(\"SVC_tfidf_1_2\")"
   ]
  },
  {
   "cell_type": "code",
   "execution_count": 345,
   "metadata": {},
   "outputs": [
    {
     "name": "stdout",
     "output_type": "stream",
     "text": [
      "Accuracy Score:  67.735 {'Approach': 'SVC_tfidf_1_2', 'True Positive': 74, 'True Negative': 264, 'False Positive': 82, 'False Negative': 79}\n"
     ]
    }
   ],
   "source": [
    "# Print Variables\n",
    "print(\"Accuracy Score: \", accuracy_16, confusion_16)"
   ]
  },
  {
   "cell_type": "markdown",
   "metadata": {},
   "source": [
    "> ### Test Accuracy - Approach 17"
   ]
  },
  {
   "cell_type": "code",
   "execution_count": 346,
   "metadata": {},
   "outputs": [],
   "source": [
    "# Save Variables\n",
    "accuracy_17, confusion_17 = accuracy(\"SVC_cv_2_2\")"
   ]
  },
  {
   "cell_type": "code",
   "execution_count": 347,
   "metadata": {},
   "outputs": [
    {
     "name": "stdout",
     "output_type": "stream",
     "text": [
      "Accuracy Score:  65.731 {'Approach': 'SVC_cv_2_2', 'True Positive': 46, 'True Negative': 282, 'False Positive': 72, 'False Negative': 99}\n"
     ]
    }
   ],
   "source": [
    "# Print Variables\n",
    "print(\"Accuracy Score: \", accuracy_17, confusion_17)"
   ]
  },
  {
   "cell_type": "markdown",
   "metadata": {},
   "source": [
    "> ### Test Accuracy - Approach 18 "
   ]
  },
  {
   "cell_type": "code",
   "execution_count": 348,
   "metadata": {},
   "outputs": [],
   "source": [
    "# Save Variables\n",
    "accuracy_18, confusion_18 = accuracy(\"SVC_tfidf_2_2\")"
   ]
  },
  {
   "cell_type": "code",
   "execution_count": 349,
   "metadata": {},
   "outputs": [
    {
     "name": "stdout",
     "output_type": "stream",
     "text": [
      "Accuracy Score:  61.523 {'Approach': 'SVC_tfidf_2_2', 'True Positive': 61, 'True Negative': 246, 'False Positive': 119, 'False Negative': 73}\n"
     ]
    }
   ],
   "source": [
    "# Print Variables\n",
    "print(\"Accuracy Score: \", accuracy_18, confusion_18)"
   ]
  },
  {
   "cell_type": "markdown",
   "metadata": {},
   "source": [
    "> ### Test Accuracy - Approach 19"
   ]
  },
  {
   "cell_type": "code",
   "execution_count": 350,
   "metadata": {},
   "outputs": [],
   "source": [
    "# Save Variables\n",
    "accuracy_19, confusion_19 = accuracy(\"SVC_cv_1_3\")"
   ]
  },
  {
   "cell_type": "code",
   "execution_count": 351,
   "metadata": {},
   "outputs": [
    {
     "name": "stdout",
     "output_type": "stream",
     "text": [
      "Accuracy Score:  72.745 {'Approach': 'SVC_cv_1_3', 'True Positive': 60, 'True Negative': 303, 'False Positive': 43, 'False Negative': 93}\n"
     ]
    }
   ],
   "source": [
    "# Print Variables\n",
    "print(\"Accuracy Score: \", accuracy_19, confusion_19)"
   ]
  },
  {
   "cell_type": "markdown",
   "metadata": {},
   "source": [
    "> ### Test Accuracy - Approach 20"
   ]
  },
  {
   "cell_type": "code",
   "execution_count": 352,
   "metadata": {},
   "outputs": [],
   "source": [
    "# Save Variables\n",
    "accuracy_20, confusion_20 = accuracy(\"SVC_tfidf_1_3\")"
   ]
  },
  {
   "cell_type": "code",
   "execution_count": 353,
   "metadata": {},
   "outputs": [
    {
     "name": "stdout",
     "output_type": "stream",
     "text": [
      "Accuracy Score:  62.926 {'Approach': 'SVC_tfidf_1_3', 'True Positive': 90, 'True Negative': 224, 'False Positive': 132, 'False Negative': 53}\n"
     ]
    }
   ],
   "source": [
    "# Print Variables\n",
    "print(\"Accuracy Score: \", accuracy_20, confusion_20)"
   ]
  },
  {
   "cell_type": "markdown",
   "metadata": {},
   "source": [
    "> ### Test Accuracy - Approach 21"
   ]
  },
  {
   "cell_type": "code",
   "execution_count": 354,
   "metadata": {},
   "outputs": [],
   "source": [
    "# Save Variables\n",
    "accuracy_21, confusion_21 = accuracy(\"SVC_cv_2_3\")"
   ]
  },
  {
   "cell_type": "code",
   "execution_count": 355,
   "metadata": {},
   "outputs": [
    {
     "name": "stdout",
     "output_type": "stream",
     "text": [
      "Accuracy Score:  65.331 {'Approach': 'SVC_cv_2_3', 'True Positive': 37, 'True Negative': 289, 'False Positive': 64, 'False Negative': 109}\n"
     ]
    }
   ],
   "source": [
    "# Print Variables\n",
    "print(\"Accuracy Score: \", accuracy_21, confusion_21)"
   ]
  },
  {
   "cell_type": "markdown",
   "metadata": {},
   "source": [
    "> ### Test Accuracy - Approach 22"
   ]
  },
  {
   "cell_type": "code",
   "execution_count": 356,
   "metadata": {},
   "outputs": [],
   "source": [
    "# Save Variables\n",
    "accuracy_22, confusion_22 = accuracy(\"SVC_tfidf_2_3\")"
   ]
  },
  {
   "cell_type": "code",
   "execution_count": 357,
   "metadata": {},
   "outputs": [
    {
     "name": "stdout",
     "output_type": "stream",
     "text": [
      "Accuracy Score:  59.519 {'Approach': 'SVC_tfidf_2_3', 'True Positive': 61, 'True Negative': 236, 'False Positive': 129, 'False Negative': 73}\n"
     ]
    }
   ],
   "source": [
    "# Print Variables\n",
    "print(\"Accuracy Score: \", accuracy_22, confusion_22)"
   ]
  },
  {
   "cell_type": "markdown",
   "metadata": {},
   "source": [
    "> ### Test Accuracy - Approach 23"
   ]
  },
  {
   "cell_type": "code",
   "execution_count": 358,
   "metadata": {},
   "outputs": [],
   "source": [
    "# Save Variables\n",
    "accuracy_23, confusion_23 = accuracy(\"SVC_cv_3_3\")"
   ]
  },
  {
   "cell_type": "code",
   "execution_count": 359,
   "metadata": {},
   "outputs": [
    {
     "name": "stdout",
     "output_type": "stream",
     "text": [
      "Accuracy Score:  62.926 {'Approach': 'SVC_cv_3_3', 'True Positive': 17, 'True Negative': 297, 'False Positive': 50, 'False Negative': 135}\n"
     ]
    }
   ],
   "source": [
    "# Print Variables\n",
    "print(\"Accuracy Score: \", accuracy_23, confusion_23)"
   ]
  },
  {
   "cell_type": "markdown",
   "metadata": {},
   "source": [
    "> ### Test Accuracy - Approach 24"
   ]
  },
  {
   "cell_type": "code",
   "execution_count": 360,
   "metadata": {},
   "outputs": [],
   "source": [
    "# Save Variables\n",
    "accuracy_24, confusion_24 = accuracy(\"SVC_tfidf_3_3\")"
   ]
  },
  {
   "cell_type": "code",
   "execution_count": 361,
   "metadata": {},
   "outputs": [
    {
     "name": "stdout",
     "output_type": "stream",
     "text": [
      "Accuracy Score:  55.912 {'Approach': 'SVC_tfidf_3_3', 'True Positive': 38, 'True Negative': 241, 'False Positive': 123, 'False Negative': 97}\n"
     ]
    }
   ],
   "source": [
    "# Print Variables\n",
    "print(\"Accuracy Score: \", accuracy_24, confusion_24)"
   ]
  },
  {
   "cell_type": "markdown",
   "metadata": {},
   "source": [
    "----"
   ]
  },
  {
   "cell_type": "markdown",
   "metadata": {},
   "source": [
    "## Visualise the Test Results"
   ]
  },
  {
   "cell_type": "markdown",
   "metadata": {},
   "source": [
    "##### Make a Dataframe from the results "
   ]
  },
  {
   "cell_type": "code",
   "execution_count": 362,
   "metadata": {},
   "outputs": [],
   "source": [
    "# Begin with confusion matrixes\n",
    "results_df = pd.DataFrame([confusion_1, confusion_2, confusion_3, confusion_4, confusion_5, confusion_6, confusion_7, confusion_8, confusion_9, confusion_10, confusion_11, confusion_12, confusion_13, confusion_14, confusion_15, confusion_16, confusion_17, confusion_18, confusion_19, confusion_20, confusion_21, confusion_22, confusion_23, confusion_24])"
   ]
  },
  {
   "cell_type": "code",
   "execution_count": 363,
   "metadata": {},
   "outputs": [],
   "source": [
    "# Add in Accuracy Scores\n",
    "results_df[\"Accuracy\"] = [accuracy_1, accuracy_2, accuracy_3, accuracy_4, accuracy_5, accuracy_6, accuracy_7, accuracy_8, accuracy_9, accuracy_10, accuracy_11, accuracy_12, accuracy_13, accuracy_14, accuracy_15, accuracy_16, accuracy_17, accuracy_18, accuracy_19, accuracy_20, accuracy_21, accuracy_22, accuracy_23, accuracy_24]"
   ]
  },
  {
   "cell_type": "code",
   "execution_count": 364,
   "metadata": {},
   "outputs": [
    {
     "data": {
      "text/html": [
       "<div>\n",
       "<style scoped>\n",
       "    .dataframe tbody tr th:only-of-type {\n",
       "        vertical-align: middle;\n",
       "    }\n",
       "\n",
       "    .dataframe tbody tr th {\n",
       "        vertical-align: top;\n",
       "    }\n",
       "\n",
       "    .dataframe thead th {\n",
       "        text-align: right;\n",
       "    }\n",
       "</style>\n",
       "<table border=\"1\" class=\"dataframe\">\n",
       "  <thead>\n",
       "    <tr style=\"text-align: right;\">\n",
       "      <th></th>\n",
       "      <th>Approach</th>\n",
       "      <th>False Negative</th>\n",
       "      <th>False Positive</th>\n",
       "      <th>True Negative</th>\n",
       "      <th>True Positive</th>\n",
       "      <th>Accuracy</th>\n",
       "    </tr>\n",
       "  </thead>\n",
       "  <tbody>\n",
       "    <tr>\n",
       "      <th>0</th>\n",
       "      <td>logreg_cv_1_1</td>\n",
       "      <td>87</td>\n",
       "      <td>59</td>\n",
       "      <td>292</td>\n",
       "      <td>61</td>\n",
       "      <td>70.741</td>\n",
       "    </tr>\n",
       "    <tr>\n",
       "      <th>1</th>\n",
       "      <td>logreg_tfidf_1_1</td>\n",
       "      <td>89</td>\n",
       "      <td>55</td>\n",
       "      <td>295</td>\n",
       "      <td>60</td>\n",
       "      <td>71.142</td>\n",
       "    </tr>\n",
       "    <tr>\n",
       "      <th>2</th>\n",
       "      <td>logreg_cv_1_2</td>\n",
       "      <td>93</td>\n",
       "      <td>50</td>\n",
       "      <td>296</td>\n",
       "      <td>60</td>\n",
       "      <td>71.343</td>\n",
       "    </tr>\n",
       "    <tr>\n",
       "      <th>3</th>\n",
       "      <td>logreg_tfidf_1_2</td>\n",
       "      <td>85</td>\n",
       "      <td>83</td>\n",
       "      <td>264</td>\n",
       "      <td>67</td>\n",
       "      <td>66.333</td>\n",
       "    </tr>\n",
       "    <tr>\n",
       "      <th>4</th>\n",
       "      <td>logreg_cv_2_2</td>\n",
       "      <td>96</td>\n",
       "      <td>79</td>\n",
       "      <td>277</td>\n",
       "      <td>47</td>\n",
       "      <td>64.930</td>\n",
       "    </tr>\n",
       "    <tr>\n",
       "      <th>5</th>\n",
       "      <td>logreg_tfidf_2_2</td>\n",
       "      <td>88</td>\n",
       "      <td>100</td>\n",
       "      <td>259</td>\n",
       "      <td>52</td>\n",
       "      <td>62.325</td>\n",
       "    </tr>\n",
       "    <tr>\n",
       "      <th>6</th>\n",
       "      <td>logreg_cv_1_3</td>\n",
       "      <td>96</td>\n",
       "      <td>44</td>\n",
       "      <td>301</td>\n",
       "      <td>58</td>\n",
       "      <td>71.944</td>\n",
       "    </tr>\n",
       "    <tr>\n",
       "      <th>7</th>\n",
       "      <td>logreg_tfidf_1_3</td>\n",
       "      <td>64</td>\n",
       "      <td>130</td>\n",
       "      <td>226</td>\n",
       "      <td>79</td>\n",
       "      <td>61.122</td>\n",
       "    </tr>\n",
       "    <tr>\n",
       "      <th>8</th>\n",
       "      <td>logreg_cv_2_3</td>\n",
       "      <td>104</td>\n",
       "      <td>68</td>\n",
       "      <td>287</td>\n",
       "      <td>40</td>\n",
       "      <td>65.531</td>\n",
       "    </tr>\n",
       "    <tr>\n",
       "      <th>9</th>\n",
       "      <td>logreg_tfidf_2_3</td>\n",
       "      <td>85</td>\n",
       "      <td>125</td>\n",
       "      <td>242</td>\n",
       "      <td>47</td>\n",
       "      <td>57.916</td>\n",
       "    </tr>\n",
       "    <tr>\n",
       "      <th>10</th>\n",
       "      <td>logreg_cv_3_3</td>\n",
       "      <td>132</td>\n",
       "      <td>50</td>\n",
       "      <td>298</td>\n",
       "      <td>19</td>\n",
       "      <td>63.527</td>\n",
       "    </tr>\n",
       "    <tr>\n",
       "      <th>11</th>\n",
       "      <td>logreg_tfidf_3_3</td>\n",
       "      <td>101</td>\n",
       "      <td>118</td>\n",
       "      <td>247</td>\n",
       "      <td>33</td>\n",
       "      <td>56.112</td>\n",
       "    </tr>\n",
       "    <tr>\n",
       "      <th>12</th>\n",
       "      <td>SVC_cv_1_1</td>\n",
       "      <td>90</td>\n",
       "      <td>54</td>\n",
       "      <td>295</td>\n",
       "      <td>60</td>\n",
       "      <td>71.142</td>\n",
       "    </tr>\n",
       "    <tr>\n",
       "      <th>13</th>\n",
       "      <td>SVC_tfidf_1_1</td>\n",
       "      <td>87</td>\n",
       "      <td>55</td>\n",
       "      <td>294</td>\n",
       "      <td>63</td>\n",
       "      <td>71.543</td>\n",
       "    </tr>\n",
       "    <tr>\n",
       "      <th>14</th>\n",
       "      <td>SVC_cv_1_2</td>\n",
       "      <td>93</td>\n",
       "      <td>49</td>\n",
       "      <td>297</td>\n",
       "      <td>60</td>\n",
       "      <td>71.543</td>\n",
       "    </tr>\n",
       "    <tr>\n",
       "      <th>15</th>\n",
       "      <td>SVC_tfidf_1_2</td>\n",
       "      <td>79</td>\n",
       "      <td>82</td>\n",
       "      <td>264</td>\n",
       "      <td>74</td>\n",
       "      <td>67.735</td>\n",
       "    </tr>\n",
       "    <tr>\n",
       "      <th>16</th>\n",
       "      <td>SVC_cv_2_2</td>\n",
       "      <td>99</td>\n",
       "      <td>72</td>\n",
       "      <td>282</td>\n",
       "      <td>46</td>\n",
       "      <td>65.731</td>\n",
       "    </tr>\n",
       "    <tr>\n",
       "      <th>17</th>\n",
       "      <td>SVC_tfidf_2_2</td>\n",
       "      <td>73</td>\n",
       "      <td>119</td>\n",
       "      <td>246</td>\n",
       "      <td>61</td>\n",
       "      <td>61.523</td>\n",
       "    </tr>\n",
       "    <tr>\n",
       "      <th>18</th>\n",
       "      <td>SVC_cv_1_3</td>\n",
       "      <td>93</td>\n",
       "      <td>43</td>\n",
       "      <td>303</td>\n",
       "      <td>60</td>\n",
       "      <td>72.745</td>\n",
       "    </tr>\n",
       "    <tr>\n",
       "      <th>19</th>\n",
       "      <td>SVC_tfidf_1_3</td>\n",
       "      <td>53</td>\n",
       "      <td>132</td>\n",
       "      <td>224</td>\n",
       "      <td>90</td>\n",
       "      <td>62.926</td>\n",
       "    </tr>\n",
       "    <tr>\n",
       "      <th>20</th>\n",
       "      <td>SVC_cv_2_3</td>\n",
       "      <td>109</td>\n",
       "      <td>64</td>\n",
       "      <td>289</td>\n",
       "      <td>37</td>\n",
       "      <td>65.331</td>\n",
       "    </tr>\n",
       "    <tr>\n",
       "      <th>21</th>\n",
       "      <td>SVC_tfidf_2_3</td>\n",
       "      <td>73</td>\n",
       "      <td>129</td>\n",
       "      <td>236</td>\n",
       "      <td>61</td>\n",
       "      <td>59.519</td>\n",
       "    </tr>\n",
       "    <tr>\n",
       "      <th>22</th>\n",
       "      <td>SVC_cv_3_3</td>\n",
       "      <td>135</td>\n",
       "      <td>50</td>\n",
       "      <td>297</td>\n",
       "      <td>17</td>\n",
       "      <td>62.926</td>\n",
       "    </tr>\n",
       "    <tr>\n",
       "      <th>23</th>\n",
       "      <td>SVC_tfidf_3_3</td>\n",
       "      <td>97</td>\n",
       "      <td>123</td>\n",
       "      <td>241</td>\n",
       "      <td>38</td>\n",
       "      <td>55.912</td>\n",
       "    </tr>\n",
       "  </tbody>\n",
       "</table>\n",
       "</div>"
      ],
      "text/plain": [
       "            Approach  False Negative  False Positive  True Negative  \\\n",
       "0   logreg_cv_1_1     87              59              292             \n",
       "1   logreg_tfidf_1_1  89              55              295             \n",
       "2   logreg_cv_1_2     93              50              296             \n",
       "3   logreg_tfidf_1_2  85              83              264             \n",
       "4   logreg_cv_2_2     96              79              277             \n",
       "5   logreg_tfidf_2_2  88              100             259             \n",
       "6   logreg_cv_1_3     96              44              301             \n",
       "7   logreg_tfidf_1_3  64              130             226             \n",
       "8   logreg_cv_2_3     104             68              287             \n",
       "9   logreg_tfidf_2_3  85              125             242             \n",
       "10  logreg_cv_3_3     132             50              298             \n",
       "11  logreg_tfidf_3_3  101             118             247             \n",
       "12  SVC_cv_1_1        90              54              295             \n",
       "13  SVC_tfidf_1_1     87              55              294             \n",
       "14  SVC_cv_1_2        93              49              297             \n",
       "15  SVC_tfidf_1_2     79              82              264             \n",
       "16  SVC_cv_2_2        99              72              282             \n",
       "17  SVC_tfidf_2_2     73              119             246             \n",
       "18  SVC_cv_1_3        93              43              303             \n",
       "19  SVC_tfidf_1_3     53              132             224             \n",
       "20  SVC_cv_2_3        109             64              289             \n",
       "21  SVC_tfidf_2_3     73              129             236             \n",
       "22  SVC_cv_3_3        135             50              297             \n",
       "23  SVC_tfidf_3_3     97              123             241             \n",
       "\n",
       "    True Positive  Accuracy  \n",
       "0   61             70.741    \n",
       "1   60             71.142    \n",
       "2   60             71.343    \n",
       "3   67             66.333    \n",
       "4   47             64.930    \n",
       "5   52             62.325    \n",
       "6   58             71.944    \n",
       "7   79             61.122    \n",
       "8   40             65.531    \n",
       "9   47             57.916    \n",
       "10  19             63.527    \n",
       "11  33             56.112    \n",
       "12  60             71.142    \n",
       "13  63             71.543    \n",
       "14  60             71.543    \n",
       "15  74             67.735    \n",
       "16  46             65.731    \n",
       "17  61             61.523    \n",
       "18  60             72.745    \n",
       "19  90             62.926    \n",
       "20  37             65.331    \n",
       "21  61             59.519    \n",
       "22  17             62.926    \n",
       "23  38             55.912    "
      ]
     },
     "execution_count": 364,
     "metadata": {},
     "output_type": "execute_result"
    }
   ],
   "source": [
    "results_df"
   ]
  },
  {
   "cell_type": "markdown",
   "metadata": {},
   "source": [
    "### Visualise the Accuracy Scores"
   ]
  },
  {
   "cell_type": "code",
   "execution_count": 367,
   "metadata": {},
   "outputs": [],
   "source": [
    "import seaborn as sns\n",
    "import matplotlib.pyplot as plt"
   ]
  },
  {
   "cell_type": "code",
   "execution_count": 374,
   "metadata": {},
   "outputs": [
    {
     "data": {
      "text/plain": [
       "[Text(0, 0, 'logreg_cv_1_1'),\n",
       " Text(0, 0, 'logreg_tfidf_1_1'),\n",
       " Text(0, 0, 'logreg_cv_1_2'),\n",
       " Text(0, 0, 'logreg_tfidf_1_2'),\n",
       " Text(0, 0, 'logreg_cv_2_2'),\n",
       " Text(0, 0, 'logreg_tfidf_2_2'),\n",
       " Text(0, 0, 'logreg_cv_1_3'),\n",
       " Text(0, 0, 'logreg_tfidf_1_3'),\n",
       " Text(0, 0, 'logreg_cv_2_3'),\n",
       " Text(0, 0, 'logreg_tfidf_2_3'),\n",
       " Text(0, 0, 'logreg_cv_3_3'),\n",
       " Text(0, 0, 'logreg_tfidf_3_3'),\n",
       " Text(0, 0, 'SVC_cv_1_1'),\n",
       " Text(0, 0, 'SVC_tfidf_1_1'),\n",
       " Text(0, 0, 'SVC_cv_1_2'),\n",
       " Text(0, 0, 'SVC_tfidf_1_2'),\n",
       " Text(0, 0, 'SVC_cv_2_2'),\n",
       " Text(0, 0, 'SVC_tfidf_2_2'),\n",
       " Text(0, 0, 'SVC_cv_1_3'),\n",
       " Text(0, 0, 'SVC_tfidf_1_3'),\n",
       " Text(0, 0, 'SVC_cv_2_3'),\n",
       " Text(0, 0, 'SVC_tfidf_2_3'),\n",
       " Text(0, 0, 'SVC_cv_3_3'),\n",
       " Text(0, 0, 'SVC_tfidf_3_3')]"
      ]
     },
     "execution_count": 374,
     "metadata": {},
     "output_type": "execute_result"
    },
    {
     "data": {
      "image/png": "[encoded data removed]",
      "text/plain": [
       "<Figure size 1490.4x739.44 with 1 Axes>"
      ]
     },
     "metadata": {},
     "output_type": "display_data"
    }
   ],
   "source": [
    "# Set Chart Options\n",
    "sns.set(rc={'figure.figsize':(20.7,10.27), })\n",
    "sns.set(style=\"darkgrid\")\n",
    "accuracy_chart = sns.barplot(x=\"Approach\", y=\"Accuracy\", data=results_df, color=\"#7CB7A3\")\n",
    "plt.ylim(0, 100)\n",
    "accuracy_chart.axes.set_title(\"Accuracy scores for sentiment prediction across 24 different approaches\",fontsize=30)\n",
    "accuracy_chart.set_xlabel(\"Approach\",fontsize=20)\n",
    "accuracy_chart.set_ylabel(\"Accuracy Score\",fontsize=20)\n",
    "accuracy_chart.tick_params(labelsize=12)\n",
    "accuracy_chart.set_xticklabels(accuracy_chart.get_xticklabels(),horizontalalignment='right',\n",
    "    fontweight='light',\n",
    "    fontsize='large',  rotation=45)"
   ]
  },
  {
   "cell_type": "markdown",
   "metadata": {},
   "source": [
    "### Visualising N False Positives\n"
   ]
  },
  {
   "cell_type": "code",
   "execution_count": 379,
   "metadata": {},
   "outputs": [
    {
     "data": {
      "text/plain": [
       "[Text(0, 0, 'logreg_cv_1_1'),\n",
       " Text(0, 0, 'logreg_tfidf_1_1'),\n",
       " Text(0, 0, 'logreg_cv_1_2'),\n",
       " Text(0, 0, 'logreg_tfidf_1_2'),\n",
       " Text(0, 0, 'logreg_cv_2_2'),\n",
       " Text(0, 0, 'logreg_tfidf_2_2'),\n",
       " Text(0, 0, 'logreg_cv_1_3'),\n",
       " Text(0, 0, 'logreg_tfidf_1_3'),\n",
       " Text(0, 0, 'logreg_cv_2_3'),\n",
       " Text(0, 0, 'logreg_tfidf_2_3'),\n",
       " Text(0, 0, 'logreg_cv_3_3'),\n",
       " Text(0, 0, 'logreg_tfidf_3_3'),\n",
       " Text(0, 0, 'SVC_cv_1_1'),\n",
       " Text(0, 0, 'SVC_tfidf_1_1'),\n",
       " Text(0, 0, 'SVC_cv_1_2'),\n",
       " Text(0, 0, 'SVC_tfidf_1_2'),\n",
       " Text(0, 0, 'SVC_cv_2_2'),\n",
       " Text(0, 0, 'SVC_tfidf_2_2'),\n",
       " Text(0, 0, 'SVC_cv_1_3'),\n",
       " Text(0, 0, 'SVC_tfidf_1_3'),\n",
       " Text(0, 0, 'SVC_cv_2_3'),\n",
       " Text(0, 0, 'SVC_tfidf_2_3'),\n",
       " Text(0, 0, 'SVC_cv_3_3'),\n",
       " Text(0, 0, 'SVC_tfidf_3_3')]"
      ]
     },
     "execution_count": 379,
     "metadata": {},
     "output_type": "execute_result"
    },
    {
     "data": {
      "image/png": "[encoded data removed]",
      "text/plain": [
       "<Figure size 1490.4x739.44 with 1 Axes>"
      ]
     },
     "metadata": {},
     "output_type": "display_data"
    }
   ],
   "source": [
    "false_positives_chart = sns.barplot(x=\"Approach\", y=\"False Positive\", data=results_df, color=\"#B76E79\")\n",
    "plt.ylim(0, 150)\n",
    "false_positives_chart.axes.set_title(\"Number of false positives for sentiment prediction across 24 different approaches\",fontsize=30)\n",
    "false_positives_chart.set_xlabel(\"Approach\",fontsize=20)\n",
    "false_positives_chart.set_ylabel(\"Number of false positives\",fontsize=20)\n",
    "false_positives_chart.tick_params(labelsize=12)\n",
    "false_positives_chart.set_xticklabels(false_positives_chart.get_xticklabels(),horizontalalignment='right',\n",
    "    fontweight='light',\n",
    "    fontsize='large',  rotation=45)"
   ]
  },
  {
   "cell_type": "markdown",
   "metadata": {},
   "source": [
    "### Visualising Accuracy vs False Positives"
   ]
  },
  {
   "cell_type": "code",
   "execution_count": 383,
   "metadata": {},
   "outputs": [
    {
     "data": {
      "text/plain": [
       "<Figure size 9792x14832 with 0 Axes>"
      ]
     },
     "metadata": {},
     "output_type": "display_data"
    },
    {
     "data": {
      "image/png": "[encoded data removed]",
      "text/plain": [
       "<Figure size 478.975x360 with 1 Axes>"
      ]
     },
     "metadata": {},
     "output_type": "display_data"
    }
   ],
   "source": [
    "plt.figure(figsize=(136, 206))\n",
    "accuracy_vs_falsepositives = sns.lmplot( x=\"Accuracy\", y=\"False Positive\", data=results_df, fit_reg=False, hue='Approach', legend=True)\n",
    "false_positives_chart.axes.set_title(\"Number of false positives within target identification across 10 different approaches\",fontsize=30)\n",
    "false_positives_chart.set_xlabel(\"Approach\",fontsize=20)\n",
    "false_positives_chart.set_ylabel(\"Number of false positives\",fontsize=20)\n",
    "false_positives_chart.tick_params(labelsize=12)"
   ]
  },
  {
   "cell_type": "markdown",
   "metadata": {},
   "source": [
    "----"
   ]
  },
  {
   "cell_type": "markdown",
   "metadata": {},
   "source": [
    "# Repeating the process - Lemmatized text / No Stopwords"
   ]
  },
  {
   "cell_type": "markdown",
   "metadata": {},
   "source": [
    "> #### Predictions for lemmatized / no stopwords\n",
    "- This next phase will repeat the experiment process after removing stopwords from the text and lemmatizing the phrases"
   ]
  },
  {
   "cell_type": "markdown",
   "metadata": {},
   "source": [
    "### Make a Separate Dataframe"
   ]
  },
  {
   "cell_type": "code",
   "execution_count": 420,
   "metadata": {},
   "outputs": [],
   "source": [
    "# LS data frame: Lemmatized - Stopwords\n",
    "ls_phrases_df = pd.DataFrame(annotated_df['Sentence'])"
   ]
  },
  {
   "cell_type": "markdown",
   "metadata": {},
   "source": [
    "### Remove Stopwords and Lemmatize"
   ]
  },
  {
   "cell_type": "code",
   "execution_count": 421,
   "metadata": {},
   "outputs": [],
   "source": [
    "# Import nltk modules\n",
    "from nltk.tokenize import word_tokenize\n",
    "from nltk.stem import WordNetLemmatizer\n",
    "\n",
    "# Import customised list of stopwords\n",
    "import stopwords"
   ]
  },
  {
   "cell_type": "code",
   "execution_count": 422,
   "metadata": {},
   "outputs": [],
   "source": [
    "# Function to remove stopwords and lemmatize text - IN PLACE!\n",
    "def stopwords_lemmatize(string):\n",
    "    return \" \".join([WordNetLemmatizer().lemmatize(word) for word in word_tokenize(string) if word not in stopwords.stopwords()])"
   ]
  },
  {
   "cell_type": "code",
   "execution_count": 423,
   "metadata": {},
   "outputs": [],
   "source": [
    "# Apply the function to a new column - no_stopwords_lemmatizes_phrases\n",
    "ls_phrases_df['no_stopwords_lemmatizes_phrases'] = ls_phrases_df['Sentence'].apply(stopwords_lemmatize)"
   ]
  },
  {
   "cell_type": "code",
   "execution_count": 424,
   "metadata": {},
   "outputs": [],
   "source": [
    "# Drop old sentence column\n",
    "ls_phrases_df = ls_phrases_df.drop(['Sentence'], axis=1)"
   ]
  },
  {
   "cell_type": "markdown",
   "metadata": {},
   "source": [
    "-----"
   ]
  },
  {
   "cell_type": "markdown",
   "metadata": {},
   "source": [
    "### Adding Predictions"
   ]
  },
  {
   "cell_type": "markdown",
   "metadata": {},
   "source": [
    "##### Define a general function to add predictions to a new column of ls_phrases_df"
   ]
  },
  {
   "cell_type": "code",
   "execution_count": 425,
   "metadata": {},
   "outputs": [],
   "source": [
    "def predict_ls(model, vectorizer):\n",
    "    \n",
    "    # Sentence List\n",
    "    sentences = []\n",
    "    \n",
    "    # Iterate through df and append sentences to sentences list\n",
    "    for index, row in ls_phrases_df.iterrows():\n",
    "        \n",
    "        # Append Sentences list with sentences\n",
    "        sentences.append(row['no_stopwords_lemmatizes_phrases'])\n",
    "    \n",
    "    # Iterate through sentences list and make predictions\n",
    "    predictions = model.predict(vectorizer.transform(sentences))\n",
    "        \n",
    "    # Return List of Predictions\n",
    "    return predictions"
   ]
  },
  {
   "cell_type": "markdown",
   "metadata": {},
   "source": [
    "> ### Approach 1 - Count Vectorizer | Ngram 1,1 | Logistic Regression"
   ]
  },
  {
   "cell_type": "code",
   "execution_count": 426,
   "metadata": {},
   "outputs": [],
   "source": [
    "# Add row to ls_phrases_df\n",
    "ls_phrases_df[\"logreg_cv_1_1\"] = predict_ls(logreg_cv_1_1_model, cv_1_1_vect)"
   ]
  },
  {
   "cell_type": "markdown",
   "metadata": {},
   "source": [
    "> ### Approach 2 - TfIdf Vectorizer | Ngram 1,1 | Logistic Regression"
   ]
  },
  {
   "cell_type": "code",
   "execution_count": 427,
   "metadata": {},
   "outputs": [],
   "source": [
    "# Add row to ls_phrases_df\n",
    "ls_phrases_df[\"logreg_tfidf_1_1\"] = predict_ls(logreg_tfidf_1_1_model, tfidf_1_1_vect)"
   ]
  },
  {
   "cell_type": "markdown",
   "metadata": {},
   "source": [
    "> ### Approach 3 - Count Vectorizer | Ngram 1,2 | Logistic Regression"
   ]
  },
  {
   "cell_type": "code",
   "execution_count": 428,
   "metadata": {},
   "outputs": [],
   "source": [
    "# Add row to ls_phrases_df\n",
    "ls_phrases_df[\"logreg_cv_1_2\"] = predict_ls(logreg_cv_1_2_model, cv_1_2_vect)"
   ]
  },
  {
   "cell_type": "markdown",
   "metadata": {},
   "source": [
    "> ### Approach 4 - TfIdf Vectorizer | Ngram 1,2 | Logistic Regression"
   ]
  },
  {
   "cell_type": "code",
   "execution_count": 429,
   "metadata": {},
   "outputs": [],
   "source": [
    "# Add row to ls_phrases_df\n",
    "ls_phrases_df[\"logreg_tfidf_1_2\"] = predict_ls(logreg_tfidf_1_2_model, tfidf_1_2_vect)"
   ]
  },
  {
   "cell_type": "markdown",
   "metadata": {},
   "source": [
    "> ### Approach 5 - Count Vectorizer | Ngram 2,2 | Logistic Regression"
   ]
  },
  {
   "cell_type": "code",
   "execution_count": 430,
   "metadata": {},
   "outputs": [],
   "source": [
    "# Add row to ls_phrases_df\n",
    "ls_phrases_df[\"logreg_cv_2_2\"] = predict_ls(logreg_cv_2_2_model, cv_2_2_vect)"
   ]
  },
  {
   "cell_type": "markdown",
   "metadata": {},
   "source": [
    "> ### Approach 6 - TfIdf Vectorizer | Ngram 2,2 | Logistic Regression"
   ]
  },
  {
   "cell_type": "code",
   "execution_count": 431,
   "metadata": {},
   "outputs": [],
   "source": [
    "# Add row to ls_phrases_df\n",
    "ls_phrases_df[\"logreg_tfidf_2_2\"] = predict_ls(logreg_tfidf_2_2_model, tfidf_2_2_vect)"
   ]
  },
  {
   "cell_type": "markdown",
   "metadata": {},
   "source": [
    "> ### Approach 7 - Count Vectorizer | Ngram 1,3 | Logistic Regression"
   ]
  },
  {
   "cell_type": "code",
   "execution_count": 432,
   "metadata": {},
   "outputs": [],
   "source": [
    "# Add row to ls_phrases_df\n",
    "ls_phrases_df[\"logreg_cv_1_3\"] = predict_ls(logreg_cv_1_3_model, cv_1_3_vect)"
   ]
  },
  {
   "cell_type": "markdown",
   "metadata": {},
   "source": [
    "> ### Approach 8 - TfIdf Vectorizer | Ngram 1,3 | Logistic Regression"
   ]
  },
  {
   "cell_type": "code",
   "execution_count": 433,
   "metadata": {},
   "outputs": [],
   "source": [
    "# Add row to ls_phrases_df\n",
    "ls_phrases_df[\"logreg_tfidf_1_3\"] = predict_ls(logreg_tfidf_1_3_model, tfidf_1_3_vect)"
   ]
  },
  {
   "cell_type": "markdown",
   "metadata": {},
   "source": [
    "> ### Approach 9 - Count Vectorizer | Ngram 2,3 | Logistic Regression"
   ]
  },
  {
   "cell_type": "code",
   "execution_count": 434,
   "metadata": {},
   "outputs": [],
   "source": [
    "# Add row to ls_phrases_df\n",
    "ls_phrases_df[\"logreg_cv_2_3\"] = predict_ls(logreg_cv_2_3_model, cv_2_3_vect)"
   ]
  },
  {
   "cell_type": "markdown",
   "metadata": {},
   "source": [
    "> ### Approach 10 - TfIdf Vectorizer | Ngram 2,3 | Logistic Regression"
   ]
  },
  {
   "cell_type": "code",
   "execution_count": 435,
   "metadata": {},
   "outputs": [],
   "source": [
    "# Add row to ls_phrases_df\n",
    "ls_phrases_df[\"logreg_tfidf_2_3\"] = predict_ls(logreg_tfidf_2_3_model, tfidf_2_3_vect)"
   ]
  },
  {
   "cell_type": "markdown",
   "metadata": {},
   "source": [
    "> ### Approach 11 - Count Vectorizer | Ngram 3,3 | Logistic Regression"
   ]
  },
  {
   "cell_type": "code",
   "execution_count": 436,
   "metadata": {},
   "outputs": [],
   "source": [
    "# Add row to ls_phrases_df\n",
    "ls_phrases_df[\"logreg_cv_3_3\"] = predict_ls(logreg_cv_3_3_model, cv_3_3_vect)"
   ]
  },
  {
   "cell_type": "markdown",
   "metadata": {},
   "source": [
    "> ### Approach 12 - TfIdf Vectorizer | Ngram 3,3 | Logistic Regression"
   ]
  },
  {
   "cell_type": "code",
   "execution_count": 437,
   "metadata": {},
   "outputs": [],
   "source": [
    "# Add row to ls_phrases_df\n",
    "ls_phrases_df[\"logreg_tfidf_3_3\"] = predict_ls(logreg_tfidf_3_3_model, tfidf_3_3_vect)"
   ]
  },
  {
   "cell_type": "markdown",
   "metadata": {},
   "source": [
    "### Linear SVC"
   ]
  },
  {
   "cell_type": "markdown",
   "metadata": {},
   "source": [
    "> ### Approach 13 - Count Vectorizer | Ngram 1,1 | Linear SVC"
   ]
  },
  {
   "cell_type": "code",
   "execution_count": 438,
   "metadata": {},
   "outputs": [],
   "source": [
    "# Add row to ls_phrases_df\n",
    "ls_phrases_df[\"SVC_cv_1_1\"] = predict_ls(SVC_cv_1_1_model, cv_1_1_vect)"
   ]
  },
  {
   "cell_type": "markdown",
   "metadata": {},
   "source": [
    "> ### Approach 14 - TfIdf Vectorizer | Ngram 1,1 | Linear SVC"
   ]
  },
  {
   "cell_type": "code",
   "execution_count": 439,
   "metadata": {},
   "outputs": [],
   "source": [
    "# Add row to ls_phrases_df\n",
    "ls_phrases_df[\"SVC_tfidf_1_1\"] = predict_ls(SVC_tfidf_1_1_model, tfidf_1_1_vect)"
   ]
  },
  {
   "cell_type": "markdown",
   "metadata": {},
   "source": [
    "> ### Approach 15 - Count Vectorizer | Ngram 1,2 | Linear SVC"
   ]
  },
  {
   "cell_type": "code",
   "execution_count": 440,
   "metadata": {},
   "outputs": [],
   "source": [
    "# Add row to ls_phrases_df\n",
    "ls_phrases_df[\"SVC_cv_1_2\"] = predict_ls(SVC_cv_1_2_model, cv_1_2_vect)"
   ]
  },
  {
   "cell_type": "markdown",
   "metadata": {},
   "source": [
    "> ### Approach 16 - TfIdf Vectorizer | Ngram 1,2 | Linear SVC"
   ]
  },
  {
   "cell_type": "code",
   "execution_count": 441,
   "metadata": {},
   "outputs": [],
   "source": [
    "# Add row to ls_phrases_df\n",
    "ls_phrases_df[\"SVC_tfidf_1_2\"] = predict_ls(SVC_tfidf_1_2_model, tfidf_1_2_vect)"
   ]
  },
  {
   "cell_type": "markdown",
   "metadata": {},
   "source": [
    "> ### Approach 17 - Count Vectorizer | Ngram 2,2 | Linear SVC"
   ]
  },
  {
   "cell_type": "code",
   "execution_count": 442,
   "metadata": {},
   "outputs": [],
   "source": [
    "# Add row to ls_phrases_df\n",
    "ls_phrases_df[\"SVC_cv_2_2\"] = predict_ls(SVC_cv_2_2_model, cv_2_2_vect)"
   ]
  },
  {
   "cell_type": "markdown",
   "metadata": {},
   "source": [
    "> ### Approach 18 - TfIdf Vectorizer | Ngram 2,2 | Linear SVC"
   ]
  },
  {
   "cell_type": "code",
   "execution_count": 443,
   "metadata": {},
   "outputs": [],
   "source": [
    "# Add row to ls_phrases_df\n",
    "ls_phrases_df[\"SVC_tfidf_2_2\"] = predict_ls(SVC_tfidf_2_2_model, tfidf_2_2_vect)"
   ]
  },
  {
   "cell_type": "markdown",
   "metadata": {},
   "source": [
    "> ### Approach 19 - Count Vectorizer | Ngram 1,3 | Linear SVC"
   ]
  },
  {
   "cell_type": "code",
   "execution_count": 444,
   "metadata": {},
   "outputs": [],
   "source": [
    "# Add row to ls_phrases_df\n",
    "ls_phrases_df[\"SVC_cv_1_3\"] = predict_ls(SVC_cv_1_3_model, cv_1_3_vect)"
   ]
  },
  {
   "cell_type": "markdown",
   "metadata": {},
   "source": [
    "> ### Approach 20 - TfIdf Vectorizer | Ngram 1,3 | Linear SVC"
   ]
  },
  {
   "cell_type": "code",
   "execution_count": 445,
   "metadata": {},
   "outputs": [],
   "source": [
    "# Add row to ls_phrases_df\n",
    "ls_phrases_df[\"SVC_tfidf_1_3\"] = predict_ls(SVC_tfidf_1_3_model, tfidf_1_3_vect)"
   ]
  },
  {
   "cell_type": "markdown",
   "metadata": {},
   "source": [
    "> ### Approach 21 - Count Vectorizer | Ngram 2,3 | Linear SVC"
   ]
  },
  {
   "cell_type": "code",
   "execution_count": 446,
   "metadata": {},
   "outputs": [],
   "source": [
    "# Add row to ls_phrases_df\n",
    "ls_phrases_df[\"SVC_cv_2_3\"] = predict_ls(SVC_cv_2_3_model, cv_2_3_vect)"
   ]
  },
  {
   "cell_type": "markdown",
   "metadata": {},
   "source": [
    "> ### Approach 22 - TfIdf Vectorizer | Ngram 2,3 | Linear SVC"
   ]
  },
  {
   "cell_type": "code",
   "execution_count": 447,
   "metadata": {},
   "outputs": [],
   "source": [
    "# Add row to ls_phrases_df\n",
    "ls_phrases_df[\"SVC_tfidf_2_3\"] = predict_ls(SVC_tfidf_2_3_model, tfidf_2_3_vect)"
   ]
  },
  {
   "cell_type": "markdown",
   "metadata": {},
   "source": [
    "> ### Approach 23 - Count Vectorizer | Ngram 3,3 | Linear SVC"
   ]
  },
  {
   "cell_type": "code",
   "execution_count": 448,
   "metadata": {},
   "outputs": [],
   "source": [
    "# Add row to ls_phrases_df\n",
    "ls_phrases_df[\"SVC_cv_3_3\"] = predict_ls(SVC_cv_3_3_model, cv_3_3_vect)"
   ]
  },
  {
   "cell_type": "markdown",
   "metadata": {},
   "source": [
    "> ### Approach 24 - TfIdf Vectorizer | Ngram 3,3 | Linear SVC"
   ]
  },
  {
   "cell_type": "code",
   "execution_count": 449,
   "metadata": {},
   "outputs": [],
   "source": [
    "# Add row to ls_phrases_df\n",
    "ls_phrases_df[\"SVC_tfidf_3_3\"] = predict_ls(SVC_tfidf_3_3_model, tfidf_3_3_vect)"
   ]
  },
  {
   "cell_type": "markdown",
   "metadata": {},
   "source": [
    "----"
   ]
  },
  {
   "cell_type": "markdown",
   "metadata": {},
   "source": [
    "## Test Accuracy - No Stopwords / Lemmatized Text"
   ]
  },
  {
   "cell_type": "markdown",
   "metadata": {},
   "source": [
    "#### Define Function - Same as above"
   ]
  },
  {
   "cell_type": "code",
   "execution_count": 524,
   "metadata": {},
   "outputs": [],
   "source": [
    "def accuracy_ls(df_column):\n",
    "    \n",
    "    # Accuracy counter \n",
    "    accuracy_counter = 0\n",
    "    \n",
    "    # Confusion score dictionary\n",
    "    confusion_dictionary = {\n",
    "        \"Approach\": df_column,\n",
    "        \"True Positive\": 0,\n",
    "        \"True Negative\": 0,\n",
    "        \"False Positive\": 0,\n",
    "        \"False Negative\": 0\n",
    "    }\n",
    "    \n",
    "    # ====================\n",
    "    # ACCURACY SCORE \n",
    "    # ====================\n",
    "    \n",
    "    # Iterate through ls_phrases_df & annotated_df\n",
    "    for index, row in ls_phrases_df.iterrows():\n",
    "        # Increment Accuracy Score\n",
    "        if row[df_column] == annotated_df.iloc[index][\"sentiment_text\"]:\n",
    "            accuracy_counter += 1        \n",
    "        else:\n",
    "            continue\n",
    "            \n",
    "    # ====================\n",
    "    # CONFUSION MATRIX \n",
    "    # ====================\n",
    "    \n",
    "    # Iterate through ls_phrases_df & annotated_df\n",
    "    for index, row in ls_phrases_df.iterrows():\n",
    "        # If true value identified\n",
    "        if row[df_column] == annotated_df.iloc[index][\"sentiment_text\"]:\n",
    "            # Increment True Positive\n",
    "            if row[df_column] == \"POSITIVE\" or row[df_column] == \"NEGATIVE\":\n",
    "                confusion_dictionary[\"True Positive\"] += 1\n",
    "            # Increment True Negative\n",
    "            elif row[df_column] == \"NEUTRAL\":\n",
    "                confusion_dictionary[\"True Negative\"] += 1\n",
    "            # Catch error\n",
    "            else: \n",
    "                print(\"Error 1: Not all cases identified\")\n",
    "        # If False values identified - NEUTRAL\n",
    "        elif row[df_column] != annotated_df.iloc[index][\"sentiment_text\"] and row[df_column] == \"NEUTRAL\":\n",
    "            # Increment false negative\n",
    "            confusion_dictionary[\"False Negative\"] += 1\n",
    "        # If False values identified - POSITIVE / NEGATIVE\n",
    "        elif row[df_column] != annotated_df.iloc[index][\"sentiment_text\"] and annotated_df.iloc[index][\"sentiment_text\"] == \"NEUTRAL\":\n",
    "            # Increment False Positive\n",
    "            confusion_dictionary[\"False Positive\"] += 1\n",
    "            #print(\"Text: \", row['no_stopwords_lemmatizes_phrases'])\n",
    "            #print(\"Actual: \", annotated_df.iloc[index][\"sentiment_text\"])\n",
    "            #print(\"Predict: \", row[df_column])\n",
    "        else:\n",
    "            # Wrong Sentiment Identified - Positive identified as negative or vice versa\n",
    "            # Increment False Positive\n",
    "            confusion_dictionary[\"False Positive\"] += 1\n",
    "            #print(\"Text: \", row['no_stopwords_lemmatizes_phrases'])\n",
    "            #print(\"Actual: \", annotated_df.iloc[index][\"sentiment_text\"])\n",
    "            #print(\"Predict: \", row[df_column])\n",
    "            \n",
    "            \n",
    "    # Calculate Accuracy Score\n",
    "    accuracy_score = (accuracy_counter / len(ls_phrases_df)) * 100\n",
    "    \n",
    "    return round(accuracy_score, 3), confusion_dictionary"
   ]
  },
  {
   "cell_type": "markdown",
   "metadata": {},
   "source": [
    "> ### Test Accuracy - Approach 1 "
   ]
  },
  {
   "cell_type": "code",
   "execution_count": 525,
   "metadata": {},
   "outputs": [],
   "source": [
    "# Save Variables\n",
    "ls_accuracy_1, ls_confusion_1 = accuracy_ls(\"logreg_cv_1_1\")"
   ]
  },
  {
   "cell_type": "code",
   "execution_count": 456,
   "metadata": {},
   "outputs": [
    {
     "name": "stdout",
     "output_type": "stream",
     "text": [
      "Accuracy Score:  73.146 {'Approach': 'logreg_cv_1_1', 'True Positive': 56, 'True Negative': 309, 'False Positive': 36, 'False Negative': 98}\n"
     ]
    }
   ],
   "source": [
    "# Print Variables\n",
    "print(\"Accuracy Score: \", ls_accuracy_1, ls_confusion_1)"
   ]
  },
  {
   "cell_type": "markdown",
   "metadata": {},
   "source": [
    "> ### Test Accuracy - Approach 2"
   ]
  },
  {
   "cell_type": "code",
   "execution_count": 457,
   "metadata": {},
   "outputs": [],
   "source": [
    "# Save Variables\n",
    "ls_accuracy_2, ls_confusion_2 = accuracy_ls(\"logreg_tfidf_1_1\")"
   ]
  },
  {
   "cell_type": "code",
   "execution_count": 458,
   "metadata": {},
   "outputs": [
    {
     "name": "stdout",
     "output_type": "stream",
     "text": [
      "Accuracy Score:  70.942 {'Approach': 'logreg_tfidf_1_1', 'True Positive': 57, 'True Negative': 297, 'False Positive': 49, 'False Negative': 96}\n"
     ]
    }
   ],
   "source": [
    "# Print Variables\n",
    "print(\"Accuracy Score: \", ls_accuracy_2, ls_confusion_2)"
   ]
  },
  {
   "cell_type": "markdown",
   "metadata": {},
   "source": [
    "> ### Test Accuracy - Approach 3"
   ]
  },
  {
   "cell_type": "code",
   "execution_count": 459,
   "metadata": {},
   "outputs": [],
   "source": [
    "# Save Variables\n",
    "ls_accuracy_3, ls_confusion_3 = accuracy_ls(\"logreg_cv_1_2\")"
   ]
  },
  {
   "cell_type": "code",
   "execution_count": 460,
   "metadata": {},
   "outputs": [
    {
     "name": "stdout",
     "output_type": "stream",
     "text": [
      "Accuracy Score:  70.942 {'Approach': 'logreg_cv_1_2', 'True Positive': 46, 'True Negative': 308, 'False Positive': 37, 'False Negative': 108}\n"
     ]
    }
   ],
   "source": [
    "# Print Variables\n",
    "print(\"Accuracy Score: \", ls_accuracy_3, ls_confusion_3)"
   ]
  },
  {
   "cell_type": "markdown",
   "metadata": {},
   "source": [
    "> ### Test Accuracy - Approach 4"
   ]
  },
  {
   "cell_type": "code",
   "execution_count": 461,
   "metadata": {},
   "outputs": [],
   "source": [
    "# Save Variables\n",
    "ls_accuracy_4, ls_confusion_4 = accuracy_ls(\"logreg_tfidf_1_2\")"
   ]
  },
  {
   "cell_type": "code",
   "execution_count": 462,
   "metadata": {},
   "outputs": [
    {
     "name": "stdout",
     "output_type": "stream",
     "text": [
      "Accuracy Score:  65.531 {'Approach': 'logreg_tfidf_1_2', 'True Positive': 61, 'True Negative': 266, 'False Positive': 80, 'False Negative': 92}\n"
     ]
    }
   ],
   "source": [
    "# Print Variables\n",
    "print(\"Accuracy Score: \", ls_accuracy_4, ls_confusion_4)"
   ]
  },
  {
   "cell_type": "markdown",
   "metadata": {},
   "source": [
    "> ### Test Accuracy - Approach 5"
   ]
  },
  {
   "cell_type": "code",
   "execution_count": 463,
   "metadata": {},
   "outputs": [],
   "source": [
    "# Save Variables\n",
    "ls_accuracy_5, ls_confusion_5 = accuracy_ls(\"logreg_cv_2_2\")"
   ]
  },
  {
   "cell_type": "code",
   "execution_count": 464,
   "metadata": {},
   "outputs": [
    {
     "name": "stdout",
     "output_type": "stream",
     "text": [
      "Accuracy Score:  64.93 {'Approach': 'logreg_cv_2_2', 'True Positive': 31, 'True Negative': 293, 'False Positive': 58, 'False Negative': 117}\n"
     ]
    }
   ],
   "source": [
    "# Print Variables\n",
    "print(\"Accuracy Score: \", ls_accuracy_5, ls_confusion_5)"
   ]
  },
  {
   "cell_type": "markdown",
   "metadata": {},
   "source": [
    "> ### Test Accuracy - Approach 6"
   ]
  },
  {
   "cell_type": "code",
   "execution_count": 465,
   "metadata": {},
   "outputs": [],
   "source": [
    "# Save Variables\n",
    "ls_accuracy_6, ls_confusion_6 = accuracy_ls(\"logreg_tfidf_2_2\")"
   ]
  },
  {
   "cell_type": "code",
   "execution_count": 466,
   "metadata": {},
   "outputs": [
    {
     "name": "stdout",
     "output_type": "stream",
     "text": [
      "Accuracy Score:  61.723 {'Approach': 'logreg_tfidf_2_2', 'True Positive': 45, 'True Negative': 263, 'False Positive': 94, 'False Negative': 97}\n"
     ]
    }
   ],
   "source": [
    "# Print Variables\n",
    "print(\"Accuracy Score: \", ls_accuracy_6, ls_confusion_6)"
   ]
  },
  {
   "cell_type": "markdown",
   "metadata": {},
   "source": [
    "> ### Test Accuracy - Approach 7"
   ]
  },
  {
   "cell_type": "code",
   "execution_count": 471,
   "metadata": {},
   "outputs": [],
   "source": [
    "# Save Variables\n",
    "ls_accuracy_7, ls_confusion_7 = accuracy_ls(\"logreg_cv_1_3\")"
   ]
  },
  {
   "cell_type": "code",
   "execution_count": 472,
   "metadata": {},
   "outputs": [
    {
     "name": "stdout",
     "output_type": "stream",
     "text": [
      "Accuracy Score:  71.343 {'Approach': 'logreg_cv_1_3', 'True Positive': 47, 'True Negative': 309, 'False Positive': 35, 'False Negative': 108}\n"
     ]
    }
   ],
   "source": [
    "# Print Variables\n",
    "print(\"Accuracy Score: \", ls_accuracy_7, ls_confusion_7)"
   ]
  },
  {
   "cell_type": "markdown",
   "metadata": {},
   "source": [
    "> ### Test Accuracy - Approach 8"
   ]
  },
  {
   "cell_type": "code",
   "execution_count": 469,
   "metadata": {},
   "outputs": [],
   "source": [
    "# Save Variables\n",
    "ls_accuracy_8, ls_confusion_8 = accuracy_ls(\"logreg_tfidf_1_3\")"
   ]
  },
  {
   "cell_type": "code",
   "execution_count": 470,
   "metadata": {},
   "outputs": [
    {
     "name": "stdout",
     "output_type": "stream",
     "text": [
      "Accuracy Score:  61.122 {'Approach': 'logreg_tfidf_1_3', 'True Positive': 72, 'True Negative': 233, 'False Positive': 123, 'False Negative': 71}\n"
     ]
    }
   ],
   "source": [
    "# Print Variables\n",
    "print(\"Accuracy Score: \", ls_accuracy_8, ls_confusion_8)"
   ]
  },
  {
   "cell_type": "markdown",
   "metadata": {},
   "source": [
    "> ### Test Accuracy - Approach 9 "
   ]
  },
  {
   "cell_type": "code",
   "execution_count": 473,
   "metadata": {},
   "outputs": [],
   "source": [
    "# Save Variables\n",
    "ls_accuracy_9, ls_confusion_9 = accuracy_ls(\"logreg_cv_2_3\")"
   ]
  },
  {
   "cell_type": "code",
   "execution_count": 474,
   "metadata": {},
   "outputs": [
    {
     "name": "stdout",
     "output_type": "stream",
     "text": [
      "Accuracy Score:  66.333 {'Approach': 'logreg_cv_2_3', 'True Positive': 32, 'True Negative': 299, 'False Positive': 51, 'False Negative': 117}\n"
     ]
    }
   ],
   "source": [
    "# Print Variables\n",
    "print(\"Accuracy Score: \", ls_accuracy_9, ls_confusion_9)"
   ]
  },
  {
   "cell_type": "markdown",
   "metadata": {},
   "source": [
    "> ### Test Accuracy - Approach 10"
   ]
  },
  {
   "cell_type": "code",
   "execution_count": 475,
   "metadata": {},
   "outputs": [],
   "source": [
    "# Save Variables\n",
    "ls_accuracy_10, ls_confusion_10 = accuracy_ls(\"logreg_tfidf_2_3\")"
   ]
  },
  {
   "cell_type": "code",
   "execution_count": 476,
   "metadata": {},
   "outputs": [
    {
     "name": "stdout",
     "output_type": "stream",
     "text": [
      "Accuracy Score:  58.517 {'Approach': 'logreg_tfidf_2_3', 'True Positive': 43, 'True Negative': 249, 'False Positive': 116, 'False Negative': 91}\n"
     ]
    }
   ],
   "source": [
    "# Print Variables\n",
    "print(\"Accuracy Score: \", ls_accuracy_10, ls_confusion_10)"
   ]
  },
  {
   "cell_type": "markdown",
   "metadata": {},
   "source": [
    "> ### Test Accuracy - Approach 11"
   ]
  },
  {
   "cell_type": "code",
   "execution_count": 477,
   "metadata": {},
   "outputs": [],
   "source": [
    "# Save Variables\n",
    "ls_accuracy_11, ls_confusion_11 = accuracy_ls(\"logreg_cv_3_3\")"
   ]
  },
  {
   "cell_type": "code",
   "execution_count": 478,
   "metadata": {},
   "outputs": [
    {
     "name": "stdout",
     "output_type": "stream",
     "text": [
      "Accuracy Score:  66.533 {'Approach': 'logreg_cv_3_3', 'True Positive': 21, 'True Negative': 311, 'False Positive': 34, 'False Negative': 133}\n"
     ]
    }
   ],
   "source": [
    "# Print Variables\n",
    "print(\"Accuracy Score: \", ls_accuracy_11, ls_confusion_11)"
   ]
  },
  {
   "cell_type": "markdown",
   "metadata": {},
   "source": [
    "> ### Test Accuracy - Approach 12"
   ]
  },
  {
   "cell_type": "code",
   "execution_count": 479,
   "metadata": {},
   "outputs": [],
   "source": [
    "# Save Variables\n",
    "ls_accuracy_12, ls_confusion_12 = accuracy_ls(\"logreg_tfidf_3_3\")"
   ]
  },
  {
   "cell_type": "code",
   "execution_count": 481,
   "metadata": {},
   "outputs": [
    {
     "name": "stdout",
     "output_type": "stream",
     "text": [
      "Accuracy Score:  60.721 {'Approach': 'logreg_tfidf_3_3', 'True Positive': 28, 'True Negative': 275, 'False Positive': 78, 'False Negative': 118}\n"
     ]
    }
   ],
   "source": [
    "# Print Variables\n",
    "print(\"Accuracy Score: \", ls_accuracy_12, ls_confusion_12)"
   ]
  },
  {
   "cell_type": "markdown",
   "metadata": {},
   "source": [
    "### Linear SVC"
   ]
  },
  {
   "cell_type": "markdown",
   "metadata": {},
   "source": [
    "> ### Test Accuracy - Approach 13"
   ]
  },
  {
   "cell_type": "code",
   "execution_count": 482,
   "metadata": {},
   "outputs": [],
   "source": [
    "# Save Variables\n",
    "ls_accuracy_13, ls_confusion_13 = accuracy_ls(\"SVC_cv_1_1\")"
   ]
  },
  {
   "cell_type": "code",
   "execution_count": 483,
   "metadata": {},
   "outputs": [
    {
     "name": "stdout",
     "output_type": "stream",
     "text": [
      "Accuracy Score:  73.146 {'Approach': 'SVC_cv_1_1', 'True Positive': 55, 'True Negative': 310, 'False Positive': 37, 'False Negative': 97}\n"
     ]
    }
   ],
   "source": [
    "# Print Variables\n",
    "print(\"Accuracy Score: \", ls_accuracy_13, ls_confusion_13)"
   ]
  },
  {
   "cell_type": "markdown",
   "metadata": {},
   "source": [
    "> ### Test Accuracy - Approach 14"
   ]
  },
  {
   "cell_type": "code",
   "execution_count": 484,
   "metadata": {},
   "outputs": [],
   "source": [
    "# Save Variables\n",
    "ls_accuracy_14, ls_confusion_14 = accuracy_ls(\"SVC_tfidf_1_1\")"
   ]
  },
  {
   "cell_type": "code",
   "execution_count": 485,
   "metadata": {},
   "outputs": [
    {
     "name": "stdout",
     "output_type": "stream",
     "text": [
      "Accuracy Score:  71.343 {'Approach': 'SVC_tfidf_1_1', 'True Positive': 58, 'True Negative': 298, 'False Positive': 49, 'False Negative': 94}\n"
     ]
    }
   ],
   "source": [
    "# Print Variables\n",
    "print(\"Accuracy Score: \", ls_accuracy_14, ls_confusion_14)"
   ]
  },
  {
   "cell_type": "markdown",
   "metadata": {},
   "source": [
    "> ### Test Accuracy - Approach 15"
   ]
  },
  {
   "cell_type": "code",
   "execution_count": 486,
   "metadata": {},
   "outputs": [],
   "source": [
    "# Save Variables\n",
    "ls_accuracy_15, ls_confusion_15 = accuracy_ls(\"SVC_cv_1_2\")"
   ]
  },
  {
   "cell_type": "code",
   "execution_count": 487,
   "metadata": {},
   "outputs": [
    {
     "name": "stdout",
     "output_type": "stream",
     "text": [
      "Accuracy Score:  71.743 {'Approach': 'SVC_cv_1_2', 'True Positive': 49, 'True Negative': 309, 'False Positive': 37, 'False Negative': 104}\n"
     ]
    }
   ],
   "source": [
    "# Print Variables\n",
    "print(\"Accuracy Score: \", ls_accuracy_15, ls_confusion_15)"
   ]
  },
  {
   "cell_type": "markdown",
   "metadata": {},
   "source": [
    "> ### Test Accuracy - Approach 16"
   ]
  },
  {
   "cell_type": "code",
   "execution_count": 488,
   "metadata": {},
   "outputs": [],
   "source": [
    "# Save Variables\n",
    "ls_accuracy_16, ls_confusion_16 = accuracy_ls(\"SVC_tfidf_1_2\")"
   ]
  },
  {
   "cell_type": "code",
   "execution_count": 489,
   "metadata": {},
   "outputs": [
    {
     "name": "stdout",
     "output_type": "stream",
     "text": [
      "Accuracy Score:  66.733 {'Approach': 'SVC_tfidf_1_2', 'True Positive': 63, 'True Negative': 270, 'False Positive': 78, 'False Negative': 88}\n"
     ]
    }
   ],
   "source": [
    "# Print Variables\n",
    "print(\"Accuracy Score: \", ls_accuracy_16, ls_confusion_16)"
   ]
  },
  {
   "cell_type": "markdown",
   "metadata": {},
   "source": [
    "> ### Test Accuracy - Approach 17"
   ]
  },
  {
   "cell_type": "code",
   "execution_count": 490,
   "metadata": {},
   "outputs": [],
   "source": [
    "# Save Variables\n",
    "ls_accuracy_17, ls_confusion_17 = accuracy_ls(\"SVC_cv_2_2\")"
   ]
  },
  {
   "cell_type": "code",
   "execution_count": 491,
   "metadata": {},
   "outputs": [
    {
     "name": "stdout",
     "output_type": "stream",
     "text": [
      "Accuracy Score:  65.531 {'Approach': 'SVC_cv_2_2', 'True Positive': 31, 'True Negative': 296, 'False Positive': 55, 'False Negative': 117}\n"
     ]
    }
   ],
   "source": [
    "# Print Variables\n",
    "print(\"Accuracy Score: \", ls_accuracy_17, ls_confusion_17)"
   ]
  },
  {
   "cell_type": "markdown",
   "metadata": {},
   "source": [
    "> ### Test Accuracy - Approach 18"
   ]
  },
  {
   "cell_type": "code",
   "execution_count": 495,
   "metadata": {},
   "outputs": [],
   "source": [
    "# Save Variables\n",
    "ls_accuracy_18, ls_confusion_18 = accuracy_ls(\"SVC_tfidf_2_2\")"
   ]
  },
  {
   "cell_type": "code",
   "execution_count": 496,
   "metadata": {},
   "outputs": [
    {
     "name": "stdout",
     "output_type": "stream",
     "text": [
      "Accuracy Score:  61.723 {'Approach': 'SVC_tfidf_2_2', 'True Positive': 52, 'True Negative': 256, 'False Positive': 106, 'False Negative': 85}\n"
     ]
    }
   ],
   "source": [
    "# Print Variables\n",
    "print(\"Accuracy Score: \", ls_accuracy_18, ls_confusion_18)"
   ]
  },
  {
   "cell_type": "markdown",
   "metadata": {},
   "source": [
    "> ### Test Accuracy - Approach 19"
   ]
  },
  {
   "cell_type": "code",
   "execution_count": 498,
   "metadata": {},
   "outputs": [],
   "source": [
    "# Save Variables\n",
    "ls_accuracy_19, ls_confusion_19 = accuracy_ls(\"SVC_cv_1_3\")"
   ]
  },
  {
   "cell_type": "code",
   "execution_count": 499,
   "metadata": {},
   "outputs": [
    {
     "name": "stdout",
     "output_type": "stream",
     "text": [
      "Accuracy Score:  71.743 {'Approach': 'SVC_cv_1_3', 'True Positive': 49, 'True Negative': 309, 'False Positive': 35, 'False Negative': 106}\n"
     ]
    }
   ],
   "source": [
    "# Print Variables\n",
    "print(\"Accuracy Score: \", ls_accuracy_19, ls_confusion_19)"
   ]
  },
  {
   "cell_type": "markdown",
   "metadata": {},
   "source": [
    "> ### Test Accuracy - Approach 20"
   ]
  },
  {
   "cell_type": "code",
   "execution_count": 500,
   "metadata": {},
   "outputs": [],
   "source": [
    "# Save Variables\n",
    "ls_accuracy_20, ls_confusion_20 = accuracy_ls(\"SVC_tfidf_1_3\")"
   ]
  },
  {
   "cell_type": "code",
   "execution_count": 501,
   "metadata": {},
   "outputs": [
    {
     "name": "stdout",
     "output_type": "stream",
     "text": [
      "Accuracy Score:  62.124 {'Approach': 'SVC_tfidf_1_3', 'True Positive': 83, 'True Negative': 227, 'False Positive': 128, 'False Negative': 61}\n"
     ]
    }
   ],
   "source": [
    "# Print Variables\n",
    "print(\"Accuracy Score: \", ls_accuracy_20, ls_confusion_20)"
   ]
  },
  {
   "cell_type": "markdown",
   "metadata": {},
   "source": [
    "> ### Test Accuracy - Approach 21"
   ]
  },
  {
   "cell_type": "code",
   "execution_count": 502,
   "metadata": {},
   "outputs": [],
   "source": [
    "# Save Variables\n",
    "ls_accuracy_21, ls_confusion_21 = accuracy_ls(\"SVC_cv_2_3\")"
   ]
  },
  {
   "cell_type": "code",
   "execution_count": 503,
   "metadata": {},
   "outputs": [
    {
     "name": "stdout",
     "output_type": "stream",
     "text": [
      "Accuracy Score:  67.535 {'Approach': 'SVC_cv_2_3', 'True Positive': 32, 'True Negative': 305, 'False Positive': 44, 'False Negative': 118}\n"
     ]
    }
   ],
   "source": [
    "# Print Variables\n",
    "print(\"Accuracy Score: \", ls_accuracy_21, ls_confusion_21)"
   ]
  },
  {
   "cell_type": "markdown",
   "metadata": {},
   "source": [
    "> ### Test Accuracy - Approach 22"
   ]
  },
  {
   "cell_type": "code",
   "execution_count": 504,
   "metadata": {},
   "outputs": [],
   "source": [
    "# Save Variables\n",
    "ls_accuracy_22, ls_confusion_22 = accuracy_ls(\"SVC_tfidf_2_3\")"
   ]
  },
  {
   "cell_type": "code",
   "execution_count": 505,
   "metadata": {},
   "outputs": [
    {
     "name": "stdout",
     "output_type": "stream",
     "text": [
      "Accuracy Score:  59.519 {'Approach': 'SVC_tfidf_2_3', 'True Positive': 51, 'True Negative': 246, 'False Positive': 117, 'False Negative': 85}\n"
     ]
    }
   ],
   "source": [
    "# Print Variables\n",
    "print(\"Accuracy Score: \", ls_accuracy_22, ls_confusion_22)"
   ]
  },
  {
   "cell_type": "markdown",
   "metadata": {},
   "source": [
    "> ### Test Accuracy - Approach 23"
   ]
  },
  {
   "cell_type": "code",
   "execution_count": 506,
   "metadata": {},
   "outputs": [],
   "source": [
    "# Save Variables\n",
    "ls_accuracy_23, ls_confusion_23 = accuracy_ls(\"SVC_cv_3_3\")"
   ]
  },
  {
   "cell_type": "code",
   "execution_count": 507,
   "metadata": {},
   "outputs": [
    {
     "name": "stdout",
     "output_type": "stream",
     "text": [
      "Accuracy Score:  66.132 {'Approach': 'SVC_cv_3_3', 'True Positive': 21, 'True Negative': 309, 'False Positive': 36, 'False Negative': 133}\n"
     ]
    }
   ],
   "source": [
    "# Print Variables\n",
    "print(\"Accuracy Score: \", ls_accuracy_23, ls_confusion_23)"
   ]
  },
  {
   "cell_type": "markdown",
   "metadata": {},
   "source": [
    "> ### Test Accuracy - Approach 24"
   ]
  },
  {
   "cell_type": "code",
   "execution_count": 508,
   "metadata": {},
   "outputs": [],
   "source": [
    "# Save Variables\n",
    "ls_accuracy_24, ls_confusion_24 = accuracy_ls(\"SVC_tfidf_3_3\")"
   ]
  },
  {
   "cell_type": "code",
   "execution_count": 509,
   "metadata": {},
   "outputs": [
    {
     "name": "stdout",
     "output_type": "stream",
     "text": [
      "Accuracy Score:  60.721 {'Approach': 'SVC_tfidf_3_3', 'True Positive': 31, 'True Negative': 272, 'False Positive': 82, 'False Negative': 114}\n"
     ]
    }
   ],
   "source": [
    "# Print Variables\n",
    "print(\"Accuracy Score: \", ls_accuracy_24, ls_confusion_24)"
   ]
  },
  {
   "cell_type": "markdown",
   "metadata": {},
   "source": [
    "----"
   ]
  },
  {
   "cell_type": "markdown",
   "metadata": {},
   "source": [
    "## Visualising the results"
   ]
  },
  {
   "cell_type": "code",
   "execution_count": 510,
   "metadata": {},
   "outputs": [],
   "source": [
    "# Begin with confusion matrixes\n",
    "ls_results_df = pd.DataFrame([ls_confusion_1, ls_confusion_2, ls_confusion_3, ls_confusion_4, ls_confusion_5, ls_confusion_6, ls_confusion_7, ls_confusion_8, ls_confusion_9, ls_confusion_10, ls_confusion_11, ls_confusion_12, ls_confusion_13, ls_confusion_14, ls_confusion_15, ls_confusion_16, ls_confusion_17, ls_confusion_18, ls_confusion_19, ls_confusion_20, ls_confusion_21, ls_confusion_22, ls_confusion_23, ls_confusion_24])"
   ]
  },
  {
   "cell_type": "code",
   "execution_count": 512,
   "metadata": {},
   "outputs": [],
   "source": [
    "# Adding the accuracy scores\n",
    "ls_results_df['Accuracy'] = [ls_accuracy_1, ls_accuracy_2, ls_accuracy_3, ls_accuracy_4, ls_accuracy_5, ls_accuracy_6, ls_accuracy_7, ls_accuracy_8, ls_accuracy_9, ls_accuracy_10, ls_accuracy_11, ls_accuracy_12, ls_accuracy_13, ls_accuracy_14, ls_accuracy_15, ls_accuracy_16, ls_accuracy_17, ls_accuracy_18, ls_accuracy_19, ls_accuracy_20, ls_accuracy_21, ls_accuracy_22, ls_accuracy_23, ls_accuracy_24] "
   ]
  },
  {
   "cell_type": "code",
   "execution_count": 513,
   "metadata": {},
   "outputs": [
    {
     "data": {
      "text/html": [
       "<div>\n",
       "<style scoped>\n",
       "    .dataframe tbody tr th:only-of-type {\n",
       "        vertical-align: middle;\n",
       "    }\n",
       "\n",
       "    .dataframe tbody tr th {\n",
       "        vertical-align: top;\n",
       "    }\n",
       "\n",
       "    .dataframe thead th {\n",
       "        text-align: right;\n",
       "    }\n",
       "</style>\n",
       "<table border=\"1\" class=\"dataframe\">\n",
       "  <thead>\n",
       "    <tr style=\"text-align: right;\">\n",
       "      <th></th>\n",
       "      <th>Approach</th>\n",
       "      <th>False Negative</th>\n",
       "      <th>False Positive</th>\n",
       "      <th>True Negative</th>\n",
       "      <th>True Positive</th>\n",
       "      <th>Accuracy</th>\n",
       "    </tr>\n",
       "  </thead>\n",
       "  <tbody>\n",
       "    <tr>\n",
       "      <th>0</th>\n",
       "      <td>logreg_cv_1_1</td>\n",
       "      <td>98</td>\n",
       "      <td>36</td>\n",
       "      <td>309</td>\n",
       "      <td>56</td>\n",
       "      <td>73.146</td>\n",
       "    </tr>\n",
       "    <tr>\n",
       "      <th>1</th>\n",
       "      <td>logreg_tfidf_1_1</td>\n",
       "      <td>96</td>\n",
       "      <td>49</td>\n",
       "      <td>297</td>\n",
       "      <td>57</td>\n",
       "      <td>70.942</td>\n",
       "    </tr>\n",
       "    <tr>\n",
       "      <th>2</th>\n",
       "      <td>logreg_cv_1_2</td>\n",
       "      <td>108</td>\n",
       "      <td>37</td>\n",
       "      <td>308</td>\n",
       "      <td>46</td>\n",
       "      <td>70.942</td>\n",
       "    </tr>\n",
       "    <tr>\n",
       "      <th>3</th>\n",
       "      <td>logreg_tfidf_1_2</td>\n",
       "      <td>92</td>\n",
       "      <td>80</td>\n",
       "      <td>266</td>\n",
       "      <td>61</td>\n",
       "      <td>65.531</td>\n",
       "    </tr>\n",
       "    <tr>\n",
       "      <th>4</th>\n",
       "      <td>logreg_cv_2_2</td>\n",
       "      <td>117</td>\n",
       "      <td>58</td>\n",
       "      <td>293</td>\n",
       "      <td>31</td>\n",
       "      <td>64.930</td>\n",
       "    </tr>\n",
       "    <tr>\n",
       "      <th>5</th>\n",
       "      <td>logreg_tfidf_2_2</td>\n",
       "      <td>97</td>\n",
       "      <td>94</td>\n",
       "      <td>263</td>\n",
       "      <td>45</td>\n",
       "      <td>61.723</td>\n",
       "    </tr>\n",
       "    <tr>\n",
       "      <th>6</th>\n",
       "      <td>logreg_cv_1_3</td>\n",
       "      <td>108</td>\n",
       "      <td>35</td>\n",
       "      <td>309</td>\n",
       "      <td>47</td>\n",
       "      <td>71.343</td>\n",
       "    </tr>\n",
       "    <tr>\n",
       "      <th>7</th>\n",
       "      <td>logreg_tfidf_1_3</td>\n",
       "      <td>71</td>\n",
       "      <td>123</td>\n",
       "      <td>233</td>\n",
       "      <td>72</td>\n",
       "      <td>61.122</td>\n",
       "    </tr>\n",
       "    <tr>\n",
       "      <th>8</th>\n",
       "      <td>logreg_cv_2_3</td>\n",
       "      <td>117</td>\n",
       "      <td>51</td>\n",
       "      <td>299</td>\n",
       "      <td>32</td>\n",
       "      <td>66.333</td>\n",
       "    </tr>\n",
       "    <tr>\n",
       "      <th>9</th>\n",
       "      <td>logreg_tfidf_2_3</td>\n",
       "      <td>91</td>\n",
       "      <td>116</td>\n",
       "      <td>249</td>\n",
       "      <td>43</td>\n",
       "      <td>58.517</td>\n",
       "    </tr>\n",
       "    <tr>\n",
       "      <th>10</th>\n",
       "      <td>logreg_cv_3_3</td>\n",
       "      <td>133</td>\n",
       "      <td>34</td>\n",
       "      <td>311</td>\n",
       "      <td>21</td>\n",
       "      <td>66.533</td>\n",
       "    </tr>\n",
       "    <tr>\n",
       "      <th>11</th>\n",
       "      <td>logreg_tfidf_3_3</td>\n",
       "      <td>118</td>\n",
       "      <td>78</td>\n",
       "      <td>275</td>\n",
       "      <td>28</td>\n",
       "      <td>60.721</td>\n",
       "    </tr>\n",
       "    <tr>\n",
       "      <th>12</th>\n",
       "      <td>SVC_cv_1_1</td>\n",
       "      <td>97</td>\n",
       "      <td>37</td>\n",
       "      <td>310</td>\n",
       "      <td>55</td>\n",
       "      <td>73.146</td>\n",
       "    </tr>\n",
       "    <tr>\n",
       "      <th>13</th>\n",
       "      <td>SVC_tfidf_1_1</td>\n",
       "      <td>94</td>\n",
       "      <td>49</td>\n",
       "      <td>298</td>\n",
       "      <td>58</td>\n",
       "      <td>71.343</td>\n",
       "    </tr>\n",
       "    <tr>\n",
       "      <th>14</th>\n",
       "      <td>SVC_cv_1_2</td>\n",
       "      <td>104</td>\n",
       "      <td>37</td>\n",
       "      <td>309</td>\n",
       "      <td>49</td>\n",
       "      <td>71.743</td>\n",
       "    </tr>\n",
       "    <tr>\n",
       "      <th>15</th>\n",
       "      <td>SVC_tfidf_1_2</td>\n",
       "      <td>88</td>\n",
       "      <td>78</td>\n",
       "      <td>270</td>\n",
       "      <td>63</td>\n",
       "      <td>66.733</td>\n",
       "    </tr>\n",
       "    <tr>\n",
       "      <th>16</th>\n",
       "      <td>SVC_cv_2_2</td>\n",
       "      <td>117</td>\n",
       "      <td>55</td>\n",
       "      <td>296</td>\n",
       "      <td>31</td>\n",
       "      <td>65.531</td>\n",
       "    </tr>\n",
       "    <tr>\n",
       "      <th>17</th>\n",
       "      <td>SVC_tfidf_2_2</td>\n",
       "      <td>85</td>\n",
       "      <td>106</td>\n",
       "      <td>256</td>\n",
       "      <td>52</td>\n",
       "      <td>61.723</td>\n",
       "    </tr>\n",
       "    <tr>\n",
       "      <th>18</th>\n",
       "      <td>SVC_cv_1_3</td>\n",
       "      <td>106</td>\n",
       "      <td>35</td>\n",
       "      <td>309</td>\n",
       "      <td>49</td>\n",
       "      <td>71.743</td>\n",
       "    </tr>\n",
       "    <tr>\n",
       "      <th>19</th>\n",
       "      <td>SVC_tfidf_1_3</td>\n",
       "      <td>61</td>\n",
       "      <td>128</td>\n",
       "      <td>227</td>\n",
       "      <td>83</td>\n",
       "      <td>62.124</td>\n",
       "    </tr>\n",
       "    <tr>\n",
       "      <th>20</th>\n",
       "      <td>SVC_cv_2_3</td>\n",
       "      <td>118</td>\n",
       "      <td>44</td>\n",
       "      <td>305</td>\n",
       "      <td>32</td>\n",
       "      <td>67.535</td>\n",
       "    </tr>\n",
       "    <tr>\n",
       "      <th>21</th>\n",
       "      <td>SVC_tfidf_2_3</td>\n",
       "      <td>85</td>\n",
       "      <td>117</td>\n",
       "      <td>246</td>\n",
       "      <td>51</td>\n",
       "      <td>59.519</td>\n",
       "    </tr>\n",
       "    <tr>\n",
       "      <th>22</th>\n",
       "      <td>SVC_cv_3_3</td>\n",
       "      <td>133</td>\n",
       "      <td>36</td>\n",
       "      <td>309</td>\n",
       "      <td>21</td>\n",
       "      <td>66.132</td>\n",
       "    </tr>\n",
       "    <tr>\n",
       "      <th>23</th>\n",
       "      <td>SVC_tfidf_3_3</td>\n",
       "      <td>114</td>\n",
       "      <td>82</td>\n",
       "      <td>272</td>\n",
       "      <td>31</td>\n",
       "      <td>60.721</td>\n",
       "    </tr>\n",
       "  </tbody>\n",
       "</table>\n",
       "</div>"
      ],
      "text/plain": [
       "            Approach  False Negative  False Positive  True Negative  \\\n",
       "0   logreg_cv_1_1     98              36              309             \n",
       "1   logreg_tfidf_1_1  96              49              297             \n",
       "2   logreg_cv_1_2     108             37              308             \n",
       "3   logreg_tfidf_1_2  92              80              266             \n",
       "4   logreg_cv_2_2     117             58              293             \n",
       "5   logreg_tfidf_2_2  97              94              263             \n",
       "6   logreg_cv_1_3     108             35              309             \n",
       "7   logreg_tfidf_1_3  71              123             233             \n",
       "8   logreg_cv_2_3     117             51              299             \n",
       "9   logreg_tfidf_2_3  91              116             249             \n",
       "10  logreg_cv_3_3     133             34              311             \n",
       "11  logreg_tfidf_3_3  118             78              275             \n",
       "12  SVC_cv_1_1        97              37              310             \n",
       "13  SVC_tfidf_1_1     94              49              298             \n",
       "14  SVC_cv_1_2        104             37              309             \n",
       "15  SVC_tfidf_1_2     88              78              270             \n",
       "16  SVC_cv_2_2        117             55              296             \n",
       "17  SVC_tfidf_2_2     85              106             256             \n",
       "18  SVC_cv_1_3        106             35              309             \n",
       "19  SVC_tfidf_1_3     61              128             227             \n",
       "20  SVC_cv_2_3        118             44              305             \n",
       "21  SVC_tfidf_2_3     85              117             246             \n",
       "22  SVC_cv_3_3        133             36              309             \n",
       "23  SVC_tfidf_3_3     114             82              272             \n",
       "\n",
       "    True Positive  Accuracy  \n",
       "0   56             73.146    \n",
       "1   57             70.942    \n",
       "2   46             70.942    \n",
       "3   61             65.531    \n",
       "4   31             64.930    \n",
       "5   45             61.723    \n",
       "6   47             71.343    \n",
       "7   72             61.122    \n",
       "8   32             66.333    \n",
       "9   43             58.517    \n",
       "10  21             66.533    \n",
       "11  28             60.721    \n",
       "12  55             73.146    \n",
       "13  58             71.343    \n",
       "14  49             71.743    \n",
       "15  63             66.733    \n",
       "16  31             65.531    \n",
       "17  52             61.723    \n",
       "18  49             71.743    \n",
       "19  83             62.124    \n",
       "20  32             67.535    \n",
       "21  51             59.519    \n",
       "22  21             66.132    \n",
       "23  31             60.721    "
      ]
     },
     "execution_count": 513,
     "metadata": {},
     "output_type": "execute_result"
    }
   ],
   "source": [
    "ls_results_df"
   ]
  },
  {
   "cell_type": "markdown",
   "metadata": {},
   "source": [
    "### Visualising Accuracy Scores"
   ]
  },
  {
   "cell_type": "code",
   "execution_count": 515,
   "metadata": {},
   "outputs": [
    {
     "data": {
      "text/plain": [
       "[Text(0, 0, 'logreg_cv_1_1'),\n",
       " Text(0, 0, 'logreg_tfidf_1_1'),\n",
       " Text(0, 0, 'logreg_cv_1_2'),\n",
       " Text(0, 0, 'logreg_tfidf_1_2'),\n",
       " Text(0, 0, 'logreg_cv_2_2'),\n",
       " Text(0, 0, 'logreg_tfidf_2_2'),\n",
       " Text(0, 0, 'logreg_cv_1_3'),\n",
       " Text(0, 0, 'logreg_tfidf_1_3'),\n",
       " Text(0, 0, 'logreg_cv_2_3'),\n",
       " Text(0, 0, 'logreg_tfidf_2_3'),\n",
       " Text(0, 0, 'logreg_cv_3_3'),\n",
       " Text(0, 0, 'logreg_tfidf_3_3'),\n",
       " Text(0, 0, 'SVC_cv_1_1'),\n",
       " Text(0, 0, 'SVC_tfidf_1_1'),\n",
       " Text(0, 0, 'SVC_cv_1_2'),\n",
       " Text(0, 0, 'SVC_tfidf_1_2'),\n",
       " Text(0, 0, 'SVC_cv_2_2'),\n",
       " Text(0, 0, 'SVC_tfidf_2_2'),\n",
       " Text(0, 0, 'SVC_cv_1_3'),\n",
       " Text(0, 0, 'SVC_tfidf_1_3'),\n",
       " Text(0, 0, 'SVC_cv_2_3'),\n",
       " Text(0, 0, 'SVC_tfidf_2_3'),\n",
       " Text(0, 0, 'SVC_cv_3_3'),\n",
       " Text(0, 0, 'SVC_tfidf_3_3')]"
      ]
     },
     "execution_count": 515,
     "metadata": {},
     "output_type": "execute_result"
    },
    {
     "data": {
      "image/png": "[encoded data removed]",
      "text/plain": [
       "<Figure size 1490.4x739.44 with 1 Axes>"
      ]
     },
     "metadata": {},
     "output_type": "display_data"
    }
   ],
   "source": [
    "# Set Chart Options\n",
    "sns.set(rc={'figure.figsize':(20.7,10.27), })\n",
    "sns.set(style=\"darkgrid\")\n",
    "accuracy_chart = sns.barplot(x=\"Approach\", y=\"Accuracy\", data=ls_results_df, color=\"#7CB7A3\")\n",
    "plt.ylim(0, 100)\n",
    "accuracy_chart.axes.set_title(\"Accuracy scores for sentiment prediction across 24 different approaches - No stopwords/Lemmatized\",fontsize=30)\n",
    "accuracy_chart.set_xlabel(\"Approach\",fontsize=20)\n",
    "accuracy_chart.set_ylabel(\"Accuracy Score\",fontsize=20)\n",
    "accuracy_chart.tick_params(labelsize=12)\n",
    "accuracy_chart.set_xticklabels(accuracy_chart.get_xticklabels(),horizontalalignment='right',\n",
    "    fontweight='light',\n",
    "    fontsize='large',  rotation=45)"
   ]
  },
  {
   "cell_type": "markdown",
   "metadata": {},
   "source": [
    "### Visualising N False Positives"
   ]
  },
  {
   "cell_type": "code",
   "execution_count": 516,
   "metadata": {},
   "outputs": [
    {
     "data": {
      "text/plain": [
       "[Text(0, 0, 'logreg_cv_1_1'),\n",
       " Text(0, 0, 'logreg_tfidf_1_1'),\n",
       " Text(0, 0, 'logreg_cv_1_2'),\n",
       " Text(0, 0, 'logreg_tfidf_1_2'),\n",
       " Text(0, 0, 'logreg_cv_2_2'),\n",
       " Text(0, 0, 'logreg_tfidf_2_2'),\n",
       " Text(0, 0, 'logreg_cv_1_3'),\n",
       " Text(0, 0, 'logreg_tfidf_1_3'),\n",
       " Text(0, 0, 'logreg_cv_2_3'),\n",
       " Text(0, 0, 'logreg_tfidf_2_3'),\n",
       " Text(0, 0, 'logreg_cv_3_3'),\n",
       " Text(0, 0, 'logreg_tfidf_3_3'),\n",
       " Text(0, 0, 'SVC_cv_1_1'),\n",
       " Text(0, 0, 'SVC_tfidf_1_1'),\n",
       " Text(0, 0, 'SVC_cv_1_2'),\n",
       " Text(0, 0, 'SVC_tfidf_1_2'),\n",
       " Text(0, 0, 'SVC_cv_2_2'),\n",
       " Text(0, 0, 'SVC_tfidf_2_2'),\n",
       " Text(0, 0, 'SVC_cv_1_3'),\n",
       " Text(0, 0, 'SVC_tfidf_1_3'),\n",
       " Text(0, 0, 'SVC_cv_2_3'),\n",
       " Text(0, 0, 'SVC_tfidf_2_3'),\n",
       " Text(0, 0, 'SVC_cv_3_3'),\n",
       " Text(0, 0, 'SVC_tfidf_3_3')]"
      ]
     },
     "execution_count": 516,
     "metadata": {},
     "output_type": "execute_result"
    },
    {
     "data": {
      "image/png": "[encoded data removed]",
      "text/plain": [
       "<Figure size 1490.4x739.44 with 1 Axes>"
      ]
     },
     "metadata": {},
     "output_type": "display_data"
    }
   ],
   "source": [
    "false_positives_chart = sns.barplot(x=\"Approach\", y=\"False Positive\", data=ls_results_df, color=\"#B76E79\")\n",
    "plt.ylim(0, 150)\n",
    "false_positives_chart.axes.set_title(\"Number of false positives for sentiment prediction across 24 different approaches\",fontsize=30)\n",
    "false_positives_chart.set_xlabel(\"Approach\",fontsize=20)\n",
    "false_positives_chart.set_ylabel(\"Number of false positives\",fontsize=20)\n",
    "false_positives_chart.tick_params(labelsize=12)\n",
    "false_positives_chart.set_xticklabels(false_positives_chart.get_xticklabels(),horizontalalignment='right',\n",
    "    fontweight='light',\n",
    "    fontsize='large',  rotation=45)"
   ]
  },
  {
   "cell_type": "markdown",
   "metadata": {},
   "source": [
    "### Visualising Accuracy vs False Positives"
   ]
  },
  {
   "cell_type": "code",
   "execution_count": 518,
   "metadata": {},
   "outputs": [
    {
     "data": {
      "text/plain": [
       "<Figure size 9792x14832 with 0 Axes>"
      ]
     },
     "metadata": {},
     "output_type": "display_data"
    },
    {
     "data": {
      "image/png": "[encoded data removed]",
      "text/plain": [
       "<Figure size 478.975x360 with 1 Axes>"
      ]
     },
     "metadata": {},
     "output_type": "display_data"
    }
   ],
   "source": [
    "plt.figure(figsize=(136, 206))\n",
    "accuracy_vs_falsepositives = sns.lmplot( x=\"Accuracy\", y=\"False Positive\", data=ls_results_df, fit_reg=False, hue='Approach', legend=True)\n",
    "false_positives_chart.axes.set_title(\"Number of false positives within target identification across 10 different approaches\",fontsize=30)\n",
    "false_positives_chart.set_xlabel(\"Approach\",fontsize=20)\n",
    "false_positives_chart.set_ylabel(\"Number of false positives\",fontsize=20)\n",
    "false_positives_chart.tick_params(labelsize=12)"
   ]
  },
  {
   "cell_type": "code",
   "execution_count": null,
   "metadata": {},
   "outputs": [],
   "source": []
  }
 ],
 "metadata": {
  "kernelspec": {
   "display_name": "Python 3",
   "language": "python",
   "name": "python3"
  },
  "language_info": {
   "codemirror_mode": {
    "name": "ipython",
    "version": 3
   },
   "file_extension": ".py",
   "mimetype": "text/x-python",
   "name": "python",
   "nbconvert_exporter": "python",
   "pygments_lexer": "ipython3",
   "version": "3.7.3"
  }
 },
 "nbformat": 4,
 "nbformat_minor": 2
}

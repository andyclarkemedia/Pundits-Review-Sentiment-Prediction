{
 "cells": [
  {
   "cell_type": "markdown",
   "metadata": {},
   "source": [
    "# Vectorising the Stamford Training Dataset"
   ]
  },
  {
   "cell_type": "code",
   "execution_count": 1,
   "metadata": {},
   "outputs": [],
   "source": [
    "from sklearn.feature_extraction.text import CountVectorizer, ENGLISH_STOP_WORDS"
   ]
  },
  {
   "cell_type": "code",
   "execution_count": 2,
   "metadata": {},
   "outputs": [],
   "source": [
    "import pandas as pd\n",
    "\n",
    "pd.set_option('display.max_rows', None)\n",
    "pd.set_option('display.max_columns', None)\n",
    "pd.set_option('display.width', None)\n",
    "pd.set_option('display.max_colwidth', -1)\n",
    "\n",
    "pd.set_option('display.max_rows', None)\n",
    "pd.set_option('display.max_columns', None)\n",
    "pd.set_option('display.width', None)\n",
    "pd.set_option('display.max_colwidth', -1)"
   ]
  },
  {
   "cell_type": "code",
   "execution_count": 3,
   "metadata": {},
   "outputs": [],
   "source": [
    "from nltk.tokenize import sent_tokenize"
   ]
  },
  {
   "cell_type": "markdown",
   "metadata": {},
   "source": [
    "### Read Stamford Training Data"
   ]
  },
  {
   "cell_type": "code",
   "execution_count": 4,
   "metadata": {},
   "outputs": [],
   "source": [
    "stamford = pd.read_csv(\"stamfordtraining.csv\", header=None)"
   ]
  },
  {
   "cell_type": "code",
   "execution_count": 5,
   "metadata": {},
   "outputs": [
    {
     "data": {
      "text/html": [
       "<div>\n",
       "<style scoped>\n",
       "    .dataframe tbody tr th:only-of-type {\n",
       "        vertical-align: middle;\n",
       "    }\n",
       "\n",
       "    .dataframe tbody tr th {\n",
       "        vertical-align: top;\n",
       "    }\n",
       "\n",
       "    .dataframe thead th {\n",
       "        text-align: right;\n",
       "    }\n",
       "</style>\n",
       "<table border=\"1\" class=\"dataframe\">\n",
       "  <thead>\n",
       "    <tr style=\"text-align: right;\">\n",
       "      <th></th>\n",
       "      <th>0</th>\n",
       "      <th>1</th>\n",
       "      <th>2</th>\n",
       "      <th>3</th>\n",
       "      <th>4</th>\n",
       "      <th>5</th>\n",
       "      <th>6</th>\n",
       "      <th>7</th>\n",
       "    </tr>\n",
       "  </thead>\n",
       "  <tbody>\n",
       "    <tr>\n",
       "      <th>0</th>\n",
       "      <td>0</td>\n",
       "      <td>1467810369</td>\n",
       "      <td>Mon Apr 06 22:19:45 PDT 2009</td>\n",
       "      <td>NO_QUERY</td>\n",
       "      <td>_TheSpecialOne_</td>\n",
       "      <td>0</td>\n",
       "      <td>0</td>\n",
       "      <td>http://twitpic.com/2y1zl - Awww, that's a bummer.  You shoulda got David Carr of Third Day to do it. ;D</td>\n",
       "    </tr>\n",
       "    <tr>\n",
       "      <th>1</th>\n",
       "      <td>0</td>\n",
       "      <td>1467810672</td>\n",
       "      <td>Mon Apr 06 22:19:49 PDT 2009</td>\n",
       "      <td>NO_QUERY</td>\n",
       "      <td>scotthamilton</td>\n",
       "      <td>0</td>\n",
       "      <td>0</td>\n",
       "      <td>is upset that he can't update his Facebook by texting it... and might cry as a result  School today also. Blah!</td>\n",
       "    </tr>\n",
       "    <tr>\n",
       "      <th>2</th>\n",
       "      <td>0</td>\n",
       "      <td>1467810917</td>\n",
       "      <td>Mon Apr 06 22:19:53 PDT 2009</td>\n",
       "      <td>NO_QUERY</td>\n",
       "      <td>mattycus</td>\n",
       "      <td>0</td>\n",
       "      <td>0</td>\n",
       "      <td>I dived many times for the ball. Managed to save 50%  The rest go out of bounds</td>\n",
       "    </tr>\n",
       "    <tr>\n",
       "      <th>3</th>\n",
       "      <td>0</td>\n",
       "      <td>1467811184</td>\n",
       "      <td>Mon Apr 06 22:19:57 PDT 2009</td>\n",
       "      <td>NO_QUERY</td>\n",
       "      <td>ElleCTF</td>\n",
       "      <td>0</td>\n",
       "      <td>0</td>\n",
       "      <td>my whole body feels itchy and like its on fire</td>\n",
       "    </tr>\n",
       "    <tr>\n",
       "      <th>4</th>\n",
       "      <td>0</td>\n",
       "      <td>1467811193</td>\n",
       "      <td>Mon Apr 06 22:19:57 PDT 2009</td>\n",
       "      <td>NO_QUERY</td>\n",
       "      <td>Karoli</td>\n",
       "      <td>0</td>\n",
       "      <td>0</td>\n",
       "      <td>no, it's not behaving at all. i'm mad. why am i here? because I can't see you all over there.</td>\n",
       "    </tr>\n",
       "  </tbody>\n",
       "</table>\n",
       "</div>"
      ],
      "text/plain": [
       "   0           1                             2         3                4  5  \\\n",
       "0  0  1467810369  Mon Apr 06 22:19:45 PDT 2009  NO_QUERY  _TheSpecialOne_  0   \n",
       "1  0  1467810672  Mon Apr 06 22:19:49 PDT 2009  NO_QUERY  scotthamilton    0   \n",
       "2  0  1467810917  Mon Apr 06 22:19:53 PDT 2009  NO_QUERY  mattycus         0   \n",
       "3  0  1467811184  Mon Apr 06 22:19:57 PDT 2009  NO_QUERY  ElleCTF          0   \n",
       "4  0  1467811193  Mon Apr 06 22:19:57 PDT 2009  NO_QUERY  Karoli           0   \n",
       "\n",
       "   6  \\\n",
       "0  0   \n",
       "1  0   \n",
       "2  0   \n",
       "3  0   \n",
       "4  0   \n",
       "\n",
       "                                                                                                                 7  \n",
       "0   http://twitpic.com/2y1zl - Awww, that's a bummer.  You shoulda got David Carr of Third Day to do it. ;D         \n",
       "1  is upset that he can't update his Facebook by texting it... and might cry as a result  School today also. Blah!  \n",
       "2   I dived many times for the ball. Managed to save 50%  The rest go out of bounds                                 \n",
       "3  my whole body feels itchy and like its on fire                                                                   \n",
       "4   no, it's not behaving at all. i'm mad. why am i here? because I can't see you all over there.                   "
      ]
     },
     "execution_count": 5,
     "metadata": {},
     "output_type": "execute_result"
    }
   ],
   "source": [
    "stamford.head()"
   ]
  },
  {
   "cell_type": "code",
   "execution_count": 6,
   "metadata": {},
   "outputs": [],
   "source": [
    "stamford[8] = stamford[7].apply(lambda x: ' '.join([word for word in x.split() if word not in (ENGLISH_STOP_WORDS)]))"
   ]
  },
  {
   "cell_type": "code",
   "execution_count": 7,
   "metadata": {},
   "outputs": [],
   "source": [
    "stamford = stamford.drop(7, axis=1)"
   ]
  },
  {
   "cell_type": "markdown",
   "metadata": {},
   "source": [
    "### Fit & Transform Vectorizer"
   ]
  },
  {
   "cell_type": "code",
   "execution_count": 9,
   "metadata": {},
   "outputs": [],
   "source": [
    "cv = CountVectorizer(binary=True)"
   ]
  },
  {
   "cell_type": "code",
   "execution_count": 10,
   "metadata": {},
   "outputs": [
    {
     "data": {
      "text/plain": [
       "CountVectorizer(analyzer='word', binary=True, decode_error='strict',\n",
       "        dtype=<class 'numpy.int64'>, encoding='utf-8', input='content',\n",
       "        lowercase=True, max_df=1.0, max_features=None, min_df=1,\n",
       "        ngram_range=(1, 1), preprocessor=None, stop_words=None,\n",
       "        strip_accents=None, token_pattern='(?u)\\\\b\\\\w\\\\w+\\\\b',\n",
       "        tokenizer=None, vocabulary=None)"
      ]
     },
     "execution_count": 10,
     "metadata": {},
     "output_type": "execute_result"
    }
   ],
   "source": [
    "cv.fit(stamford[8])"
   ]
  },
  {
   "cell_type": "code",
   "execution_count": 11,
   "metadata": {},
   "outputs": [],
   "source": [
    "X = cv.transform(stamford[8])"
   ]
  },
  {
   "cell_type": "markdown",
   "metadata": {},
   "source": [
    "### Train Logistic Regression Model"
   ]
  },
  {
   "cell_type": "code",
   "execution_count": 12,
   "metadata": {},
   "outputs": [],
   "source": [
    "from sklearn.linear_model import LogisticRegression\n",
    "from sklearn.metrics import accuracy_score\n",
    "from sklearn.model_selection import train_test_split"
   ]
  },
  {
   "cell_type": "code",
   "execution_count": 13,
   "metadata": {},
   "outputs": [],
   "source": [
    "target = stamford[6]"
   ]
  },
  {
   "cell_type": "code",
   "execution_count": 14,
   "metadata": {},
   "outputs": [],
   "source": [
    "X_train, X_val, y_train, y_val = train_test_split(X, target, test_size = 0.25, random_state=123)"
   ]
  },
  {
   "cell_type": "code",
   "execution_count": 15,
   "metadata": {},
   "outputs": [],
   "source": [
    "lr = LogisticRegression(C=0.25, fit_intercept=False)"
   ]
  },
  {
   "cell_type": "code",
   "execution_count": 16,
   "metadata": {},
   "outputs": [
    {
     "name": "stderr",
     "output_type": "stream",
     "text": [
      "/anaconda3/lib/python3.7/site-packages/sklearn/linear_model/logistic.py:433: FutureWarning: Default solver will be changed to 'lbfgs' in 0.22. Specify a solver to silence this warning.\n",
      "  FutureWarning)\n"
     ]
    },
    {
     "data": {
      "text/plain": [
       "LogisticRegression(C=0.25, class_weight=None, dual=False, fit_intercept=False,\n",
       "          intercept_scaling=1, max_iter=100, multi_class='warn',\n",
       "          n_jobs=None, penalty='l2', random_state=None, solver='warn',\n",
       "          tol=0.0001, verbose=0, warm_start=False)"
      ]
     },
     "execution_count": 16,
     "metadata": {},
     "output_type": "execute_result"
    }
   ],
   "source": [
    "lr.fit(X_train, y_train)"
   ]
  },
  {
   "cell_type": "code",
   "execution_count": 17,
   "metadata": {},
   "outputs": [
    {
     "data": {
      "text/plain": [
       "array([0, 1, 1, 1, 1, 1, 1, 0, 0, 1, 0, 0, 0, 0, 1, 1, 1, 1, 0, 1, 0, 0,\n",
       "       1, 0, 1, 0, 0, 0, 0, 1, 1, 1, 1, 0, 1, 1, 1, 1, 1, 0, 0, 0, 1, 1,\n",
       "       0, 0, 1, 0, 0, 0, 0, 1, 1, 1, 0, 0, 0, 0, 1, 1, 1, 0, 0, 0, 0, 1,\n",
       "       0, 1, 0, 0, 1, 1, 0, 1, 1, 1, 0, 0, 0, 1, 0, 1, 1, 1, 1, 1, 0, 1,\n",
       "       0, 1, 1, 1, 1, 0, 1, 0, 1, 1, 0, 0])"
      ]
     },
     "execution_count": 17,
     "metadata": {},
     "output_type": "execute_result"
    }
   ],
   "source": [
    "lr.predict(X_val[0:100])"
   ]
  },
  {
   "cell_type": "markdown",
   "metadata": {},
   "source": [
    "### Print accuracy"
   ]
  },
  {
   "cell_type": "code",
   "execution_count": 18,
   "metadata": {},
   "outputs": [
    {
     "name": "stdout",
     "output_type": "stream",
     "text": [
      "Score: 0.78\n"
     ]
    }
   ],
   "source": [
    "print(\"Score: {:.2f}\".format(lr.score(X_val, y_val)))"
   ]
  },
  {
   "cell_type": "markdown",
   "metadata": {},
   "source": [
    "### Apply model to new text"
   ]
  },
  {
   "cell_type": "code",
   "execution_count": 21,
   "metadata": {},
   "outputs": [
    {
     "name": "stdout",
     "output_type": "stream",
     "text": [
      "Text prediction: [1 0]\n"
     ]
    }
   ],
   "source": [
    "text = [\"Odion Ighalo gave United the lead\", \"He smashed it into the net\"]\n",
    "\n",
    "print(\"Text prediction: {}\". format(lr.predict(cv.transform(text))))"
   ]
  },
  {
   "cell_type": "markdown",
   "metadata": {},
   "source": [
    "### Make a function out of model"
   ]
  },
  {
   "cell_type": "code",
   "execution_count": 24,
   "metadata": {},
   "outputs": [],
   "source": [
    "def sentiment(input):\n",
    "    #Tokenize the sentences\n",
    "    sentences = sent_tokenize(input)\n",
    "    \n",
    "    #Remove Stopwords\n",
    "    #no_stopwords = ' '.join([word for word in input if word not in (ENGLISH_STOP_WORDS)])\n",
    "    \n",
    "    # Predictions\n",
    "    predictions = pd.DataFrame(lr.predict_proba(cv.transform(sentences)))\n",
    "    \n",
    "    # Create DataFrame\n",
    "    predictions['sentences'] = sentences\n",
    "    \n",
    "    # Rename Cols\n",
    "    predictions = predictions.rename(columns={0: \"negative_prob\", 1: \"positive_prob\"})\n",
    "    \n",
    "    # Declare Threshold\n",
    "    threshold = 0.6\n",
    "    \n",
    "    # Sentiment List\n",
    "    sentiment_list = []\n",
    "    \n",
    "    # Determine sentiment \n",
    "    for index, row in predictions.iterrows():\n",
    "        if row['negative_prob'] > threshold:\n",
    "            sentiment_list.append(\"negative\")\n",
    "        elif row['positive_prob'] > threshold:\n",
    "            sentiment_list.append(\"positive\")\n",
    "        else:\n",
    "            sentiment_list.append(\"neutral\")\n",
    "            \n",
    "    predictions['sentiment'] = sentiment_list\n",
    "    \n",
    "    return predictions;\n"
   ]
  },
  {
   "cell_type": "code",
   "execution_count": 27,
   "metadata": {},
   "outputs": [
    {
     "data": {
      "text/html": [
       "<div>\n",
       "<style scoped>\n",
       "    .dataframe tbody tr th:only-of-type {\n",
       "        vertical-align: middle;\n",
       "    }\n",
       "\n",
       "    .dataframe tbody tr th {\n",
       "        vertical-align: top;\n",
       "    }\n",
       "\n",
       "    .dataframe thead th {\n",
       "        text-align: right;\n",
       "    }\n",
       "</style>\n",
       "<table border=\"1\" class=\"dataframe\">\n",
       "  <thead>\n",
       "    <tr style=\"text-align: right;\">\n",
       "      <th></th>\n",
       "      <th>negative_prob</th>\n",
       "      <th>positive_prob</th>\n",
       "      <th>sentences</th>\n",
       "      <th>sentiment</th>\n",
       "    </tr>\n",
       "  </thead>\n",
       "  <tbody>\n",
       "    <tr>\n",
       "      <th>0</th>\n",
       "      <td>0.030321</td>\n",
       "      <td>0.969679</td>\n",
       "      <td>It was business as usual in a comfortable victory for Bayern Munich at Union Berlin, even if the low-key, low-volume return of the Bundesliga is still a highly unusual sight to behold.</td>\n",
       "      <td>positive</td>\n",
       "    </tr>\n",
       "    <tr>\n",
       "      <th>1</th>\n",
       "      <td>0.120591</td>\n",
       "      <td>0.879409</td>\n",
       "      <td>Taking three points moved Germany’s champions four ahead of Borussia Dortmund, with a Der Klassiker meeting due on 26 May.</td>\n",
       "      <td>positive</td>\n",
       "    </tr>\n",
       "    <tr>\n",
       "      <th>2</th>\n",
       "      <td>0.062247</td>\n",
       "      <td>0.937753</td>\n",
       "      <td>Robert Lewandowski collected his customary goal with a penalty and the defender Benjamin Pavard later headed home a Joshua Kimmich corner for the second.</td>\n",
       "      <td>positive</td>\n",
       "    </tr>\n",
       "    <tr>\n",
       "      <th>3</th>\n",
       "      <td>0.687688</td>\n",
       "      <td>0.312312</td>\n",
       "      <td>Fewer dives, a missing coach and subs in stand: inside Bundesliga's return\\n Read more\\nBayern will need to find extra gears against Dortmund, highly impressive in beating Schalke 4-0 on Saturday.</td>\n",
       "      <td>negative</td>\n",
       "    </tr>\n",
       "    <tr>\n",
       "      <th>4</th>\n",
       "      <td>0.234896</td>\n",
       "      <td>0.765104</td>\n",
       "      <td>Win that and an eighth successive title will be within reach.</td>\n",
       "      <td>positive</td>\n",
       "    </tr>\n",
       "    <tr>\n",
       "      <th>5</th>\n",
       "      <td>0.480885</td>\n",
       "      <td>0.519115</td>\n",
       "      <td>“We didn’t show our best side in terms of play,” admitted the goalkeeper Manuel Neuer afterwards.</td>\n",
       "      <td>neutral</td>\n",
       "    </tr>\n",
       "    <tr>\n",
       "      <th>6</th>\n",
       "      <td>0.146007</td>\n",
       "      <td>0.853993</td>\n",
       "      <td>“But we dominated the game and deservedly take the three points home with us.”\\n\\nUnion, safely in mid-table, have performed creditably since last season’s promotion but were facing the Bundesliga’s ultimate test, and doing so without home fans among the most fervent in Germany.</td>\n",
       "      <td>positive</td>\n",
       "    </tr>\n",
       "    <tr>\n",
       "      <th>7</th>\n",
       "      <td>0.653453</td>\n",
       "      <td>0.346547</td>\n",
       "      <td>Berlin police had warned supporters to stay away but later reported that a few dozen had gathered outside the stadium.</td>\n",
       "      <td>negative</td>\n",
       "    </tr>\n",
       "    <tr>\n",
       "      <th>8</th>\n",
       "      <td>0.907272</td>\n",
       "      <td>0.092728</td>\n",
       "      <td>Also absent was the Union coach, Urs Fischer, after he broke quarantine to return home to Switzerland following a family bereavement.</td>\n",
       "      <td>negative</td>\n",
       "    </tr>\n",
       "    <tr>\n",
       "      <th>9</th>\n",
       "      <td>0.132070</td>\n",
       "      <td>0.867930</td>\n",
       "      <td>The plan he had passed on to his players was clear, though: sit back, soak up pressure and see what else might arise.</td>\n",
       "      <td>positive</td>\n",
       "    </tr>\n",
       "    <tr>\n",
       "      <th>10</th>\n",
       "      <td>0.673010</td>\n",
       "      <td>0.326990</td>\n",
       "      <td>Anthony Ujah, their Nigeria forward, fired wide in the early stages but Bayern soon settled into dominance of the limited opposition.</td>\n",
       "      <td>negative</td>\n",
       "    </tr>\n",
       "    <tr>\n",
       "      <th>11</th>\n",
       "      <td>0.474865</td>\n",
       "      <td>0.525135</td>\n",
       "      <td>They had the ball in the net in the 18th minute, only for Thomas Müller to be ruled offside after he took a final – and unnecessary – touch of a goalbound header from Serge Gnabry.</td>\n",
       "      <td>neutral</td>\n",
       "    </tr>\n",
       "    <tr>\n",
       "      <th>12</th>\n",
       "      <td>0.469320</td>\n",
       "      <td>0.530680</td>\n",
       "      <td>The VAR decision was greeted by a throaty roar from the small home contingent permitted to be inside the tight stadium set in a forest on the fringes of Germany’s capital.</td>\n",
       "      <td>neutral</td>\n",
       "    </tr>\n",
       "    <tr>\n",
       "      <th>13</th>\n",
       "      <td>0.456892</td>\n",
       "      <td>0.543108</td>\n",
       "      <td>The first half-hour saw Union offer stiff resistance, reducing Lewandowski to penalty-area scraps amid some frustration for Bayern.</td>\n",
       "      <td>neutral</td>\n",
       "    </tr>\n",
       "    <tr>\n",
       "      <th>14</th>\n",
       "      <td>0.375789</td>\n",
       "      <td>0.624211</td>\n",
       "      <td>Alphonso Davies’s high tackle on Grischa Prömel brought the Canada full-back a yellow card.</td>\n",
       "      <td>positive</td>\n",
       "    </tr>\n",
       "    <tr>\n",
       "      <th>15</th>\n",
       "      <td>0.286229</td>\n",
       "      <td>0.713771</td>\n",
       "      <td>Then came Neven Subotic’s flailing foul on Leon Goretzka, who had blindsided the Serb, and a chance from the spot that Lewandowski was never going to pass up.</td>\n",
       "      <td>positive</td>\n",
       "    </tr>\n",
       "    <tr>\n",
       "      <th>16</th>\n",
       "      <td>0.251535</td>\n",
       "      <td>0.748465</td>\n",
       "      <td>The Polish striker scored his 40th of the season, making it the fifth season in succession he has reached that tally, with a feint, a jump and a firm shot beyond his compatriot Rafal Gikiewicz.</td>\n",
       "      <td>positive</td>\n",
       "    </tr>\n",
       "    <tr>\n",
       "      <th>17</th>\n",
       "      <td>0.379765</td>\n",
       "      <td>0.620235</td>\n",
       "      <td>Bayern’s attempts on goal piled up but they struggled to reproduce the slick football and threat they had exerted in pre-lockdown performances such as their late-February 3-0 Champions League win at Chelsea.</td>\n",
       "      <td>positive</td>\n",
       "    </tr>\n",
       "    <tr>\n",
       "      <th>18</th>\n",
       "      <td>0.872585</td>\n",
       "      <td>0.127415</td>\n",
       "      <td>Fewer dives, a missing coach and subs in stand: inside Bundesliga's return\\n Read more\\nKingsley Coman, on as a second-half substitute, howled in anguish when his driven cross failed to find any takers but Pavard’s neck muscles eventually made sure of the win 10 minutes from time.</td>\n",
       "      <td>negative</td>\n",
       "    </tr>\n",
       "    <tr>\n",
       "      <th>19</th>\n",
       "      <td>0.583981</td>\n",
       "      <td>0.416019</td>\n",
       "      <td>A controlled performance with few scares suffered made it 15 wins from Bayern’s past 16 matches.</td>\n",
       "      <td>neutral</td>\n",
       "    </tr>\n",
       "    <tr>\n",
       "      <th>20</th>\n",
       "      <td>0.265688</td>\n",
       "      <td>0.734312</td>\n",
       "      <td>The Dortmund encounter will, though, be far more indicative of whether the Bundesliga title is likely to return to its perennial destination.”</td>\n",
       "      <td>positive</td>\n",
       "    </tr>\n",
       "  </tbody>\n",
       "</table>\n",
       "</div>"
      ],
      "text/plain": [
       "    negative_prob  positive_prob  \\\n",
       "0   0.030321       0.969679        \n",
       "1   0.120591       0.879409        \n",
       "2   0.062247       0.937753        \n",
       "3   0.687688       0.312312        \n",
       "4   0.234896       0.765104        \n",
       "5   0.480885       0.519115        \n",
       "6   0.146007       0.853993        \n",
       "7   0.653453       0.346547        \n",
       "8   0.907272       0.092728        \n",
       "9   0.132070       0.867930        \n",
       "10  0.673010       0.326990        \n",
       "11  0.474865       0.525135        \n",
       "12  0.469320       0.530680        \n",
       "13  0.456892       0.543108        \n",
       "14  0.375789       0.624211        \n",
       "15  0.286229       0.713771        \n",
       "16  0.251535       0.748465        \n",
       "17  0.379765       0.620235        \n",
       "18  0.872585       0.127415        \n",
       "19  0.583981       0.416019        \n",
       "20  0.265688       0.734312        \n",
       "\n",
       "                                                                                                                                                                                                                                                                                    sentences  \\\n",
       "0   It was business as usual in a comfortable victory for Bayern Munich at Union Berlin, even if the low-key, low-volume return of the Bundesliga is still a highly unusual sight to behold.                                                                                                    \n",
       "1   Taking three points moved Germany’s champions four ahead of Borussia Dortmund, with a Der Klassiker meeting due on 26 May.                                                                                                                                                                  \n",
       "2   Robert Lewandowski collected his customary goal with a penalty and the defender Benjamin Pavard later headed home a Joshua Kimmich corner for the second.                                                                                                                                   \n",
       "3   Fewer dives, a missing coach and subs in stand: inside Bundesliga's return\\n Read more\\nBayern will need to find extra gears against Dortmund, highly impressive in beating Schalke 4-0 on Saturday.                                                                                        \n",
       "4   Win that and an eighth successive title will be within reach.                                                                                                                                                                                                                               \n",
       "5   “We didn’t show our best side in terms of play,” admitted the goalkeeper Manuel Neuer afterwards.                                                                                                                                                                                           \n",
       "6   “But we dominated the game and deservedly take the three points home with us.”\\n\\nUnion, safely in mid-table, have performed creditably since last season’s promotion but were facing the Bundesliga’s ultimate test, and doing so without home fans among the most fervent in Germany.     \n",
       "7   Berlin police had warned supporters to stay away but later reported that a few dozen had gathered outside the stadium.                                                                                                                                                                      \n",
       "8   Also absent was the Union coach, Urs Fischer, after he broke quarantine to return home to Switzerland following a family bereavement.                                                                                                                                                       \n",
       "9   The plan he had passed on to his players was clear, though: sit back, soak up pressure and see what else might arise.                                                                                                                                                                       \n",
       "10  Anthony Ujah, their Nigeria forward, fired wide in the early stages but Bayern soon settled into dominance of the limited opposition.                                                                                                                                                       \n",
       "11  They had the ball in the net in the 18th minute, only for Thomas Müller to be ruled offside after he took a final – and unnecessary – touch of a goalbound header from Serge Gnabry.                                                                                                        \n",
       "12  The VAR decision was greeted by a throaty roar from the small home contingent permitted to be inside the tight stadium set in a forest on the fringes of Germany’s capital.                                                                                                                 \n",
       "13  The first half-hour saw Union offer stiff resistance, reducing Lewandowski to penalty-area scraps amid some frustration for Bayern.                                                                                                                                                         \n",
       "14  Alphonso Davies’s high tackle on Grischa Prömel brought the Canada full-back a yellow card.                                                                                                                                                                                                 \n",
       "15  Then came Neven Subotic’s flailing foul on Leon Goretzka, who had blindsided the Serb, and a chance from the spot that Lewandowski was never going to pass up.                                                                                                                              \n",
       "16  The Polish striker scored his 40th of the season, making it the fifth season in succession he has reached that tally, with a feint, a jump and a firm shot beyond his compatriot Rafal Gikiewicz.                                                                                           \n",
       "17  Bayern’s attempts on goal piled up but they struggled to reproduce the slick football and threat they had exerted in pre-lockdown performances such as their late-February 3-0 Champions League win at Chelsea.                                                                             \n",
       "18  Fewer dives, a missing coach and subs in stand: inside Bundesliga's return\\n Read more\\nKingsley Coman, on as a second-half substitute, howled in anguish when his driven cross failed to find any takers but Pavard’s neck muscles eventually made sure of the win 10 minutes from time.   \n",
       "19  A controlled performance with few scares suffered made it 15 wins from Bayern’s past 16 matches.                                                                                                                                                                                            \n",
       "20  The Dortmund encounter will, though, be far more indicative of whether the Bundesliga title is likely to return to its perennial destination.”                                                                                                                                              \n",
       "\n",
       "   sentiment  \n",
       "0   positive  \n",
       "1   positive  \n",
       "2   positive  \n",
       "3   negative  \n",
       "4   positive  \n",
       "5   neutral   \n",
       "6   positive  \n",
       "7   negative  \n",
       "8   negative  \n",
       "9   positive  \n",
       "10  negative  \n",
       "11  neutral   \n",
       "12  neutral   \n",
       "13  neutral   \n",
       "14  positive  \n",
       "15  positive  \n",
       "16  positive  \n",
       "17  positive  \n",
       "18  negative  \n",
       "19  neutral   \n",
       "20  positive  "
      ]
     },
     "execution_count": 27,
     "metadata": {},
     "output_type": "execute_result"
    }
   ],
   "source": [
    "sentiment(\"\"\"It was business as usual in a comfortable victory for Bayern Munich at Union Berlin, even if the low-key, low-volume return of the Bundesliga is still a highly unusual sight to behold.\n",
    "\n",
    "Taking three points moved Germany’s champions four ahead of Borussia Dortmund, with a Der Klassiker meeting due on 26 May. Robert Lewandowski collected his customary goal with a penalty and the defender Benjamin Pavard later headed home a Joshua Kimmich corner for the second.\n",
    "\n",
    "\n",
    "Fewer dives, a missing coach and subs in stand: inside Bundesliga's return\n",
    " Read more\n",
    "Bayern will need to find extra gears against Dortmund, highly impressive in beating Schalke 4-0 on Saturday. Win that and an eighth successive title will be within reach. “We didn’t show our best side in terms of play,” admitted the goalkeeper Manuel Neuer afterwards. “But we dominated the game and deservedly take the three points home with us.”\n",
    "\n",
    "Union, safely in mid-table, have performed creditably since last season’s promotion but were facing the Bundesliga’s ultimate test, and doing so without home fans among the most fervent in Germany. Berlin police had warned supporters to stay away but later reported that a few dozen had gathered outside the stadium.\n",
    "\n",
    "Also absent was the Union coach, Urs Fischer, after he broke quarantine to return home to Switzerland following a family bereavement. The plan he had passed on to his players was clear, though: sit back, soak up pressure and see what else might arise.\n",
    "\n",
    "\n",
    "Anthony Ujah, their Nigeria forward, fired wide in the early stages but Bayern soon settled into dominance of the limited opposition. They had the ball in the net in the 18th minute, only for Thomas Müller to be ruled offside after he took a final – and unnecessary – touch of a goalbound header from Serge Gnabry. The VAR decision was greeted by a throaty roar from the small home contingent permitted to be inside the tight stadium set in a forest on the fringes of Germany’s capital.\n",
    "\n",
    "The first half-hour saw Union offer stiff resistance, reducing Lewandowski to penalty-area scraps amid some frustration for Bayern. Alphonso Davies’s high tackle on Grischa Prömel brought the Canada full-back a yellow card. Then came Neven Subotic’s flailing foul on Leon Goretzka, who had blindsided the Serb, and a chance from the spot that Lewandowski was never going to pass up.\n",
    "\n",
    "The Polish striker scored his 40th of the season, making it the fifth season in succession he has reached that tally, with a feint, a jump and a firm shot beyond his compatriot Rafal Gikiewicz.\n",
    "\n",
    "Bayern’s attempts on goal piled up but they struggled to reproduce the slick football and threat they had exerted in pre-lockdown performances such as their late-February 3-0 Champions League win at Chelsea.\n",
    "\n",
    "\n",
    "Fewer dives, a missing coach and subs in stand: inside Bundesliga's return\n",
    " Read more\n",
    "Kingsley Coman, on as a second-half substitute, howled in anguish when his driven cross failed to find any takers but Pavard’s neck muscles eventually made sure of the win 10 minutes from time.\n",
    "\n",
    "A controlled performance with few scares suffered made it 15 wins from Bayern’s past 16 matches. The Dortmund encounter will, though, be far more indicative of whether the Bundesliga title is likely to return to its perennial destination.”\"\"\")"
   ]
  }
 ],
 "metadata": {
  "kernelspec": {
   "display_name": "Python 3",
   "language": "python",
   "name": "python3"
  },
  "language_info": {
   "codemirror_mode": {
    "name": "ipython",
    "version": 3
   },
   "file_extension": ".py",
   "mimetype": "text/x-python",
   "name": "python",
   "nbconvert_exporter": "python",
   "pygments_lexer": "ipython3",
   "version": "3.7.3"
  }
 },
 "nbformat": 4,
 "nbformat_minor": 2
}
